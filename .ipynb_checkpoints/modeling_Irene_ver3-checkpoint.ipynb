{
 "cells": [
  {
   "cell_type": "markdown",
   "metadata": {},
   "source": [
    "# Machine Learning\n",
    "\n",
    "In this file, instructions how to approach the challenge can be found."
   ]
  },
  {
   "cell_type": "markdown",
   "metadata": {},
   "source": [
    "We are going to work on different types of Machine Learning problems:\n",
    "\n",
    "- **Regression Problem**: The goal is to predict delay of flights.\n",
    "- **(Stretch) Multiclass Classification**: If the plane was delayed, we will predict what type of delay it is (will be).\n",
    "- **(Stretch) Binary Classification**: The goal is to predict if the flight will be cancelled."
   ]
  },
  {
   "cell_type": "code",
   "execution_count": null,
   "metadata": {},
   "outputs": [],
   "source": []
  },
  {
   "cell_type": "markdown",
   "metadata": {},
   "source": [
    "## Main Task: Regression Problem"
   ]
  },
  {
   "cell_type": "markdown",
   "metadata": {},
   "source": [
    "The target variable is **ARR_DELAY**. We need to be careful which columns to use and which don't. For example, DEP_DELAY is going to be the perfect predictor, but we can't use it because in real-life scenario, we want to predict the delay before the flight takes of --> We can use average delay from earlier days but not the one from the actual flight we predict.  \n",
    "\n",
    "For example, variables **CARRIER_DELAY, WEATHER_DELAY, NAS_DELAY, SECURITY_DELAY, LATE_AIRCRAFT_DELAY** shouldn't be used directly as predictors as well. However, we can create various transformations from earlier values.\n",
    "\n",
    "We will be evaluating your models by predicting the ARR_DELAY for all flights **1 week in advance**."
   ]
  },
  {
   "cell_type": "code",
   "execution_count": 1,
   "metadata": {},
   "outputs": [
    {
     "data": {
      "text/html": [
       "<div>\n",
       "<style scoped>\n",
       "    .dataframe tbody tr th:only-of-type {\n",
       "        vertical-align: middle;\n",
       "    }\n",
       "\n",
       "    .dataframe tbody tr th {\n",
       "        vertical-align: top;\n",
       "    }\n",
       "\n",
       "    .dataframe thead th {\n",
       "        text-align: right;\n",
       "    }\n",
       "</style>\n",
       "<table border=\"1\" class=\"dataframe\">\n",
       "  <thead>\n",
       "    <tr style=\"text-align: right;\">\n",
       "      <th></th>\n",
       "      <th>fl_date</th>\n",
       "      <th>mkt_unique_carrier</th>\n",
       "      <th>branded_code_share</th>\n",
       "      <th>mkt_carrier</th>\n",
       "      <th>mkt_carrier_fl_num</th>\n",
       "      <th>op_unique_carrier</th>\n",
       "      <th>tail_num</th>\n",
       "      <th>op_carrier_fl_num</th>\n",
       "      <th>origin_airport_id</th>\n",
       "      <th>origin</th>\n",
       "      <th>...</th>\n",
       "      <th>longest_add_gtime</th>\n",
       "      <th>no_name</th>\n",
       "      <th>dep_condition</th>\n",
       "      <th>arr_date</th>\n",
       "      <th>arr_condition</th>\n",
       "      <th>month</th>\n",
       "      <th>year</th>\n",
       "      <th>average_seats</th>\n",
       "      <th>average_passengers</th>\n",
       "      <th>avg_passenger_capacity_usage</th>\n",
       "    </tr>\n",
       "  </thead>\n",
       "  <tbody>\n",
       "    <tr>\n",
       "      <th>0</th>\n",
       "      <td>2019-01-01</td>\n",
       "      <td>AA</td>\n",
       "      <td>AA_CODESHARE</td>\n",
       "      <td>AA</td>\n",
       "      <td>3044</td>\n",
       "      <td>OO</td>\n",
       "      <td>N761ND</td>\n",
       "      <td>3044</td>\n",
       "      <td>13930</td>\n",
       "      <td>ORD</td>\n",
       "      <td>...</td>\n",
       "      <td>NaN</td>\n",
       "      <td>NaN</td>\n",
       "      <td>Overcast</td>\n",
       "      <td>2019-01-01</td>\n",
       "      <td>Partly cloudy</td>\n",
       "      <td>1</td>\n",
       "      <td>2019</td>\n",
       "      <td>1002.000000</td>\n",
       "      <td>777.666667</td>\n",
       "      <td>0.776114</td>\n",
       "    </tr>\n",
       "    <tr>\n",
       "      <th>1</th>\n",
       "      <td>2019-01-01</td>\n",
       "      <td>AA</td>\n",
       "      <td>AA_CODESHARE</td>\n",
       "      <td>AA</td>\n",
       "      <td>5606</td>\n",
       "      <td>OH</td>\n",
       "      <td>N575NN</td>\n",
       "      <td>5606</td>\n",
       "      <td>13577</td>\n",
       "      <td>MYR</td>\n",
       "      <td>...</td>\n",
       "      <td>NaN</td>\n",
       "      <td>NaN</td>\n",
       "      <td>Cloudy</td>\n",
       "      <td>2019-01-01</td>\n",
       "      <td>Sunny</td>\n",
       "      <td>1</td>\n",
       "      <td>2019</td>\n",
       "      <td>6327.333333</td>\n",
       "      <td>4898.333333</td>\n",
       "      <td>0.774154</td>\n",
       "    </tr>\n",
       "    <tr>\n",
       "      <th>2</th>\n",
       "      <td>2019-01-01</td>\n",
       "      <td>AA</td>\n",
       "      <td>AA_CODESHARE</td>\n",
       "      <td>AA</td>\n",
       "      <td>5607</td>\n",
       "      <td>OH</td>\n",
       "      <td>N254PS</td>\n",
       "      <td>5607</td>\n",
       "      <td>10529</td>\n",
       "      <td>BDL</td>\n",
       "      <td>...</td>\n",
       "      <td>NaN</td>\n",
       "      <td>NaN</td>\n",
       "      <td>Sunny</td>\n",
       "      <td>2019-01-01</td>\n",
       "      <td>Sunny</td>\n",
       "      <td>1</td>\n",
       "      <td>2019</td>\n",
       "      <td>3516.500000</td>\n",
       "      <td>2697.250000</td>\n",
       "      <td>0.767027</td>\n",
       "    </tr>\n",
       "    <tr>\n",
       "      <th>3</th>\n",
       "      <td>2019-01-01</td>\n",
       "      <td>AA</td>\n",
       "      <td>AA_CODESHARE</td>\n",
       "      <td>AA</td>\n",
       "      <td>5607</td>\n",
       "      <td>OH</td>\n",
       "      <td>N254PS</td>\n",
       "      <td>5607</td>\n",
       "      <td>11278</td>\n",
       "      <td>DCA</td>\n",
       "      <td>...</td>\n",
       "      <td>NaN</td>\n",
       "      <td>NaN</td>\n",
       "      <td>Sunny</td>\n",
       "      <td>2019-01-01</td>\n",
       "      <td>Sunny</td>\n",
       "      <td>1</td>\n",
       "      <td>2019</td>\n",
       "      <td>3460.000000</td>\n",
       "      <td>2494.500000</td>\n",
       "      <td>0.720954</td>\n",
       "    </tr>\n",
       "    <tr>\n",
       "      <th>4</th>\n",
       "      <td>2019-01-01</td>\n",
       "      <td>AA</td>\n",
       "      <td>AA_CODESHARE</td>\n",
       "      <td>AA</td>\n",
       "      <td>5608</td>\n",
       "      <td>OH</td>\n",
       "      <td>N710PS</td>\n",
       "      <td>5608</td>\n",
       "      <td>11278</td>\n",
       "      <td>DCA</td>\n",
       "      <td>...</td>\n",
       "      <td>NaN</td>\n",
       "      <td>NaN</td>\n",
       "      <td>Sunny</td>\n",
       "      <td>2019-01-01</td>\n",
       "      <td>Partly cloudy</td>\n",
       "      <td>1</td>\n",
       "      <td>2019</td>\n",
       "      <td>1511.000000</td>\n",
       "      <td>847.333333</td>\n",
       "      <td>0.560777</td>\n",
       "    </tr>\n",
       "  </tbody>\n",
       "</table>\n",
       "<p>5 rows × 50 columns</p>\n",
       "</div>"
      ],
      "text/plain": [
       "      fl_date mkt_unique_carrier branded_code_share mkt_carrier  \\\n",
       "0  2019-01-01                 AA       AA_CODESHARE          AA   \n",
       "1  2019-01-01                 AA       AA_CODESHARE          AA   \n",
       "2  2019-01-01                 AA       AA_CODESHARE          AA   \n",
       "3  2019-01-01                 AA       AA_CODESHARE          AA   \n",
       "4  2019-01-01                 AA       AA_CODESHARE          AA   \n",
       "\n",
       "   mkt_carrier_fl_num op_unique_carrier tail_num  op_carrier_fl_num  \\\n",
       "0                3044                OO   N761ND               3044   \n",
       "1                5606                OH   N575NN               5606   \n",
       "2                5607                OH   N254PS               5607   \n",
       "3                5607                OH   N254PS               5607   \n",
       "4                5608                OH   N710PS               5608   \n",
       "\n",
       "   origin_airport_id origin  ... longest_add_gtime  no_name dep_condition  \\\n",
       "0              13930    ORD  ...               NaN      NaN      Overcast   \n",
       "1              13577    MYR  ...               NaN      NaN        Cloudy   \n",
       "2              10529    BDL  ...               NaN      NaN         Sunny   \n",
       "3              11278    DCA  ...               NaN      NaN         Sunny   \n",
       "4              11278    DCA  ...               NaN      NaN         Sunny   \n",
       "\n",
       "     arr_date  arr_condition  month  year  average_seats  average_passengers  \\\n",
       "0  2019-01-01  Partly cloudy      1  2019    1002.000000          777.666667   \n",
       "1  2019-01-01          Sunny      1  2019    6327.333333         4898.333333   \n",
       "2  2019-01-01          Sunny      1  2019    3516.500000         2697.250000   \n",
       "3  2019-01-01          Sunny      1  2019    3460.000000         2494.500000   \n",
       "4  2019-01-01  Partly cloudy      1  2019    1511.000000          847.333333   \n",
       "\n",
       "   avg_passenger_capacity_usage  \n",
       "0                      0.776114  \n",
       "1                      0.774154  \n",
       "2                      0.767027  \n",
       "3                      0.720954  \n",
       "4                      0.560777  \n",
       "\n",
       "[5 rows x 50 columns]"
      ]
     },
     "execution_count": 1,
     "metadata": {},
     "output_type": "execute_result"
    }
   ],
   "source": [
    "import pandas as pd\n",
    "\n",
    "flights = pd.read_csv('flights_2019_passengers.csv', delimiter=',')\n",
    "flights = flights.drop('Unnamed: 0', axis=1)\n",
    "flights.head()"
   ]
  },
  {
   "cell_type": "code",
   "execution_count": 2,
   "metadata": {},
   "outputs": [
    {
     "data": {
      "text/plain": [
       "(106319, 50)"
      ]
     },
     "execution_count": 2,
     "metadata": {},
     "output_type": "execute_result"
    }
   ],
   "source": [
    "# Outlier detection \n",
    "\n",
    "# Finding the IQR\n",
    "percentile25 = flights['arr_delay'].quantile(0.25)\n",
    "percentile75 = flights['arr_delay'].quantile(0.75)\n",
    "iqr = percentile75 - percentile25\n",
    "\n",
    "# Finding upper and lower limit\n",
    "upper_limit = percentile75 + 1.5 * iqr\n",
    "lower_limit = percentile25 - 1.5 * iqr\n",
    "\n",
    "# Finding Outliers\n",
    "flights[flights['arr_delay'] > upper_limit]\n",
    "flights[flights['arr_delay'] < lower_limit]\n",
    "\n",
    "# Trimming\n",
    "flights = flights[(flights['arr_delay'] < upper_limit) & (flights['arr_delay'] > lower_limit)]\n",
    "flights.shape"
   ]
  },
  {
   "cell_type": "code",
   "execution_count": 3,
   "metadata": {},
   "outputs": [
    {
     "name": "stderr",
     "output_type": "stream",
     "text": [
      "C:\\Users\\Irene\\anaconda3\\lib\\site-packages\\seaborn\\distributions.py:2619: FutureWarning: `distplot` is a deprecated function and will be removed in a future version. Please adapt your code to use either `displot` (a figure-level function with similar flexibility) or `histplot` (an axes-level function for histograms).\n",
      "  warnings.warn(msg, FutureWarning)\n",
      "C:\\Users\\Irene\\anaconda3\\lib\\site-packages\\seaborn\\_decorators.py:36: FutureWarning: Pass the following variable as a keyword arg: x. From version 0.12, the only valid positional argument will be `data`, and passing other arguments without an explicit keyword will result in an error or misinterpretation.\n",
      "  warnings.warn(\n"
     ]
    },
    {
     "data": {
      "image/png": "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\n",
      "text/plain": [
       "<Figure size 1152x288 with 2 Axes>"
      ]
     },
     "metadata": {
      "needs_background": "light"
     },
     "output_type": "display_data"
    }
   ],
   "source": [
    "# Compare the plots after trimming\n",
    "import matplotlib.pyplot as plt \n",
    "import seaborn as sns\n",
    "\n",
    "plt.figure(figsize=(16,4))\n",
    "plt.subplot(1,2,1)\n",
    "sns.distplot(flights['arr_delay'])\n",
    "plt.subplot(1,2,2)\n",
    "sns.boxplot(flights['arr_delay'])\n",
    "\n",
    "plt.show()"
   ]
  },
  {
   "cell_type": "code",
   "execution_count": 4,
   "metadata": {},
   "outputs": [],
   "source": [
    "import datetime as dt\n",
    "flights['Month'] = pd.to_datetime(flights['fl_date']).dt.month"
   ]
  },
  {
   "cell_type": "code",
   "execution_count": 5,
   "metadata": {},
   "outputs": [
    {
     "name": "stdout",
     "output_type": "stream",
     "text": [
      "<class 'pandas.core.frame.DataFrame'>\n",
      "Int64Index: 106319 entries, 1 to 119999\n",
<<<<<<< HEAD
      "Data columns (total 16 columns):\n",
=======
      "Data columns (total 17 columns):\n",
>>>>>>> 38e9d5b11c6a9ec3e7e1a0b6195bbcaa3ae44985
      " #   Column                        Non-Null Count   Dtype  \n",
      "---  ------                        --------------   -----  \n",
      " 0   mkt_unique_carrier            106319 non-null  object \n",
      " 1   origin                        106319 non-null  object \n",
      " 2   dest                          106319 non-null  object \n",
      " 3   crs_dep_time                  106319 non-null  int64  \n",
      " 4   crs_arr_time                  106319 non-null  int64  \n",
      " 5   arr_time                      106319 non-null  float64\n",
      " 6   arr_delay                     106319 non-null  float64\n",
      " 7   crs_elapsed_time              106319 non-null  int64  \n",
      " 8   actual_elapsed_time           106319 non-null  float64\n",
      " 9   air_time                      106319 non-null  float64\n",
      " 10  distance                      106319 non-null  int64  \n",
      " 11  dep_condition                 106319 non-null  object \n",
      " 12  arr_condition                 106319 non-null  object \n",
      " 13  month                         106319 non-null  int64  \n",
<<<<<<< HEAD
      " 14  average_passengers            106319 non-null  float64\n",
      " 15  avg_passenger_capacity_usage  106319 non-null  float64\n",
      "dtypes: float64(6), int64(5), object(5)\n",
      "memory usage: 13.8+ MB\n"
=======
      " 14  year                          106319 non-null  int64  \n",
      " 15  average_passengers            106319 non-null  float64\n",
      " 16  avg_passenger_capacity_usage  106319 non-null  float64\n",
      "dtypes: float64(6), int64(6), object(5)\n",
      "memory usage: 14.6+ MB\n"
>>>>>>> 38e9d5b11c6a9ec3e7e1a0b6195bbcaa3ae44985
     ]
    }
   ],
   "source": [
    "# Dropping non-relevant columns\n",
    "\n",
    "new_flights = flights.drop(['branded_code_share','mkt_carrier','mkt_carrier_fl_num','op_unique_carrier',\n",
    "                                'cancelled','cancellation_code','diverted','dup','first_dep_time', \n",
    "                                'total_add_gtime','longest_add_gtime', 'no_name', 'origin_airport_id',\n",
    "                                'origin_city_name','dest_airport_id','dest_city_name', 'dep_time', \n",
    "                                'dep_delay','taxi_out', 'wheels_off', 'wheels_on', 'taxi_in','flights',\n",
    "                               'fl_date','tail_num','op_carrier_fl_num','arr_date','average_seats',\n",
<<<<<<< HEAD
    "                            'Month','year'], axis=1)\n",
=======
    "                            'Month'], axis=1)\n",
>>>>>>> 38e9d5b11c6a9ec3e7e1a0b6195bbcaa3ae44985
    "new_flights_delay = new_flights[['carrier_delay', 'weather_delay', 'nas_delay', 'security_delay',\n",
    "       'late_aircraft_delay']]\n",
    "new_flights = new_flights.drop(['carrier_delay', 'weather_delay', 'nas_delay', 'security_delay',\n",
    "       'late_aircraft_delay'], axis=1)\n",
    "\n",
    "new_flights.info()"
   ]
  },
  {
   "cell_type": "code",
<<<<<<< HEAD
=======
   "execution_count": null,
   "metadata": {},
   "outputs": [],
   "source": []
  },
  {
   "cell_type": "code",
>>>>>>> 38e9d5b11c6a9ec3e7e1a0b6195bbcaa3ae44985
   "execution_count": 6,
   "metadata": {},
   "outputs": [],
   "source": [
    "counts= new_flights['origin'].value_counts()\n",
<<<<<<< HEAD
    "new_flights = new_flights[~new_flights['origin'].isin(counts[counts < 100].index)] \n",
=======
    "new_flights = new_flights[~new_flights['origin'].isin(counts[counts < 50].index)] \n",
>>>>>>> 38e9d5b11c6a9ec3e7e1a0b6195bbcaa3ae44985
    "# ~ is the negation operator."
   ]
  },
  {
   "cell_type": "code",
<<<<<<< HEAD
   "execution_count": 7,
   "metadata": {},
   "outputs": [],
   "source": [
    "counts= new_flights['dest'].value_counts()\n",
    "new_flights = new_flights[~new_flights['dest'].isin(counts[counts < 100].index)] \n",
    "# ~ is the negation operator."
   ]
  },
  {
   "cell_type": "code",
   "execution_count": 8,
=======
   "execution_count": 9,
>>>>>>> 38e9d5b11c6a9ec3e7e1a0b6195bbcaa3ae44985
   "metadata": {},
   "outputs": [
    {
     "data": {
      "text/html": [
       "<div>\n",
       "<style scoped>\n",
       "    .dataframe tbody tr th:only-of-type {\n",
       "        vertical-align: middle;\n",
       "    }\n",
       "\n",
       "    .dataframe tbody tr th {\n",
       "        vertical-align: top;\n",
       "    }\n",
       "\n",
       "    .dataframe thead th {\n",
       "        text-align: right;\n",
       "    }\n",
       "</style>\n",
       "<table border=\"1\" class=\"dataframe\">\n",
       "  <thead>\n",
       "    <tr style=\"text-align: right;\">\n",
       "      <th></th>\n",
       "      <th>mkt_unique_carrier</th>\n",
       "      <th>origin</th>\n",
       "      <th>dest</th>\n",
       "      <th>crs_dep_time</th>\n",
       "      <th>crs_arr_time</th>\n",
       "      <th>arr_time</th>\n",
       "      <th>arr_delay</th>\n",
       "      <th>crs_elapsed_time</th>\n",
       "      <th>actual_elapsed_time</th>\n",
       "      <th>air_time</th>\n",
       "      <th>distance</th>\n",
       "      <th>dep_condition</th>\n",
       "      <th>arr_condition</th>\n",
       "      <th>month</th>\n",
<<<<<<< HEAD
=======
       "      <th>year</th>\n",
>>>>>>> 38e9d5b11c6a9ec3e7e1a0b6195bbcaa3ae44985
       "      <th>average_passengers</th>\n",
       "      <th>avg_passenger_capacity_usage</th>\n",
       "    </tr>\n",
       "  </thead>\n",
       "  <tbody>\n",
       "    <tr>\n",
       "      <th>0</th>\n",
       "      <td>AA</td>\n",
       "      <td>MYR</td>\n",
       "      <td>CLT</td>\n",
       "      <td>2157</td>\n",
       "      <td>2311</td>\n",
       "      <td>2308.0</td>\n",
       "      <td>-3.0</td>\n",
       "      <td>74</td>\n",
       "      <td>70.0</td>\n",
       "      <td>40.0</td>\n",
       "      <td>157</td>\n",
       "      <td>Cloudy</td>\n",
       "      <td>Sunny</td>\n",
       "      <td>1</td>\n",
<<<<<<< HEAD
=======
       "      <td>2019</td>\n",
>>>>>>> 38e9d5b11c6a9ec3e7e1a0b6195bbcaa3ae44985
       "      <td>4898.333333</td>\n",
       "      <td>0.774154</td>\n",
       "    </tr>\n",
       "    <tr>\n",
       "      <th>1</th>\n",
       "      <td>AA</td>\n",
       "      <td>BDL</td>\n",
       "      <td>DCA</td>\n",
       "      <td>1151</td>\n",
       "      <td>1325</td>\n",
       "      <td>1331.0</td>\n",
       "      <td>6.0</td>\n",
       "      <td>94</td>\n",
       "      <td>79.0</td>\n",
       "      <td>69.0</td>\n",
       "      <td>313</td>\n",
       "      <td>Sunny</td>\n",
       "      <td>Sunny</td>\n",
       "      <td>1</td>\n",
<<<<<<< HEAD
=======
       "      <td>2019</td>\n",
>>>>>>> 38e9d5b11c6a9ec3e7e1a0b6195bbcaa3ae44985
       "      <td>2697.250000</td>\n",
       "      <td>0.767027</td>\n",
       "    </tr>\n",
       "    <tr>\n",
       "      <th>2</th>\n",
       "      <td>AA</td>\n",
       "      <td>DCA</td>\n",
       "      <td>BDL</td>\n",
       "      <td>1009</td>\n",
       "      <td>1126</td>\n",
       "      <td>1140.0</td>\n",
       "      <td>14.0</td>\n",
       "      <td>77</td>\n",
       "      <td>87.0</td>\n",
       "      <td>52.0</td>\n",
       "      <td>313</td>\n",
       "      <td>Sunny</td>\n",
       "      <td>Sunny</td>\n",
       "      <td>1</td>\n",
<<<<<<< HEAD
=======
       "      <td>2019</td>\n",
>>>>>>> 38e9d5b11c6a9ec3e7e1a0b6195bbcaa3ae44985
       "      <td>2494.500000</td>\n",
       "      <td>0.720954</td>\n",
       "    </tr>\n",
       "    <tr>\n",
       "      <th>3</th>\n",
       "      <td>AA</td>\n",
       "      <td>DCA</td>\n",
       "      <td>GSP</td>\n",
       "      <td>2000</td>\n",
       "      <td>2134</td>\n",
       "      <td>2122.0</td>\n",
       "      <td>-12.0</td>\n",
       "      <td>94</td>\n",
       "      <td>87.0</td>\n",
       "      <td>72.0</td>\n",
       "      <td>396</td>\n",
       "      <td>Sunny</td>\n",
       "      <td>Partly cloudy</td>\n",
       "      <td>1</td>\n",
<<<<<<< HEAD
=======
       "      <td>2019</td>\n",
>>>>>>> 38e9d5b11c6a9ec3e7e1a0b6195bbcaa3ae44985
       "      <td>847.333333</td>\n",
       "      <td>0.560777</td>\n",
       "    </tr>\n",
       "    <tr>\n",
       "      <th>4</th>\n",
       "      <td>AA</td>\n",
       "      <td>ORF</td>\n",
       "      <td>CLT</td>\n",
       "      <td>1215</td>\n",
       "      <td>1347</td>\n",
       "      <td>1333.0</td>\n",
       "      <td>-14.0</td>\n",
       "      <td>92</td>\n",
       "      <td>88.0</td>\n",
       "      <td>66.0</td>\n",
       "      <td>290</td>\n",
       "      <td>Partly cloudy</td>\n",
       "      <td>Sunny</td>\n",
       "      <td>1</td>\n",
<<<<<<< HEAD
=======
       "      <td>2019</td>\n",
>>>>>>> 38e9d5b11c6a9ec3e7e1a0b6195bbcaa3ae44985
       "      <td>4888.750000</td>\n",
       "      <td>0.798359</td>\n",
       "    </tr>\n",
       "    <tr>\n",
       "      <th>...</th>\n",
       "      <td>...</td>\n",
       "      <td>...</td>\n",
       "      <td>...</td>\n",
       "      <td>...</td>\n",
       "      <td>...</td>\n",
       "      <td>...</td>\n",
       "      <td>...</td>\n",
       "      <td>...</td>\n",
       "      <td>...</td>\n",
       "      <td>...</td>\n",
       "      <td>...</td>\n",
       "      <td>...</td>\n",
       "      <td>...</td>\n",
       "      <td>...</td>\n",
       "      <td>...</td>\n",
       "      <td>...</td>\n",
<<<<<<< HEAD
       "    </tr>\n",
       "    <tr>\n",
       "      <th>92037</th>\n",
=======
       "      <td>...</td>\n",
       "    </tr>\n",
       "    <tr>\n",
       "      <th>102730</th>\n",
>>>>>>> 38e9d5b11c6a9ec3e7e1a0b6195bbcaa3ae44985
       "      <td>WN</td>\n",
       "      <td>SEA</td>\n",
       "      <td>SMF</td>\n",
       "      <td>2210</td>\n",
       "      <td>2355</td>\n",
       "      <td>20.0</td>\n",
       "      <td>25.0</td>\n",
       "      <td>105</td>\n",
       "      <td>110.0</td>\n",
       "      <td>85.0</td>\n",
       "      <td>605</td>\n",
       "      <td>Overcast</td>\n",
       "      <td>Moderate rain</td>\n",
       "      <td>12</td>\n",
<<<<<<< HEAD
=======
       "      <td>2019</td>\n",
>>>>>>> 38e9d5b11c6a9ec3e7e1a0b6195bbcaa3ae44985
       "      <td>3812.333333</td>\n",
       "      <td>0.778199</td>\n",
       "    </tr>\n",
       "    <tr>\n",
<<<<<<< HEAD
       "      <th>92038</th>\n",
=======
       "      <th>102731</th>\n",
>>>>>>> 38e9d5b11c6a9ec3e7e1a0b6195bbcaa3ae44985
       "      <td>WN</td>\n",
       "      <td>SEA</td>\n",
       "      <td>SMF</td>\n",
       "      <td>615</td>\n",
       "      <td>800</td>\n",
       "      <td>815.0</td>\n",
       "      <td>15.0</td>\n",
       "      <td>105</td>\n",
       "      <td>111.0</td>\n",
       "      <td>92.0</td>\n",
       "      <td>605</td>\n",
       "      <td>Overcast</td>\n",
       "      <td>Moderate rain</td>\n",
       "      <td>12</td>\n",
<<<<<<< HEAD
=======
       "      <td>2019</td>\n",
>>>>>>> 38e9d5b11c6a9ec3e7e1a0b6195bbcaa3ae44985
       "      <td>3812.333333</td>\n",
       "      <td>0.778199</td>\n",
       "    </tr>\n",
       "    <tr>\n",
<<<<<<< HEAD
       "      <th>92039</th>\n",
=======
       "      <th>102732</th>\n",
>>>>>>> 38e9d5b11c6a9ec3e7e1a0b6195bbcaa3ae44985
       "      <td>WN</td>\n",
       "      <td>SEA</td>\n",
       "      <td>STL</td>\n",
       "      <td>935</td>\n",
       "      <td>1520</td>\n",
       "      <td>1526.0</td>\n",
       "      <td>6.0</td>\n",
       "      <td>225</td>\n",
       "      <td>235.0</td>\n",
       "      <td>209.0</td>\n",
       "      <td>1709</td>\n",
       "      <td>Overcast</td>\n",
       "      <td>Blizzard</td>\n",
       "      <td>12</td>\n",
<<<<<<< HEAD
=======
       "      <td>2019</td>\n",
>>>>>>> 38e9d5b11c6a9ec3e7e1a0b6195bbcaa3ae44985
       "      <td>2591.000000</td>\n",
       "      <td>0.819004</td>\n",
       "    </tr>\n",
       "    <tr>\n",
<<<<<<< HEAD
       "      <th>92040</th>\n",
=======
       "      <th>102733</th>\n",
>>>>>>> 38e9d5b11c6a9ec3e7e1a0b6195bbcaa3ae44985
       "      <td>WN</td>\n",
       "      <td>SFO</td>\n",
       "      <td>AUS</td>\n",
       "      <td>515</td>\n",
       "      <td>1040</td>\n",
       "      <td>1018.0</td>\n",
       "      <td>-22.0</td>\n",
       "      <td>205</td>\n",
       "      <td>178.0</td>\n",
       "      <td>164.0</td>\n",
       "      <td>1504</td>\n",
       "      <td>Moderate rain</td>\n",
       "      <td>Sunny</td>\n",
       "      <td>12</td>\n",
<<<<<<< HEAD
=======
       "      <td>2019</td>\n",
>>>>>>> 38e9d5b11c6a9ec3e7e1a0b6195bbcaa3ae44985
       "      <td>2269.636364</td>\n",
       "      <td>0.904795</td>\n",
       "    </tr>\n",
       "    <tr>\n",
<<<<<<< HEAD
       "      <th>92041</th>\n",
=======
       "      <th>102734</th>\n",
>>>>>>> 38e9d5b11c6a9ec3e7e1a0b6195bbcaa3ae44985
       "      <td>WN</td>\n",
       "      <td>SFO</td>\n",
       "      <td>BUR</td>\n",
       "      <td>800</td>\n",
       "      <td>915</td>\n",
       "      <td>929.0</td>\n",
       "      <td>14.0</td>\n",
       "      <td>75</td>\n",
       "      <td>68.0</td>\n",
       "      <td>50.0</td>\n",
       "      <td>326</td>\n",
       "      <td>Moderate rain</td>\n",
       "      <td>Sunny</td>\n",
       "      <td>12</td>\n",
<<<<<<< HEAD
=======
       "      <td>2019</td>\n",
>>>>>>> 38e9d5b11c6a9ec3e7e1a0b6195bbcaa3ae44985
       "      <td>2861.500000</td>\n",
       "      <td>0.856929</td>\n",
       "    </tr>\n",
       "  </tbody>\n",
       "</table>\n",
<<<<<<< HEAD
       "<p>92042 rows × 16 columns</p>\n",
       "</div>"
      ],
      "text/plain": [
       "      mkt_unique_carrier origin dest  crs_dep_time  crs_arr_time  arr_time  \\\n",
       "0                     AA    MYR  CLT          2157          2311    2308.0   \n",
       "1                     AA    BDL  DCA          1151          1325    1331.0   \n",
       "2                     AA    DCA  BDL          1009          1126    1140.0   \n",
       "3                     AA    DCA  GSP          2000          2134    2122.0   \n",
       "4                     AA    ORF  CLT          1215          1347    1333.0   \n",
       "...                  ...    ...  ...           ...           ...       ...   \n",
       "92037                 WN    SEA  SMF          2210          2355      20.0   \n",
       "92038                 WN    SEA  SMF           615           800     815.0   \n",
       "92039                 WN    SEA  STL           935          1520    1526.0   \n",
       "92040                 WN    SFO  AUS           515          1040    1018.0   \n",
       "92041                 WN    SFO  BUR           800           915     929.0   \n",
       "\n",
       "       arr_delay  crs_elapsed_time  actual_elapsed_time  air_time  distance  \\\n",
       "0           -3.0                74                 70.0      40.0       157   \n",
       "1            6.0                94                 79.0      69.0       313   \n",
       "2           14.0                77                 87.0      52.0       313   \n",
       "3          -12.0                94                 87.0      72.0       396   \n",
       "4          -14.0                92                 88.0      66.0       290   \n",
       "...          ...               ...                  ...       ...       ...   \n",
       "92037       25.0               105                110.0      85.0       605   \n",
       "92038       15.0               105                111.0      92.0       605   \n",
       "92039        6.0               225                235.0     209.0      1709   \n",
       "92040      -22.0               205                178.0     164.0      1504   \n",
       "92041       14.0                75                 68.0      50.0       326   \n",
       "\n",
       "       dep_condition  arr_condition  month  average_passengers  \\\n",
       "0             Cloudy          Sunny      1         4898.333333   \n",
       "1              Sunny          Sunny      1         2697.250000   \n",
       "2              Sunny          Sunny      1         2494.500000   \n",
       "3              Sunny  Partly cloudy      1          847.333333   \n",
       "4      Partly cloudy          Sunny      1         4888.750000   \n",
       "...              ...            ...    ...                 ...   \n",
       "92037       Overcast  Moderate rain     12         3812.333333   \n",
       "92038       Overcast  Moderate rain     12         3812.333333   \n",
       "92039       Overcast       Blizzard     12         2591.000000   \n",
       "92040  Moderate rain          Sunny     12         2269.636364   \n",
       "92041  Moderate rain          Sunny     12         2861.500000   \n",
       "\n",
       "       avg_passenger_capacity_usage  \n",
       "0                          0.774154  \n",
       "1                          0.767027  \n",
       "2                          0.720954  \n",
       "3                          0.560777  \n",
       "4                          0.798359  \n",
       "...                             ...  \n",
       "92037                      0.778199  \n",
       "92038                      0.778199  \n",
       "92039                      0.819004  \n",
       "92040                      0.904795  \n",
       "92041                      0.856929  \n",
       "\n",
       "[92042 rows x 16 columns]"
      ]
     },
     "execution_count": 8,
=======
       "<p>102735 rows × 17 columns</p>\n",
       "</div>"
      ],
      "text/plain": [
       "       mkt_unique_carrier origin dest  crs_dep_time  crs_arr_time  arr_time  \\\n",
       "0                      AA    MYR  CLT          2157          2311    2308.0   \n",
       "1                      AA    BDL  DCA          1151          1325    1331.0   \n",
       "2                      AA    DCA  BDL          1009          1126    1140.0   \n",
       "3                      AA    DCA  GSP          2000          2134    2122.0   \n",
       "4                      AA    ORF  CLT          1215          1347    1333.0   \n",
       "...                   ...    ...  ...           ...           ...       ...   \n",
       "102730                 WN    SEA  SMF          2210          2355      20.0   \n",
       "102731                 WN    SEA  SMF           615           800     815.0   \n",
       "102732                 WN    SEA  STL           935          1520    1526.0   \n",
       "102733                 WN    SFO  AUS           515          1040    1018.0   \n",
       "102734                 WN    SFO  BUR           800           915     929.0   \n",
       "\n",
       "        arr_delay  crs_elapsed_time  actual_elapsed_time  air_time  distance  \\\n",
       "0            -3.0                74                 70.0      40.0       157   \n",
       "1             6.0                94                 79.0      69.0       313   \n",
       "2            14.0                77                 87.0      52.0       313   \n",
       "3           -12.0                94                 87.0      72.0       396   \n",
       "4           -14.0                92                 88.0      66.0       290   \n",
       "...           ...               ...                  ...       ...       ...   \n",
       "102730       25.0               105                110.0      85.0       605   \n",
       "102731       15.0               105                111.0      92.0       605   \n",
       "102732        6.0               225                235.0     209.0      1709   \n",
       "102733      -22.0               205                178.0     164.0      1504   \n",
       "102734       14.0                75                 68.0      50.0       326   \n",
       "\n",
       "        dep_condition  arr_condition  month  year  average_passengers  \\\n",
       "0              Cloudy          Sunny      1  2019         4898.333333   \n",
       "1               Sunny          Sunny      1  2019         2697.250000   \n",
       "2               Sunny          Sunny      1  2019         2494.500000   \n",
       "3               Sunny  Partly cloudy      1  2019          847.333333   \n",
       "4       Partly cloudy          Sunny      1  2019         4888.750000   \n",
       "...               ...            ...    ...   ...                 ...   \n",
       "102730       Overcast  Moderate rain     12  2019         3812.333333   \n",
       "102731       Overcast  Moderate rain     12  2019         3812.333333   \n",
       "102732       Overcast       Blizzard     12  2019         2591.000000   \n",
       "102733  Moderate rain          Sunny     12  2019         2269.636364   \n",
       "102734  Moderate rain          Sunny     12  2019         2861.500000   \n",
       "\n",
       "        avg_passenger_capacity_usage  \n",
       "0                           0.774154  \n",
       "1                           0.767027  \n",
       "2                           0.720954  \n",
       "3                           0.560777  \n",
       "4                           0.798359  \n",
       "...                              ...  \n",
       "102730                      0.778199  \n",
       "102731                      0.778199  \n",
       "102732                      0.819004  \n",
       "102733                      0.904795  \n",
       "102734                      0.856929  \n",
       "\n",
       "[102735 rows x 17 columns]"
      ]
     },
     "execution_count": 9,
>>>>>>> 38e9d5b11c6a9ec3e7e1a0b6195bbcaa3ae44985
     "metadata": {},
     "output_type": "execute_result"
    }
   ],
   "source": [
    "new_flights = new_flights.reset_index(drop=True)\n",
    "new_flights"
   ]
  },
  {
   "cell_type": "code",
<<<<<<< HEAD
   "execution_count": 9,
   "metadata": {},
   "outputs": [
    {
     "data": {
      "text/plain": [
       "\"\\n    elif row in ['Patchy rain possible','Light rain shower','Light drizzle','Light rain',\\n                                  'Patchy light rain with thunder', 'Patchy light drizzle', 'Patchy light rain']:\\n        return 'Light_rain\\n    elif row in ['Light snow', 'Light sleet', 'Patchy light snow', 'Light sleet showers',\\n                                  'Patchy sleet possible', 'Light snow showers', \\n                                  'Patchy light snow with thunder', 'Patchy snow possible']:\\n        return 'Light_snow\\n\""
      ]
     },
     "execution_count": 9,
     "metadata": {},
     "output_type": "execute_result"
    }
   ],
=======
   "execution_count": 10,
   "metadata": {},
   "outputs": [],
>>>>>>> 38e9d5b11c6a9ec3e7e1a0b6195bbcaa3ae44985
   "source": [
    "def simple_weather(row):\n",
    "    if row in ['Sunny', 'Clear']:\n",
    "        return 'Sunny'\n",
    "    \n",
    "    elif row in ['Partly cloudy','Overcast','Cloudy']:\n",
    "        return 'Cloudy'\n",
    "    \n",
    "    elif row in ['Torrential rain shower', 'Heavy rain', 'Heavy rain at times']:\n",
    "        return 'Heavy_rain'\n",
    "\n",
<<<<<<< HEAD
    "    elif row in ['Moderate rain', 'Moderate rain at times', 'Patchy rain possible',\n",
    "                 'Light rain shower','Light drizzle','Light rain',\n",
    "                 'Patchy light rain with thunder', 'Patchy light drizzle', 'Patchy light rain',\n",
    "                 'Moderate or heavy rain with thunder']:\n",
    "        return 'Light&Mod_rain'\n",
    "\n",
=======
    "    elif row in ['Moderate rain', 'Moderate rain at times',\n",
    "                                  'Moderate or heavy rain with thunder']:\n",
    "        return 'Moderate_rain'\n",
    "    \n",
    "    elif row in ['Patchy rain possible','Light rain shower','Light drizzle','Light rain',\n",
    "                                  'Patchy light rain with thunder', 'Patchy light drizzle', 'Patchy light rain']:\n",
    "        return 'Light_rain'\n",
    "    \n",
>>>>>>> 38e9d5b11c6a9ec3e7e1a0b6195bbcaa3ae44985
    "    elif row in ['Moderate or heavy freezing rain']:\n",
    "        return 'Freezing_rain'\n",
    "    \n",
    "    elif row in ['Mist','Fog', 'Freezing fog']:\n",
    "        return 'Fog'\n",
    "    \n",
    "    elif row in ['Heavy snow', 'Moderate or heavy snow showers', 'Patchy heavy snow', \n",
    "                                  'Blizzard', 'Blowing snow', 'Ice pellets']:\n",
    "        return 'Heavy_snow'\n",
    "    \n",
    "    elif row in ['Moderate snow', 'Moderate or heavy snow showers','Patchy moderate snow',\n",
<<<<<<< HEAD
    "                                  'Moderate or heavy sleet', 'Moderate or heavy snow with thunder', 'Light snow', 'Light sleet', 'Patchy light snow', 'Light sleet showers',\n",
    "                                  'Patchy sleet possible', 'Light snow showers', \n",
    "                                  'Patchy light snow with thunder', 'Patchy snow possible']:\n",
    "        return 'Light&Mod_snow'\n",
    "    \n",
    "\n",
    "    elif row in ['Thundery outbreaks possible']:\n",
    "        return 'Thunder'\n",
    "    \n",
    "'''\n",
    "    elif row in ['Patchy rain possible','Light rain shower','Light drizzle','Light rain',\n",
    "                                  'Patchy light rain with thunder', 'Patchy light drizzle', 'Patchy light rain']:\n",
    "        return 'Light_rain\n",
    "    elif row in ['Light snow', 'Light sleet', 'Patchy light snow', 'Light sleet showers',\n",
    "                                  'Patchy sleet possible', 'Light snow showers', \n",
    "                                  'Patchy light snow with thunder', 'Patchy snow possible']:\n",
    "        return 'Light_snow\n",
    "'''\n",
    "    "
   ]
  },
  {
   "cell_type": "code",
   "execution_count": 10,
   "metadata": {},
   "outputs": [
    {
     "data": {
      "text/plain": [
       "Sunny             48520\n",
       "Cloudy            26589\n",
       "Light&Mod_rain    10576\n",
       "Light&Mod_snow     1365\n",
       "Heavy_snow         1049\n",
       "Fog                 824\n",
       "Heavy_rain          277\n",
       "Thunder              65\n",
       "Freezing_rain        27\n",
       "Name: weather_origin_simple, dtype: int64"
      ]
     },
     "execution_count": 10,
     "metadata": {},
     "output_type": "execute_result"
    }
   ],
   "source": [
    "new_flights['weather_origin_simple'] = new_flights.apply(lambda row: simple_weather(row['dep_condition']), axis=1)\n",
    "new_flights['weather_origin_simple'].value_counts()"
=======
    "                                  'Moderate or heavy sleet', 'Moderate or heavy snow with thunder']:\n",
    "        return 'Moderate_snow'\n",
    "    \n",
    "    elif row in ['Light snow', 'Light sleet', 'Patchy light snow', 'Light sleet showers',\n",
    "                                  'Patchy sleet possible', 'Light snow showers', \n",
    "                                  'Patchy light snow with thunder', 'Patchy snow possible']:\n",
    "        return 'Light_snow'\n",
    "    \n",
    "    elif row in ['Thundery outbreaks possible']:\n",
    "        return 'Thunder'\n"
>>>>>>> 38e9d5b11c6a9ec3e7e1a0b6195bbcaa3ae44985
   ]
  },
  {
   "cell_type": "code",
   "execution_count": 11,
   "metadata": {},
   "outputs": [
    {
     "data": {
<<<<<<< HEAD
      "text/html": [
       "<div>\n",
       "<style scoped>\n",
       "    .dataframe tbody tr th:only-of-type {\n",
       "        vertical-align: middle;\n",
       "    }\n",
       "\n",
       "    .dataframe tbody tr th {\n",
       "        vertical-align: top;\n",
       "    }\n",
       "\n",
       "    .dataframe thead th {\n",
       "        text-align: right;\n",
       "    }\n",
       "</style>\n",
       "<table border=\"1\" class=\"dataframe\">\n",
       "  <thead>\n",
       "    <tr style=\"text-align: right;\">\n",
       "      <th></th>\n",
       "      <th>mkt_unique_carrier</th>\n",
       "      <th>origin</th>\n",
       "      <th>dest</th>\n",
       "      <th>crs_dep_time</th>\n",
       "      <th>crs_arr_time</th>\n",
       "      <th>arr_time</th>\n",
       "      <th>arr_delay</th>\n",
       "      <th>crs_elapsed_time</th>\n",
       "      <th>actual_elapsed_time</th>\n",
       "      <th>air_time</th>\n",
       "      <th>distance</th>\n",
       "      <th>dep_condition</th>\n",
       "      <th>arr_condition</th>\n",
       "      <th>month</th>\n",
       "      <th>average_passengers</th>\n",
       "      <th>avg_passenger_capacity_usage</th>\n",
       "      <th>weather_origin_simple</th>\n",
       "    </tr>\n",
       "  </thead>\n",
       "  <tbody>\n",
       "    <tr>\n",
       "      <th>0</th>\n",
       "      <td>AA</td>\n",
       "      <td>MYR</td>\n",
       "      <td>CLT</td>\n",
       "      <td>2157</td>\n",
       "      <td>2311</td>\n",
       "      <td>2308.0</td>\n",
       "      <td>-3.0</td>\n",
       "      <td>74</td>\n",
       "      <td>70.0</td>\n",
       "      <td>40.0</td>\n",
       "      <td>157</td>\n",
       "      <td>Cloudy</td>\n",
       "      <td>Sunny</td>\n",
       "      <td>1</td>\n",
       "      <td>4898.333333</td>\n",
       "      <td>0.774154</td>\n",
       "      <td>Cloudy</td>\n",
       "    </tr>\n",
       "    <tr>\n",
       "      <th>1</th>\n",
       "      <td>AA</td>\n",
       "      <td>BDL</td>\n",
       "      <td>DCA</td>\n",
       "      <td>1151</td>\n",
       "      <td>1325</td>\n",
       "      <td>1331.0</td>\n",
       "      <td>6.0</td>\n",
       "      <td>94</td>\n",
       "      <td>79.0</td>\n",
       "      <td>69.0</td>\n",
       "      <td>313</td>\n",
       "      <td>Sunny</td>\n",
       "      <td>Sunny</td>\n",
       "      <td>1</td>\n",
       "      <td>2697.250000</td>\n",
       "      <td>0.767027</td>\n",
       "      <td>Sunny</td>\n",
       "    </tr>\n",
       "    <tr>\n",
       "      <th>2</th>\n",
       "      <td>AA</td>\n",
       "      <td>DCA</td>\n",
       "      <td>BDL</td>\n",
       "      <td>1009</td>\n",
       "      <td>1126</td>\n",
       "      <td>1140.0</td>\n",
       "      <td>14.0</td>\n",
       "      <td>77</td>\n",
       "      <td>87.0</td>\n",
       "      <td>52.0</td>\n",
       "      <td>313</td>\n",
       "      <td>Sunny</td>\n",
       "      <td>Sunny</td>\n",
       "      <td>1</td>\n",
       "      <td>2494.500000</td>\n",
       "      <td>0.720954</td>\n",
       "      <td>Sunny</td>\n",
       "    </tr>\n",
       "    <tr>\n",
       "      <th>3</th>\n",
       "      <td>AA</td>\n",
       "      <td>DCA</td>\n",
       "      <td>GSP</td>\n",
       "      <td>2000</td>\n",
       "      <td>2134</td>\n",
       "      <td>2122.0</td>\n",
       "      <td>-12.0</td>\n",
       "      <td>94</td>\n",
       "      <td>87.0</td>\n",
       "      <td>72.0</td>\n",
       "      <td>396</td>\n",
       "      <td>Sunny</td>\n",
       "      <td>Partly cloudy</td>\n",
       "      <td>1</td>\n",
       "      <td>847.333333</td>\n",
       "      <td>0.560777</td>\n",
       "      <td>Sunny</td>\n",
       "    </tr>\n",
       "    <tr>\n",
       "      <th>4</th>\n",
       "      <td>AA</td>\n",
       "      <td>ORF</td>\n",
       "      <td>CLT</td>\n",
       "      <td>1215</td>\n",
       "      <td>1347</td>\n",
       "      <td>1333.0</td>\n",
       "      <td>-14.0</td>\n",
       "      <td>92</td>\n",
       "      <td>88.0</td>\n",
       "      <td>66.0</td>\n",
       "      <td>290</td>\n",
       "      <td>Partly cloudy</td>\n",
       "      <td>Sunny</td>\n",
       "      <td>1</td>\n",
       "      <td>4888.750000</td>\n",
       "      <td>0.798359</td>\n",
       "      <td>Cloudy</td>\n",
       "    </tr>\n",
       "    <tr>\n",
       "      <th>...</th>\n",
       "      <td>...</td>\n",
       "      <td>...</td>\n",
       "      <td>...</td>\n",
       "      <td>...</td>\n",
       "      <td>...</td>\n",
       "      <td>...</td>\n",
       "      <td>...</td>\n",
       "      <td>...</td>\n",
       "      <td>...</td>\n",
       "      <td>...</td>\n",
       "      <td>...</td>\n",
       "      <td>...</td>\n",
       "      <td>...</td>\n",
       "      <td>...</td>\n",
       "      <td>...</td>\n",
       "      <td>...</td>\n",
       "      <td>...</td>\n",
       "    </tr>\n",
       "    <tr>\n",
       "      <th>91945</th>\n",
       "      <td>WN</td>\n",
       "      <td>SEA</td>\n",
       "      <td>SMF</td>\n",
       "      <td>2210</td>\n",
       "      <td>2355</td>\n",
       "      <td>20.0</td>\n",
       "      <td>25.0</td>\n",
       "      <td>105</td>\n",
       "      <td>110.0</td>\n",
       "      <td>85.0</td>\n",
       "      <td>605</td>\n",
       "      <td>Overcast</td>\n",
       "      <td>Moderate rain</td>\n",
       "      <td>12</td>\n",
       "      <td>3812.333333</td>\n",
       "      <td>0.778199</td>\n",
       "      <td>Cloudy</td>\n",
       "    </tr>\n",
       "    <tr>\n",
       "      <th>91946</th>\n",
       "      <td>WN</td>\n",
       "      <td>SEA</td>\n",
       "      <td>SMF</td>\n",
       "      <td>615</td>\n",
       "      <td>800</td>\n",
       "      <td>815.0</td>\n",
       "      <td>15.0</td>\n",
       "      <td>105</td>\n",
       "      <td>111.0</td>\n",
       "      <td>92.0</td>\n",
       "      <td>605</td>\n",
       "      <td>Overcast</td>\n",
       "      <td>Moderate rain</td>\n",
       "      <td>12</td>\n",
       "      <td>3812.333333</td>\n",
       "      <td>0.778199</td>\n",
       "      <td>Cloudy</td>\n",
       "    </tr>\n",
       "    <tr>\n",
       "      <th>91947</th>\n",
       "      <td>WN</td>\n",
       "      <td>SEA</td>\n",
       "      <td>STL</td>\n",
       "      <td>935</td>\n",
       "      <td>1520</td>\n",
       "      <td>1526.0</td>\n",
       "      <td>6.0</td>\n",
       "      <td>225</td>\n",
       "      <td>235.0</td>\n",
       "      <td>209.0</td>\n",
       "      <td>1709</td>\n",
       "      <td>Overcast</td>\n",
       "      <td>Blizzard</td>\n",
       "      <td>12</td>\n",
       "      <td>2591.000000</td>\n",
       "      <td>0.819004</td>\n",
       "      <td>Cloudy</td>\n",
       "    </tr>\n",
       "    <tr>\n",
       "      <th>91948</th>\n",
       "      <td>WN</td>\n",
       "      <td>SFO</td>\n",
       "      <td>AUS</td>\n",
       "      <td>515</td>\n",
       "      <td>1040</td>\n",
       "      <td>1018.0</td>\n",
       "      <td>-22.0</td>\n",
       "      <td>205</td>\n",
       "      <td>178.0</td>\n",
       "      <td>164.0</td>\n",
       "      <td>1504</td>\n",
       "      <td>Moderate rain</td>\n",
       "      <td>Sunny</td>\n",
       "      <td>12</td>\n",
       "      <td>2269.636364</td>\n",
       "      <td>0.904795</td>\n",
       "      <td>Light&amp;Mod_rain</td>\n",
       "    </tr>\n",
       "    <tr>\n",
       "      <th>91949</th>\n",
       "      <td>WN</td>\n",
       "      <td>SFO</td>\n",
       "      <td>BUR</td>\n",
       "      <td>800</td>\n",
       "      <td>915</td>\n",
       "      <td>929.0</td>\n",
       "      <td>14.0</td>\n",
       "      <td>75</td>\n",
       "      <td>68.0</td>\n",
       "      <td>50.0</td>\n",
       "      <td>326</td>\n",
       "      <td>Moderate rain</td>\n",
       "      <td>Sunny</td>\n",
       "      <td>12</td>\n",
       "      <td>2861.500000</td>\n",
       "      <td>0.856929</td>\n",
       "      <td>Light&amp;Mod_rain</td>\n",
       "    </tr>\n",
       "  </tbody>\n",
       "</table>\n",
       "<p>91950 rows × 17 columns</p>\n",
       "</div>"
      ],
      "text/plain": [
       "      mkt_unique_carrier origin dest  crs_dep_time  crs_arr_time  arr_time  \\\n",
       "0                     AA    MYR  CLT          2157          2311    2308.0   \n",
       "1                     AA    BDL  DCA          1151          1325    1331.0   \n",
       "2                     AA    DCA  BDL          1009          1126    1140.0   \n",
       "3                     AA    DCA  GSP          2000          2134    2122.0   \n",
       "4                     AA    ORF  CLT          1215          1347    1333.0   \n",
       "...                  ...    ...  ...           ...           ...       ...   \n",
       "91945                 WN    SEA  SMF          2210          2355      20.0   \n",
       "91946                 WN    SEA  SMF           615           800     815.0   \n",
       "91947                 WN    SEA  STL           935          1520    1526.0   \n",
       "91948                 WN    SFO  AUS           515          1040    1018.0   \n",
       "91949                 WN    SFO  BUR           800           915     929.0   \n",
       "\n",
       "       arr_delay  crs_elapsed_time  actual_elapsed_time  air_time  distance  \\\n",
       "0           -3.0                74                 70.0      40.0       157   \n",
       "1            6.0                94                 79.0      69.0       313   \n",
       "2           14.0                77                 87.0      52.0       313   \n",
       "3          -12.0                94                 87.0      72.0       396   \n",
       "4          -14.0                92                 88.0      66.0       290   \n",
       "...          ...               ...                  ...       ...       ...   \n",
       "91945       25.0               105                110.0      85.0       605   \n",
       "91946       15.0               105                111.0      92.0       605   \n",
       "91947        6.0               225                235.0     209.0      1709   \n",
       "91948      -22.0               205                178.0     164.0      1504   \n",
       "91949       14.0                75                 68.0      50.0       326   \n",
       "\n",
       "       dep_condition  arr_condition  month  average_passengers  \\\n",
       "0             Cloudy          Sunny      1         4898.333333   \n",
       "1              Sunny          Sunny      1         2697.250000   \n",
       "2              Sunny          Sunny      1         2494.500000   \n",
       "3              Sunny  Partly cloudy      1          847.333333   \n",
       "4      Partly cloudy          Sunny      1         4888.750000   \n",
       "...              ...            ...    ...                 ...   \n",
       "91945       Overcast  Moderate rain     12         3812.333333   \n",
       "91946       Overcast  Moderate rain     12         3812.333333   \n",
       "91947       Overcast       Blizzard     12         2591.000000   \n",
       "91948  Moderate rain          Sunny     12         2269.636364   \n",
       "91949  Moderate rain          Sunny     12         2861.500000   \n",
       "\n",
       "       avg_passenger_capacity_usage weather_origin_simple  \n",
       "0                          0.774154                Cloudy  \n",
       "1                          0.767027                 Sunny  \n",
       "2                          0.720954                 Sunny  \n",
       "3                          0.560777                 Sunny  \n",
       "4                          0.798359                Cloudy  \n",
       "...                             ...                   ...  \n",
       "91945                      0.778199                Cloudy  \n",
       "91946                      0.778199                Cloudy  \n",
       "91947                      0.819004                Cloudy  \n",
       "91948                      0.904795        Light&Mod_rain  \n",
       "91949                      0.856929        Light&Mod_rain  \n",
       "\n",
       "[91950 rows x 17 columns]"
=======
      "text/plain": [
       "Sunny            53689\n",
       "Cloudy           29967\n",
       "Light_rain       10855\n",
       "Heavy_snow        1209\n",
       "Moderate_rain     1107\n",
       "Light_snow        1099\n",
       "Fog                894\n",
       "Moderate_snow      408\n",
       "Heavy_rain         297\n",
       "Thunder             87\n",
       "Freezing_rain       27\n",
       "Name: wt_origin_simple, dtype: int64"
>>>>>>> 38e9d5b11c6a9ec3e7e1a0b6195bbcaa3ae44985
      ]
     },
     "execution_count": 11,
     "metadata": {},
     "output_type": "execute_result"
    }
   ],
   "source": [
<<<<<<< HEAD
    "wt_counts= new_flights['weather_origin_simple'].value_counts()\n",
    "new_flights = new_flights[~new_flights['weather_origin_simple'].isin(wt_counts[wt_counts < 100].index)] \n",
    "# ~ is the negation operator.\n",
    "new_flights = new_flights.reset_index(drop=True)\n",
    "new_flights"
=======
    "new_flights['wt_origin_simple'] = new_flights.apply(lambda row: simple_weather(row['dep_condition']), axis=1)\n",
    "new_flights['wt_origin_simple'].value_counts()"
>>>>>>> 38e9d5b11c6a9ec3e7e1a0b6195bbcaa3ae44985
   ]
  },
  {
   "cell_type": "code",
   "execution_count": 12,
   "metadata": {},
   "outputs": [
    {
     "data": {
      "text/plain": [
<<<<<<< HEAD
       "Sunny             47951\n",
       "Cloudy            26649\n",
       "Light&Mod_rain    10759\n",
       "Light&Mod_snow     1394\n",
       "Heavy_snow         1349\n",
       "Fog                 835\n",
       "Heavy_rain          225\n",
       "Thunder              88\n",
       "Freezing_rain        28\n",
       "Name: weather_dest_simple, dtype: int64"
=======
       "Sunny            53167\n",
       "Cloudy           29900\n",
       "Light_rain       10972\n",
       "Heavy_snow        1546\n",
       "Light_snow        1176\n",
       "Moderate_rain     1166\n",
       "Fog                914\n",
       "Moderate_snow      453\n",
       "Heavy_rain         274\n",
       "Thunder            117\n",
       "Freezing_rain       28\n",
       "Name: wt_dest_simple, dtype: int64"
>>>>>>> 38e9d5b11c6a9ec3e7e1a0b6195bbcaa3ae44985
      ]
     },
     "execution_count": 12,
     "metadata": {},
     "output_type": "execute_result"
    }
   ],
   "source": [
<<<<<<< HEAD
    "new_flights['weather_dest_simple'] = new_flights.apply(lambda row: simple_weather(row['arr_condition']), axis=1)\n",
    "new_flights['weather_dest_simple'].value_counts()"
   ]
  },
  {
   "cell_type": "code",
   "execution_count": 13,
   "metadata": {},
   "outputs": [
    {
     "data": {
      "text/html": [
       "<div>\n",
       "<style scoped>\n",
       "    .dataframe tbody tr th:only-of-type {\n",
       "        vertical-align: middle;\n",
       "    }\n",
       "\n",
       "    .dataframe tbody tr th {\n",
       "        vertical-align: top;\n",
       "    }\n",
       "\n",
       "    .dataframe thead th {\n",
       "        text-align: right;\n",
       "    }\n",
       "</style>\n",
       "<table border=\"1\" class=\"dataframe\">\n",
       "  <thead>\n",
       "    <tr style=\"text-align: right;\">\n",
       "      <th></th>\n",
       "      <th>mkt_unique_carrier</th>\n",
       "      <th>origin</th>\n",
       "      <th>dest</th>\n",
       "      <th>crs_dep_time</th>\n",
       "      <th>crs_arr_time</th>\n",
       "      <th>arr_time</th>\n",
       "      <th>arr_delay</th>\n",
       "      <th>crs_elapsed_time</th>\n",
       "      <th>actual_elapsed_time</th>\n",
       "      <th>air_time</th>\n",
       "      <th>distance</th>\n",
       "      <th>dep_condition</th>\n",
       "      <th>arr_condition</th>\n",
       "      <th>month</th>\n",
       "      <th>average_passengers</th>\n",
       "      <th>avg_passenger_capacity_usage</th>\n",
       "      <th>weather_origin_simple</th>\n",
       "      <th>weather_dest_simple</th>\n",
       "    </tr>\n",
       "  </thead>\n",
       "  <tbody>\n",
       "    <tr>\n",
       "      <th>0</th>\n",
       "      <td>AA</td>\n",
       "      <td>MYR</td>\n",
       "      <td>CLT</td>\n",
       "      <td>2157</td>\n",
       "      <td>2311</td>\n",
       "      <td>2308.0</td>\n",
       "      <td>-3.0</td>\n",
       "      <td>74</td>\n",
       "      <td>70.0</td>\n",
       "      <td>40.0</td>\n",
       "      <td>157</td>\n",
       "      <td>Cloudy</td>\n",
       "      <td>Sunny</td>\n",
       "      <td>1</td>\n",
       "      <td>4898.333333</td>\n",
       "      <td>0.774154</td>\n",
       "      <td>Cloudy</td>\n",
       "      <td>Sunny</td>\n",
       "    </tr>\n",
       "    <tr>\n",
       "      <th>1</th>\n",
       "      <td>AA</td>\n",
       "      <td>BDL</td>\n",
       "      <td>DCA</td>\n",
       "      <td>1151</td>\n",
       "      <td>1325</td>\n",
       "      <td>1331.0</td>\n",
       "      <td>6.0</td>\n",
       "      <td>94</td>\n",
       "      <td>79.0</td>\n",
       "      <td>69.0</td>\n",
       "      <td>313</td>\n",
       "      <td>Sunny</td>\n",
       "      <td>Sunny</td>\n",
       "      <td>1</td>\n",
       "      <td>2697.250000</td>\n",
       "      <td>0.767027</td>\n",
       "      <td>Sunny</td>\n",
       "      <td>Sunny</td>\n",
       "    </tr>\n",
       "    <tr>\n",
       "      <th>2</th>\n",
       "      <td>AA</td>\n",
       "      <td>DCA</td>\n",
       "      <td>BDL</td>\n",
       "      <td>1009</td>\n",
       "      <td>1126</td>\n",
       "      <td>1140.0</td>\n",
       "      <td>14.0</td>\n",
       "      <td>77</td>\n",
       "      <td>87.0</td>\n",
       "      <td>52.0</td>\n",
       "      <td>313</td>\n",
       "      <td>Sunny</td>\n",
       "      <td>Sunny</td>\n",
       "      <td>1</td>\n",
       "      <td>2494.500000</td>\n",
       "      <td>0.720954</td>\n",
       "      <td>Sunny</td>\n",
       "      <td>Sunny</td>\n",
       "    </tr>\n",
       "    <tr>\n",
       "      <th>3</th>\n",
       "      <td>AA</td>\n",
       "      <td>DCA</td>\n",
       "      <td>GSP</td>\n",
       "      <td>2000</td>\n",
       "      <td>2134</td>\n",
       "      <td>2122.0</td>\n",
       "      <td>-12.0</td>\n",
       "      <td>94</td>\n",
       "      <td>87.0</td>\n",
       "      <td>72.0</td>\n",
       "      <td>396</td>\n",
       "      <td>Sunny</td>\n",
       "      <td>Partly cloudy</td>\n",
       "      <td>1</td>\n",
       "      <td>847.333333</td>\n",
       "      <td>0.560777</td>\n",
       "      <td>Sunny</td>\n",
       "      <td>Cloudy</td>\n",
       "    </tr>\n",
       "    <tr>\n",
       "      <th>4</th>\n",
       "      <td>AA</td>\n",
       "      <td>ORF</td>\n",
       "      <td>CLT</td>\n",
       "      <td>1215</td>\n",
       "      <td>1347</td>\n",
       "      <td>1333.0</td>\n",
       "      <td>-14.0</td>\n",
       "      <td>92</td>\n",
       "      <td>88.0</td>\n",
       "      <td>66.0</td>\n",
       "      <td>290</td>\n",
       "      <td>Partly cloudy</td>\n",
       "      <td>Sunny</td>\n",
       "      <td>1</td>\n",
       "      <td>4888.750000</td>\n",
       "      <td>0.798359</td>\n",
       "      <td>Cloudy</td>\n",
       "      <td>Sunny</td>\n",
       "    </tr>\n",
       "    <tr>\n",
       "      <th>...</th>\n",
       "      <td>...</td>\n",
       "      <td>...</td>\n",
       "      <td>...</td>\n",
       "      <td>...</td>\n",
       "      <td>...</td>\n",
       "      <td>...</td>\n",
       "      <td>...</td>\n",
       "      <td>...</td>\n",
       "      <td>...</td>\n",
       "      <td>...</td>\n",
       "      <td>...</td>\n",
       "      <td>...</td>\n",
       "      <td>...</td>\n",
       "      <td>...</td>\n",
       "      <td>...</td>\n",
       "      <td>...</td>\n",
       "      <td>...</td>\n",
       "      <td>...</td>\n",
       "    </tr>\n",
       "    <tr>\n",
       "      <th>91829</th>\n",
       "      <td>WN</td>\n",
       "      <td>SEA</td>\n",
       "      <td>SMF</td>\n",
       "      <td>2210</td>\n",
       "      <td>2355</td>\n",
       "      <td>20.0</td>\n",
       "      <td>25.0</td>\n",
       "      <td>105</td>\n",
       "      <td>110.0</td>\n",
       "      <td>85.0</td>\n",
       "      <td>605</td>\n",
       "      <td>Overcast</td>\n",
       "      <td>Moderate rain</td>\n",
       "      <td>12</td>\n",
       "      <td>3812.333333</td>\n",
       "      <td>0.778199</td>\n",
       "      <td>Cloudy</td>\n",
       "      <td>Light&amp;Mod_rain</td>\n",
       "    </tr>\n",
       "    <tr>\n",
       "      <th>91830</th>\n",
       "      <td>WN</td>\n",
       "      <td>SEA</td>\n",
       "      <td>SMF</td>\n",
       "      <td>615</td>\n",
       "      <td>800</td>\n",
       "      <td>815.0</td>\n",
       "      <td>15.0</td>\n",
       "      <td>105</td>\n",
       "      <td>111.0</td>\n",
       "      <td>92.0</td>\n",
       "      <td>605</td>\n",
       "      <td>Overcast</td>\n",
       "      <td>Moderate rain</td>\n",
       "      <td>12</td>\n",
       "      <td>3812.333333</td>\n",
       "      <td>0.778199</td>\n",
       "      <td>Cloudy</td>\n",
       "      <td>Light&amp;Mod_rain</td>\n",
       "    </tr>\n",
       "    <tr>\n",
       "      <th>91831</th>\n",
       "      <td>WN</td>\n",
       "      <td>SEA</td>\n",
       "      <td>STL</td>\n",
       "      <td>935</td>\n",
       "      <td>1520</td>\n",
       "      <td>1526.0</td>\n",
       "      <td>6.0</td>\n",
       "      <td>225</td>\n",
       "      <td>235.0</td>\n",
       "      <td>209.0</td>\n",
       "      <td>1709</td>\n",
       "      <td>Overcast</td>\n",
       "      <td>Blizzard</td>\n",
       "      <td>12</td>\n",
       "      <td>2591.000000</td>\n",
       "      <td>0.819004</td>\n",
       "      <td>Cloudy</td>\n",
       "      <td>Heavy_snow</td>\n",
       "    </tr>\n",
       "    <tr>\n",
       "      <th>91832</th>\n",
       "      <td>WN</td>\n",
       "      <td>SFO</td>\n",
       "      <td>AUS</td>\n",
       "      <td>515</td>\n",
       "      <td>1040</td>\n",
       "      <td>1018.0</td>\n",
       "      <td>-22.0</td>\n",
       "      <td>205</td>\n",
       "      <td>178.0</td>\n",
       "      <td>164.0</td>\n",
       "      <td>1504</td>\n",
       "      <td>Moderate rain</td>\n",
       "      <td>Sunny</td>\n",
       "      <td>12</td>\n",
       "      <td>2269.636364</td>\n",
       "      <td>0.904795</td>\n",
       "      <td>Light&amp;Mod_rain</td>\n",
       "      <td>Sunny</td>\n",
       "    </tr>\n",
       "    <tr>\n",
       "      <th>91833</th>\n",
       "      <td>WN</td>\n",
       "      <td>SFO</td>\n",
       "      <td>BUR</td>\n",
       "      <td>800</td>\n",
       "      <td>915</td>\n",
       "      <td>929.0</td>\n",
       "      <td>14.0</td>\n",
       "      <td>75</td>\n",
       "      <td>68.0</td>\n",
       "      <td>50.0</td>\n",
       "      <td>326</td>\n",
       "      <td>Moderate rain</td>\n",
       "      <td>Sunny</td>\n",
       "      <td>12</td>\n",
       "      <td>2861.500000</td>\n",
       "      <td>0.856929</td>\n",
       "      <td>Light&amp;Mod_rain</td>\n",
       "      <td>Sunny</td>\n",
       "    </tr>\n",
       "  </tbody>\n",
       "</table>\n",
       "<p>91834 rows × 18 columns</p>\n",
       "</div>"
      ],
      "text/plain": [
       "      mkt_unique_carrier origin dest  crs_dep_time  crs_arr_time  arr_time  \\\n",
       "0                     AA    MYR  CLT          2157          2311    2308.0   \n",
       "1                     AA    BDL  DCA          1151          1325    1331.0   \n",
       "2                     AA    DCA  BDL          1009          1126    1140.0   \n",
       "3                     AA    DCA  GSP          2000          2134    2122.0   \n",
       "4                     AA    ORF  CLT          1215          1347    1333.0   \n",
       "...                  ...    ...  ...           ...           ...       ...   \n",
       "91829                 WN    SEA  SMF          2210          2355      20.0   \n",
       "91830                 WN    SEA  SMF           615           800     815.0   \n",
       "91831                 WN    SEA  STL           935          1520    1526.0   \n",
       "91832                 WN    SFO  AUS           515          1040    1018.0   \n",
       "91833                 WN    SFO  BUR           800           915     929.0   \n",
       "\n",
       "       arr_delay  crs_elapsed_time  actual_elapsed_time  air_time  distance  \\\n",
       "0           -3.0                74                 70.0      40.0       157   \n",
       "1            6.0                94                 79.0      69.0       313   \n",
       "2           14.0                77                 87.0      52.0       313   \n",
       "3          -12.0                94                 87.0      72.0       396   \n",
       "4          -14.0                92                 88.0      66.0       290   \n",
       "...          ...               ...                  ...       ...       ...   \n",
       "91829       25.0               105                110.0      85.0       605   \n",
       "91830       15.0               105                111.0      92.0       605   \n",
       "91831        6.0               225                235.0     209.0      1709   \n",
       "91832      -22.0               205                178.0     164.0      1504   \n",
       "91833       14.0                75                 68.0      50.0       326   \n",
       "\n",
       "       dep_condition  arr_condition  month  average_passengers  \\\n",
       "0             Cloudy          Sunny      1         4898.333333   \n",
       "1              Sunny          Sunny      1         2697.250000   \n",
       "2              Sunny          Sunny      1         2494.500000   \n",
       "3              Sunny  Partly cloudy      1          847.333333   \n",
       "4      Partly cloudy          Sunny      1         4888.750000   \n",
       "...              ...            ...    ...                 ...   \n",
       "91829       Overcast  Moderate rain     12         3812.333333   \n",
       "91830       Overcast  Moderate rain     12         3812.333333   \n",
       "91831       Overcast       Blizzard     12         2591.000000   \n",
       "91832  Moderate rain          Sunny     12         2269.636364   \n",
       "91833  Moderate rain          Sunny     12         2861.500000   \n",
       "\n",
       "       avg_passenger_capacity_usage weather_origin_simple weather_dest_simple  \n",
       "0                          0.774154                Cloudy               Sunny  \n",
       "1                          0.767027                 Sunny               Sunny  \n",
       "2                          0.720954                 Sunny               Sunny  \n",
       "3                          0.560777                 Sunny              Cloudy  \n",
       "4                          0.798359                Cloudy               Sunny  \n",
       "...                             ...                   ...                 ...  \n",
       "91829                      0.778199                Cloudy      Light&Mod_rain  \n",
       "91830                      0.778199                Cloudy      Light&Mod_rain  \n",
       "91831                      0.819004                Cloudy          Heavy_snow  \n",
       "91832                      0.904795        Light&Mod_rain               Sunny  \n",
       "91833                      0.856929        Light&Mod_rain               Sunny  \n",
       "\n",
       "[91834 rows x 18 columns]"
      ]
     },
     "execution_count": 13,
     "metadata": {},
     "output_type": "execute_result"
    }
   ],
   "source": [
    "wt_counts= new_flights['weather_dest_simple'].value_counts()\n",
    "new_flights = new_flights[~new_flights['weather_dest_simple'].isin(wt_counts[wt_counts < 100].index)] \n",
    "# ~ is the negation operator.\n",
    "new_flights = new_flights.reset_index(drop=True)\n",
    "new_flights"
=======
    "new_flights['wt_dest_simple'] = new_flights.apply(lambda row: simple_weather(row['arr_condition']), axis=1)\n",
    "new_flights['wt_dest_simple'].value_counts()"
>>>>>>> 38e9d5b11c6a9ec3e7e1a0b6195bbcaa3ae44985
   ]
  },
  {
   "cell_type": "code",
   "execution_count": null,
   "metadata": {},
   "outputs": [],
   "source": []
  },
  {
   "cell_type": "markdown",
   "metadata": {},
   "source": [
    "### Feature Engineering"
   ]
  },
  {
   "cell_type": "markdown",
   "metadata": {},
   "source": [
    "Feature engineering will play a crucial role in this problems. We have only very little attributes so we need to create some features that will have some predictive power.\n",
    "\n",
    "- weather: we can use some weather API to look for the weather in time of the scheduled departure and scheduled arrival.\n",
    "- statistics (avg, mean, median, std, min, max...): we can take a look at previous delays and compute descriptive statistics\n",
    "- airports encoding: we need to think about what to do with the airports and other categorical variables\n",
    "- time of the day: the delay probably depends on the airport traffic which varies during the day.\n",
    "- airport traffic\n",
    "- unsupervised learning as feature engineering?\n",
    "- **what are the additional options?**: Think about what we could do more to improve the model."
   ]
  },
  {
   "cell_type": "code",
<<<<<<< HEAD
   "execution_count": null,
   "metadata": {},
   "outputs": [],
   "source": []
  },
  {
   "cell_type": "code",
   "execution_count": 14,
   "metadata": {},
   "outputs": [
    {
     "data": {
      "text/plain": [
       "'\\nfrom pandas_profiling import ProfileReport\\nprofile = ProfileReport(new_flights, title =\"Pandas Profiling Report\")\\nprofile\\n'"
      ]
     },
     "execution_count": 14,
     "metadata": {},
     "output_type": "execute_result"
    }
   ],
   "source": [
    "'''\n",
    "from pandas_profiling import ProfileReport\n",
    "profile = ProfileReport(new_flights, title =\"Pandas Profiling Report\")\n",
    "profile\n",
    "'''"
=======
   "execution_count": 13,
   "metadata": {},
   "outputs": [],
   "source": [
    "# One hot encoding for origin and unique_carrier and weather\n",
    "# are these too many columns now? - to discuss\n",
    "\n",
    "'''#not much relevance in origin and arrival delay(p-value is high) in linear regression?'''\n",
    "onehot_origin = pd.get_dummies(new_flights['origin'])\n",
    "new_flights = new_flights.drop('origin', axis=1)\n",
    "new_flights = new_flights.join(onehot_origin)\n",
    "new_flights = new_flights.drop('dest', axis=1)\n",
    "\n",
    "onehot_carrier = pd.get_dummies(new_flights['mkt_unique_carrier'])\n",
    "new_flights = new_flights.drop('mkt_unique_carrier', axis=1)\n",
    "new_flights = new_flights.join(onehot_carrier)\n",
    "\n",
    "onehot_weather = pd.get_dummies(new_flights['wt_origin_simple'])\n",
    "new_flights = new_flights.drop(['wt_origin_simple','dep_condition','wt_dest_simple'], axis=1)\n",
    "new_flights = new_flights.join(onehot_weather)\n"
>>>>>>> 38e9d5b11c6a9ec3e7e1a0b6195bbcaa3ae44985
   ]
  },
  {
   "cell_type": "code",
   "execution_count": 14,
<<<<<<< HEAD
   "metadata": {
    "scrolled": true
   },
=======
   "metadata": {},
>>>>>>> 38e9d5b11c6a9ec3e7e1a0b6195bbcaa3ae44985
   "outputs": [
    {
     "name": "stdout",
     "output_type": "stream",
     "text": [
      "<class 'pandas.core.frame.DataFrame'>\n",
<<<<<<< HEAD
      "RangeIndex: 91834 entries, 0 to 91833\n",
      "Data columns (total 18 columns):\n",
      " #   Column                        Non-Null Count  Dtype  \n",
      "---  ------                        --------------  -----  \n",
      " 0   mkt_unique_carrier            91834 non-null  object \n",
      " 1   origin                        91834 non-null  object \n",
      " 2   dest                          91834 non-null  object \n",
      " 3   crs_dep_time                  91834 non-null  int64  \n",
      " 4   crs_arr_time                  91834 non-null  int64  \n",
      " 5   arr_time                      91834 non-null  float64\n",
      " 6   arr_delay                     91834 non-null  float64\n",
      " 7   crs_elapsed_time              91834 non-null  int64  \n",
      " 8   actual_elapsed_time           91834 non-null  float64\n",
      " 9   air_time                      91834 non-null  float64\n",
      " 10  distance                      91834 non-null  int64  \n",
      " 11  dep_condition                 91834 non-null  object \n",
      " 12  arr_condition                 91834 non-null  object \n",
      " 13  month                         91834 non-null  int64  \n",
      " 14  average_passengers            91834 non-null  float64\n",
      " 15  avg_passenger_capacity_usage  91834 non-null  float64\n",
      " 16  weather_origin_simple         89111 non-null  object \n",
      " 17  weather_dest_simple           89162 non-null  object \n",
      "dtypes: float64(6), int64(5), object(7)\n",
      "memory usage: 12.6+ MB\n"
=======
      "RangeIndex: 102735 entries, 0 to 102734\n",
      "Columns: 200 entries, crs_dep_time to Thunder\n",
      "dtypes: float64(6), int64(6), object(1), uint8(187)\n",
      "memory usage: 28.5+ MB\n"
>>>>>>> 38e9d5b11c6a9ec3e7e1a0b6195bbcaa3ae44985
     ]
    }
   ],
   "source": [
    "new_flights.info()"
   ]
  },
  {
   "cell_type": "code",
<<<<<<< HEAD
   "execution_count": 15,
   "metadata": {},
   "outputs": [],
   "source": [
    "y = new_flights['arr_delay']\n",
    "X_category = new_flights[['mkt_unique_carrier','weather_origin_simple','weather_dest_simple','origin','dest']]\n",
    "X = new_flights.drop(['arr_delay','mkt_unique_carrier','origin','dest','dep_condition','arr_condition','weather_origin_simple','weather_dest_simple'], axis=1)"
   ]
  },
  {
   "cell_type": "code",
   "execution_count": 16,
   "metadata": {},
   "outputs": [],
   "source": [
    "X_col = X.columns"
   ]
  },
  {
   "cell_type": "code",
   "execution_count": 17,
   "metadata": {},
   "outputs": [],
   "source": [
    "from sklearn.preprocessing import StandardScaler\n",
    "X_scaled = StandardScaler().fit_transform(X)\n"
   ]
  },
  {
   "cell_type": "code",
   "execution_count": 18,
   "metadata": {},
   "outputs": [],
   "source": [
    "# transforming an array back to a data-frame preserves column labels\n",
    "X_scaled = pd.DataFrame(X_scaled, columns = X_col)"
   ]
=======
   "execution_count": null,
   "metadata": {},
   "outputs": [],
   "source": []
  },
  {
   "cell_type": "code",
   "execution_count": null,
   "metadata": {},
   "outputs": [],
   "source": []
>>>>>>> 38e9d5b11c6a9ec3e7e1a0b6195bbcaa3ae44985
  },
  {
   "cell_type": "code",
   "execution_count": 19,
   "metadata": {},
   "outputs": [],
   "source": [
<<<<<<< HEAD
    "X_scaled = X_scaled.join(X_category)"
=======
    "new_flights = new_flights.drop('arr_condition', axis=1)"
>>>>>>> 38e9d5b11c6a9ec3e7e1a0b6195bbcaa3ae44985
   ]
  },
  {
   "cell_type": "code",
   "execution_count": 20,
   "metadata": {},
<<<<<<< HEAD
=======
   "outputs": [],
   "source": [
    "y = new_flights['arr_delay']\n",
    "X = new_flights.drop('arr_delay', axis=1)"
   ]
  },
  {
   "cell_type": "code",
   "execution_count": 21,
   "metadata": {},
>>>>>>> 38e9d5b11c6a9ec3e7e1a0b6195bbcaa3ae44985
   "outputs": [
    {
     "data": {
      "text/html": [
       "<div>\n",
       "<style scoped>\n",
       "    .dataframe tbody tr th:only-of-type {\n",
       "        vertical-align: middle;\n",
       "    }\n",
       "\n",
       "    .dataframe tbody tr th {\n",
       "        vertical-align: top;\n",
       "    }\n",
       "\n",
       "    .dataframe thead th {\n",
       "        text-align: right;\n",
       "    }\n",
       "</style>\n",
       "<table border=\"1\" class=\"dataframe\">\n",
       "  <thead>\n",
       "    <tr style=\"text-align: right;\">\n",
       "      <th></th>\n",
       "      <th>crs_dep_time</th>\n",
       "      <th>crs_arr_time</th>\n",
       "      <th>arr_time</th>\n",
       "      <th>crs_elapsed_time</th>\n",
       "      <th>actual_elapsed_time</th>\n",
       "      <th>air_time</th>\n",
       "      <th>distance</th>\n",
       "      <th>month</th>\n",
<<<<<<< HEAD
       "      <th>average_passengers</th>\n",
       "      <th>avg_passenger_capacity_usage</th>\n",
       "      <th>mkt_unique_carrier</th>\n",
       "      <th>weather_origin_simple</th>\n",
       "      <th>weather_dest_simple</th>\n",
       "      <th>origin</th>\n",
       "      <th>dest</th>\n",
=======
       "      <th>year</th>\n",
       "      <th>average_passengers</th>\n",
       "      <th>...</th>\n",
       "      <th>Fog</th>\n",
       "      <th>Freezing_rain</th>\n",
       "      <th>Heavy_rain</th>\n",
       "      <th>Heavy_snow</th>\n",
       "      <th>Light_rain</th>\n",
       "      <th>Light_snow</th>\n",
       "      <th>Moderate_rain</th>\n",
       "      <th>Moderate_snow</th>\n",
       "      <th>Sunny</th>\n",
       "      <th>Thunder</th>\n",
>>>>>>> 38e9d5b11c6a9ec3e7e1a0b6195bbcaa3ae44985
       "    </tr>\n",
       "  </thead>\n",
       "  <tbody>\n",
       "    <tr>\n",
       "      <th>0</th>\n",
<<<<<<< HEAD
       "      <td>1.705225</td>\n",
       "      <td>1.602566</td>\n",
       "      <td>1.607600</td>\n",
       "      <td>-0.987479</td>\n",
       "      <td>-0.948610</td>\n",
       "      <td>-1.072136</td>\n",
       "      <td>-1.152645</td>\n",
       "      <td>-1.597201</td>\n",
       "      <td>0.065070</td>\n",
       "      <td>-0.610478</td>\n",
       "      <td>AA</td>\n",
       "      <td>Cloudy</td>\n",
       "      <td>Sunny</td>\n",
       "      <td>MYR</td>\n",
       "      <td>CLT</td>\n",
       "    </tr>\n",
       "    <tr>\n",
       "      <th>1</th>\n",
       "      <td>-0.342646</td>\n",
       "      <td>-0.291919</td>\n",
       "      <td>-0.253435</td>\n",
       "      <td>-0.707917</td>\n",
       "      <td>-0.822538</td>\n",
       "      <td>-0.654715</td>\n",
       "      <td>-0.885821</td>\n",
       "      <td>-1.597201</td>\n",
       "      <td>-0.583839</td>\n",
       "      <td>-0.700673</td>\n",
       "      <td>AA</td>\n",
       "      <td>Sunny</td>\n",
       "      <td>Sunny</td>\n",
       "      <td>BDL</td>\n",
       "      <td>DCA</td>\n",
       "    </tr>\n",
       "    <tr>\n",
       "      <th>2</th>\n",
       "      <td>-0.631709</td>\n",
       "      <td>-0.674274</td>\n",
       "      <td>-0.617260</td>\n",
       "      <td>-0.945544</td>\n",
       "      <td>-0.710475</td>\n",
       "      <td>-0.899410</td>\n",
       "      <td>-0.885821</td>\n",
       "      <td>-1.597201</td>\n",
       "      <td>-0.643612</td>\n",
       "      <td>-1.283697</td>\n",
       "      <td>AA</td>\n",
       "      <td>Sunny</td>\n",
       "      <td>Sunny</td>\n",
       "      <td>DCA</td>\n",
       "      <td>BDL</td>\n",
       "    </tr>\n",
       "    <tr>\n",
       "      <th>3</th>\n",
       "      <td>1.385627</td>\n",
       "      <td>1.262481</td>\n",
       "      <td>1.253299</td>\n",
       "      <td>-0.707917</td>\n",
       "      <td>-0.710475</td>\n",
       "      <td>-0.611534</td>\n",
       "      <td>-0.743856</td>\n",
       "      <td>-1.597201</td>\n",
       "      <td>-1.129219</td>\n",
       "      <td>-3.310634</td>\n",
       "      <td>AA</td>\n",
       "      <td>Sunny</td>\n",
       "      <td>Cloudy</td>\n",
       "      <td>DCA</td>\n",
       "      <td>GSP</td>\n",
       "    </tr>\n",
       "    <tr>\n",
       "      <th>4</th>\n",
       "      <td>-0.212364</td>\n",
       "      <td>-0.249649</td>\n",
       "      <td>-0.249625</td>\n",
       "      <td>-0.735873</td>\n",
       "      <td>-0.696467</td>\n",
       "      <td>-0.697897</td>\n",
       "      <td>-0.925160</td>\n",
       "      <td>-1.597201</td>\n",
       "      <td>0.062245</td>\n",
       "      <td>-0.304188</td>\n",
       "      <td>AA</td>\n",
       "      <td>Cloudy</td>\n",
       "      <td>Sunny</td>\n",
       "      <td>ORF</td>\n",
       "      <td>CLT</td>\n",
       "    </tr>\n",
       "    <tr>\n",
       "      <th>...</th>\n",
       "      <td>...</td>\n",
       "      <td>...</td>\n",
       "      <td>...</td>\n",
       "      <td>...</td>\n",
       "      <td>...</td>\n",
       "      <td>...</td>\n",
       "      <td>...</td>\n",
       "      <td>...</td>\n",
       "      <td>...</td>\n",
       "      <td>...</td>\n",
       "      <td>...</td>\n",
       "      <td>...</td>\n",
       "      <td>...</td>\n",
       "      <td>...</td>\n",
       "      <td>...</td>\n",
       "    </tr>\n",
       "    <tr>\n",
       "      <th>91829</th>\n",
       "      <td>1.813115</td>\n",
       "      <td>1.687106</td>\n",
       "      <td>-2.750688</td>\n",
       "      <td>-0.554159</td>\n",
       "      <td>-0.388292</td>\n",
       "      <td>-0.424414</td>\n",
       "      <td>-0.386380</td>\n",
       "      <td>1.595450</td>\n",
       "      <td>-0.255097</td>\n",
       "      <td>-0.559293</td>\n",
       "      <td>WN</td>\n",
       "      <td>Cloudy</td>\n",
       "      <td>Light&amp;Mod_rain</td>\n",
       "      <td>SEA</td>\n",
       "      <td>SMF</td>\n",
       "    </tr>\n",
       "    <tr>\n",
       "      <th>91830</th>\n",
       "      <td>-1.433758</td>\n",
       "      <td>-1.300645</td>\n",
       "      <td>-1.236336</td>\n",
       "      <td>-0.554159</td>\n",
       "      <td>-0.374284</td>\n",
       "      <td>-0.323658</td>\n",
       "      <td>-0.386380</td>\n",
       "      <td>1.595450</td>\n",
       "      <td>-0.255097</td>\n",
       "      <td>-0.559293</td>\n",
       "      <td>WN</td>\n",
       "      <td>Cloudy</td>\n",
       "      <td>Light&amp;Mod_rain</td>\n",
       "      <td>SEA</td>\n",
       "      <td>SMF</td>\n",
       "    </tr>\n",
       "    <tr>\n",
       "      <th>91831</th>\n",
       "      <td>-0.782348</td>\n",
       "      <td>0.082751</td>\n",
       "      <td>0.118010</td>\n",
       "      <td>1.123209</td>\n",
       "      <td>1.362704</td>\n",
       "      <td>1.360419</td>\n",
       "      <td>1.501914</td>\n",
       "      <td>1.595450</td>\n",
       "      <td>-0.615163</td>\n",
       "      <td>-0.042941</td>\n",
       "      <td>WN</td>\n",
       "      <td>Cloudy</td>\n",
       "      <td>Heavy_snow</td>\n",
       "      <td>SEA</td>\n",
       "      <td>STL</td>\n",
       "    </tr>\n",
       "    <tr>\n",
       "      <th>91832</th>\n",
       "      <td>-1.637324</td>\n",
       "      <td>-0.839513</td>\n",
       "      <td>-0.849652</td>\n",
       "      <td>0.843648</td>\n",
       "      <td>0.564250</td>\n",
       "      <td>0.712697</td>\n",
       "      <td>1.151280</td>\n",
       "      <td>1.595450</td>\n",
       "      <td>-0.709905</td>\n",
       "      <td>1.042688</td>\n",
       "      <td>WN</td>\n",
       "      <td>Light&amp;Mod_rain</td>\n",
       "      <td>Sunny</td>\n",
       "      <td>SFO</td>\n",
       "      <td>AUS</td>\n",
       "    </tr>\n",
       "    <tr>\n",
       "      <th>91833</th>\n",
       "      <td>-1.057161</td>\n",
       "      <td>-1.079686</td>\n",
       "      <td>-1.019183</td>\n",
       "      <td>-0.973501</td>\n",
       "      <td>-0.976626</td>\n",
       "      <td>-0.928198</td>\n",
       "      <td>-0.863585</td>\n",
       "      <td>1.595450</td>\n",
       "      <td>-0.535415</td>\n",
       "      <td>0.436979</td>\n",
       "      <td>WN</td>\n",
       "      <td>Light&amp;Mod_rain</td>\n",
       "      <td>Sunny</td>\n",
       "      <td>SFO</td>\n",
       "      <td>BUR</td>\n",
       "    </tr>\n",
       "  </tbody>\n",
       "</table>\n",
       "<p>91834 rows × 15 columns</p>\n",
       "</div>"
      ],
      "text/plain": [
       "       crs_dep_time  crs_arr_time  arr_time  crs_elapsed_time  \\\n",
       "0          1.705225      1.602566  1.607600         -0.987479   \n",
       "1         -0.342646     -0.291919 -0.253435         -0.707917   \n",
       "2         -0.631709     -0.674274 -0.617260         -0.945544   \n",
       "3          1.385627      1.262481  1.253299         -0.707917   \n",
       "4         -0.212364     -0.249649 -0.249625         -0.735873   \n",
       "...             ...           ...       ...               ...   \n",
       "91829      1.813115      1.687106 -2.750688         -0.554159   \n",
       "91830     -1.433758     -1.300645 -1.236336         -0.554159   \n",
       "91831     -0.782348      0.082751  0.118010          1.123209   \n",
       "91832     -1.637324     -0.839513 -0.849652          0.843648   \n",
       "91833     -1.057161     -1.079686 -1.019183         -0.973501   \n",
       "\n",
       "       actual_elapsed_time  air_time  distance     month  average_passengers  \\\n",
       "0                -0.948610 -1.072136 -1.152645 -1.597201            0.065070   \n",
       "1                -0.822538 -0.654715 -0.885821 -1.597201           -0.583839   \n",
       "2                -0.710475 -0.899410 -0.885821 -1.597201           -0.643612   \n",
       "3                -0.710475 -0.611534 -0.743856 -1.597201           -1.129219   \n",
       "4                -0.696467 -0.697897 -0.925160 -1.597201            0.062245   \n",
       "...                    ...       ...       ...       ...                 ...   \n",
       "91829            -0.388292 -0.424414 -0.386380  1.595450           -0.255097   \n",
       "91830            -0.374284 -0.323658 -0.386380  1.595450           -0.255097   \n",
       "91831             1.362704  1.360419  1.501914  1.595450           -0.615163   \n",
       "91832             0.564250  0.712697  1.151280  1.595450           -0.709905   \n",
       "91833            -0.976626 -0.928198 -0.863585  1.595450           -0.535415   \n",
       "\n",
       "       avg_passenger_capacity_usage mkt_unique_carrier weather_origin_simple  \\\n",
       "0                         -0.610478                 AA                Cloudy   \n",
       "1                         -0.700673                 AA                 Sunny   \n",
       "2                         -1.283697                 AA                 Sunny   \n",
       "3                         -3.310634                 AA                 Sunny   \n",
       "4                         -0.304188                 AA                Cloudy   \n",
       "...                             ...                ...                   ...   \n",
       "91829                     -0.559293                 WN                Cloudy   \n",
       "91830                     -0.559293                 WN                Cloudy   \n",
       "91831                     -0.042941                 WN                Cloudy   \n",
       "91832                      1.042688                 WN        Light&Mod_rain   \n",
       "91833                      0.436979                 WN        Light&Mod_rain   \n",
       "\n",
       "      weather_dest_simple origin dest  \n",
       "0                   Sunny    MYR  CLT  \n",
       "1                   Sunny    BDL  DCA  \n",
       "2                   Sunny    DCA  BDL  \n",
       "3                  Cloudy    DCA  GSP  \n",
       "4                   Sunny    ORF  CLT  \n",
       "...                   ...    ...  ...  \n",
       "91829      Light&Mod_rain    SEA  SMF  \n",
       "91830      Light&Mod_rain    SEA  SMF  \n",
       "91831          Heavy_snow    SEA  STL  \n",
       "91832               Sunny    SFO  AUS  \n",
       "91833               Sunny    SFO  BUR  \n",
       "\n",
       "[91834 rows x 15 columns]"
      ]
     },
     "execution_count": 20,
=======
       "      <td>2157</td>\n",
       "      <td>2311</td>\n",
       "      <td>2308.0</td>\n",
       "      <td>74</td>\n",
       "      <td>70.0</td>\n",
       "      <td>40.0</td>\n",
       "      <td>157</td>\n",
       "      <td>1</td>\n",
       "      <td>2019</td>\n",
       "      <td>4898.333333</td>\n",
       "      <td>...</td>\n",
       "      <td>0</td>\n",
       "      <td>0</td>\n",
       "      <td>0</td>\n",
       "      <td>0</td>\n",
       "      <td>0</td>\n",
       "      <td>0</td>\n",
       "      <td>0</td>\n",
       "      <td>0</td>\n",
       "      <td>0</td>\n",
       "      <td>0</td>\n",
       "    </tr>\n",
       "    <tr>\n",
       "      <th>1</th>\n",
       "      <td>1151</td>\n",
       "      <td>1325</td>\n",
       "      <td>1331.0</td>\n",
       "      <td>94</td>\n",
       "      <td>79.0</td>\n",
       "      <td>69.0</td>\n",
       "      <td>313</td>\n",
       "      <td>1</td>\n",
       "      <td>2019</td>\n",
       "      <td>2697.250000</td>\n",
       "      <td>...</td>\n",
       "      <td>0</td>\n",
       "      <td>0</td>\n",
       "      <td>0</td>\n",
       "      <td>0</td>\n",
       "      <td>0</td>\n",
       "      <td>0</td>\n",
       "      <td>0</td>\n",
       "      <td>0</td>\n",
       "      <td>1</td>\n",
       "      <td>0</td>\n",
       "    </tr>\n",
       "    <tr>\n",
       "      <th>2</th>\n",
       "      <td>1009</td>\n",
       "      <td>1126</td>\n",
       "      <td>1140.0</td>\n",
       "      <td>77</td>\n",
       "      <td>87.0</td>\n",
       "      <td>52.0</td>\n",
       "      <td>313</td>\n",
       "      <td>1</td>\n",
       "      <td>2019</td>\n",
       "      <td>2494.500000</td>\n",
       "      <td>...</td>\n",
       "      <td>0</td>\n",
       "      <td>0</td>\n",
       "      <td>0</td>\n",
       "      <td>0</td>\n",
       "      <td>0</td>\n",
       "      <td>0</td>\n",
       "      <td>0</td>\n",
       "      <td>0</td>\n",
       "      <td>1</td>\n",
       "      <td>0</td>\n",
       "    </tr>\n",
       "    <tr>\n",
       "      <th>3</th>\n",
       "      <td>2000</td>\n",
       "      <td>2134</td>\n",
       "      <td>2122.0</td>\n",
       "      <td>94</td>\n",
       "      <td>87.0</td>\n",
       "      <td>72.0</td>\n",
       "      <td>396</td>\n",
       "      <td>1</td>\n",
       "      <td>2019</td>\n",
       "      <td>847.333333</td>\n",
       "      <td>...</td>\n",
       "      <td>0</td>\n",
       "      <td>0</td>\n",
       "      <td>0</td>\n",
       "      <td>0</td>\n",
       "      <td>0</td>\n",
       "      <td>0</td>\n",
       "      <td>0</td>\n",
       "      <td>0</td>\n",
       "      <td>1</td>\n",
       "      <td>0</td>\n",
       "    </tr>\n",
       "    <tr>\n",
       "      <th>4</th>\n",
       "      <td>1215</td>\n",
       "      <td>1347</td>\n",
       "      <td>1333.0</td>\n",
       "      <td>92</td>\n",
       "      <td>88.0</td>\n",
       "      <td>66.0</td>\n",
       "      <td>290</td>\n",
       "      <td>1</td>\n",
       "      <td>2019</td>\n",
       "      <td>4888.750000</td>\n",
       "      <td>...</td>\n",
       "      <td>0</td>\n",
       "      <td>0</td>\n",
       "      <td>0</td>\n",
       "      <td>0</td>\n",
       "      <td>0</td>\n",
       "      <td>0</td>\n",
       "      <td>0</td>\n",
       "      <td>0</td>\n",
       "      <td>0</td>\n",
       "      <td>0</td>\n",
       "    </tr>\n",
       "  </tbody>\n",
       "</table>\n",
       "<p>5 rows × 198 columns</p>\n",
       "</div>"
      ],
      "text/plain": [
       "   crs_dep_time  crs_arr_time  arr_time  crs_elapsed_time  \\\n",
       "0          2157          2311    2308.0                74   \n",
       "1          1151          1325    1331.0                94   \n",
       "2          1009          1126    1140.0                77   \n",
       "3          2000          2134    2122.0                94   \n",
       "4          1215          1347    1333.0                92   \n",
       "\n",
       "   actual_elapsed_time  air_time  distance  month  year  average_passengers  \\\n",
       "0                 70.0      40.0       157      1  2019         4898.333333   \n",
       "1                 79.0      69.0       313      1  2019         2697.250000   \n",
       "2                 87.0      52.0       313      1  2019         2494.500000   \n",
       "3                 87.0      72.0       396      1  2019          847.333333   \n",
       "4                 88.0      66.0       290      1  2019         4888.750000   \n",
       "\n",
       "   ...  Fog  Freezing_rain  Heavy_rain  Heavy_snow  Light_rain  Light_snow  \\\n",
       "0  ...    0              0           0           0           0           0   \n",
       "1  ...    0              0           0           0           0           0   \n",
       "2  ...    0              0           0           0           0           0   \n",
       "3  ...    0              0           0           0           0           0   \n",
       "4  ...    0              0           0           0           0           0   \n",
       "\n",
       "   Moderate_rain  Moderate_snow  Sunny  Thunder  \n",
       "0              0              0      0        0  \n",
       "1              0              0      1        0  \n",
       "2              0              0      1        0  \n",
       "3              0              0      1        0  \n",
       "4              0              0      0        0  \n",
       "\n",
       "[5 rows x 198 columns]"
      ]
     },
     "execution_count": 21,
>>>>>>> 38e9d5b11c6a9ec3e7e1a0b6195bbcaa3ae44985
     "metadata": {},
     "output_type": "execute_result"
    }
   ],
   "source": [
<<<<<<< HEAD
    "X_scaled"
=======
    "X.head()"
>>>>>>> 38e9d5b11c6a9ec3e7e1a0b6195bbcaa3ae44985
   ]
  },
  {
   "cell_type": "code",
<<<<<<< HEAD
   "execution_count": 21,
   "metadata": {},
   "outputs": [],
   "source": [
    "# One hot encoding for origin and unique_carrier and weather\n",
    "# are these too many columns now?\n",
    "\n",
    "onehot_origin = pd.get_dummies(X_scaled[['origin','dest']])\n",
    "X_scaled = X_scaled.drop('origin', axis=1)\n",
    "X_scaled = X_scaled.drop('dest', axis=1)\n",
    "X_scaled = X_scaled.join(onehot_origin)\n",
    "\n",
    "onehot_carrier = pd.get_dummies(X_scaled['mkt_unique_carrier'])\n",
    "X_scaled = X_scaled.drop('mkt_unique_carrier', axis=1)\n",
    "X_scaled = X_scaled.join(onehot_carrier)\n",
    "\n",
    "onehot_weather = pd.get_dummies(X_scaled[['weather_origin_simple','weather_dest_simple']])\n",
    "X_scaled = X_scaled.drop(['weather_origin_simple','weather_dest_simple'], axis=1)\n",
    "X_scaled = X_scaled.join(onehot_weather)\n"
   ]
  },
  {
=======
   "execution_count": 22,
   "metadata": {},
   "outputs": [],
   "source": [
    "from sklearn.preprocessing import StandardScaler\n",
    "X_scaled = StandardScaler().fit_transform(X)"
   ]
  },
  {
   "cell_type": "code",
   "execution_count": null,
   "metadata": {},
   "outputs": [],
   "source": [
    "import statsmodels.api as sm\n",
    "X = sm.add_constant(X) # adding a constant"
   ]
  },
  {
   "cell_type": "code",
   "execution_count": null,
   "metadata": {},
   "outputs": [],
   "source": []
  },
  {
   "cell_type": "code",
   "execution_count": null,
   "metadata": {},
   "outputs": [],
   "source": []
  },
  {
   "cell_type": "code",
   "execution_count": null,
   "metadata": {},
   "outputs": [],
   "source": []
  },
  {
   "cell_type": "code",
   "execution_count": null,
   "metadata": {},
   "outputs": [],
   "source": []
  },
  {
   "cell_type": "code",
   "execution_count": null,
   "metadata": {},
   "outputs": [],
   "source": []
  },
  {
>>>>>>> 38e9d5b11c6a9ec3e7e1a0b6195bbcaa3ae44985
   "cell_type": "markdown",
   "metadata": {},
   "source": [
    "### Feature Selection / Dimensionality Reduction"
   ]
  },
  {
   "cell_type": "markdown",
   "metadata": {},
   "source": [
    "We need to apply different selection techniques to find out which one will be the best for our problems.\n",
    "\n",
    "- Original Features vs. PCA conponents?"
   ]
  },
  {
<<<<<<< HEAD
   "cell_type": "markdown",
   "metadata": {},
   "source": [
    "##### variance threshold"
=======
   "cell_type": "code",
   "execution_count": 24,
   "metadata": {},
   "outputs": [],
   "source": [
    "from sklearn.decomposition import PCA\n",
    "from sklearn.preprocessing import StandardScaler"
>>>>>>> 38e9d5b11c6a9ec3e7e1a0b6195bbcaa3ae44985
   ]
  },
  {
   "cell_type": "code",
<<<<<<< HEAD
   "execution_count": 22,
=======
   "execution_count": 25,
>>>>>>> 38e9d5b11c6a9ec3e7e1a0b6195bbcaa3ae44985
   "metadata": {},
   "outputs": [
    {
     "data": {
<<<<<<< HEAD
      "text/html": [
       "<div>\n",
       "<style scoped>\n",
       "    .dataframe tbody tr th:only-of-type {\n",
       "        vertical-align: middle;\n",
       "    }\n",
       "\n",
       "    .dataframe tbody tr th {\n",
       "        vertical-align: top;\n",
       "    }\n",
       "\n",
       "    .dataframe thead th {\n",
       "        text-align: right;\n",
       "    }\n",
       "</style>\n",
       "<table border=\"1\" class=\"dataframe\">\n",
       "  <thead>\n",
       "    <tr style=\"text-align: right;\">\n",
       "      <th></th>\n",
       "      <th>crs_dep_time</th>\n",
       "      <th>crs_arr_time</th>\n",
       "      <th>arr_time</th>\n",
       "      <th>crs_elapsed_time</th>\n",
       "      <th>actual_elapsed_time</th>\n",
       "      <th>air_time</th>\n",
       "      <th>distance</th>\n",
       "      <th>month</th>\n",
       "      <th>average_passengers</th>\n",
       "      <th>avg_passenger_capacity_usage</th>\n",
       "      <th>...</th>\n",
       "      <th>weather_origin_simple_Light&amp;Mod_rain</th>\n",
       "      <th>weather_origin_simple_Light&amp;Mod_snow</th>\n",
       "      <th>weather_origin_simple_Sunny</th>\n",
       "      <th>weather_dest_simple_Cloudy</th>\n",
       "      <th>weather_dest_simple_Fog</th>\n",
       "      <th>weather_dest_simple_Heavy_rain</th>\n",
       "      <th>weather_dest_simple_Heavy_snow</th>\n",
       "      <th>weather_dest_simple_Light&amp;Mod_rain</th>\n",
       "      <th>weather_dest_simple_Light&amp;Mod_snow</th>\n",
       "      <th>weather_dest_simple_Sunny</th>\n",
       "    </tr>\n",
       "  </thead>\n",
       "  <tbody>\n",
       "    <tr>\n",
       "      <th>0</th>\n",
       "      <td>1.705225</td>\n",
       "      <td>1.602566</td>\n",
       "      <td>1.607600</td>\n",
       "      <td>-0.987479</td>\n",
       "      <td>-0.948610</td>\n",
       "      <td>-1.072136</td>\n",
       "      <td>-1.152645</td>\n",
       "      <td>-1.597201</td>\n",
       "      <td>0.065070</td>\n",
       "      <td>-0.610478</td>\n",
       "      <td>...</td>\n",
       "      <td>0</td>\n",
       "      <td>0</td>\n",
       "      <td>0</td>\n",
       "      <td>0</td>\n",
       "      <td>0</td>\n",
       "      <td>0</td>\n",
       "      <td>0</td>\n",
       "      <td>0</td>\n",
       "      <td>0</td>\n",
       "      <td>1</td>\n",
       "    </tr>\n",
       "    <tr>\n",
       "      <th>1</th>\n",
       "      <td>-0.342646</td>\n",
       "      <td>-0.291919</td>\n",
       "      <td>-0.253435</td>\n",
       "      <td>-0.707917</td>\n",
       "      <td>-0.822538</td>\n",
       "      <td>-0.654715</td>\n",
       "      <td>-0.885821</td>\n",
       "      <td>-1.597201</td>\n",
       "      <td>-0.583839</td>\n",
       "      <td>-0.700673</td>\n",
       "      <td>...</td>\n",
       "      <td>0</td>\n",
       "      <td>0</td>\n",
       "      <td>1</td>\n",
       "      <td>0</td>\n",
       "      <td>0</td>\n",
       "      <td>0</td>\n",
       "      <td>0</td>\n",
       "      <td>0</td>\n",
       "      <td>0</td>\n",
       "      <td>1</td>\n",
       "    </tr>\n",
       "    <tr>\n",
       "      <th>2</th>\n",
       "      <td>-0.631709</td>\n",
       "      <td>-0.674274</td>\n",
       "      <td>-0.617260</td>\n",
       "      <td>-0.945544</td>\n",
       "      <td>-0.710475</td>\n",
       "      <td>-0.899410</td>\n",
       "      <td>-0.885821</td>\n",
       "      <td>-1.597201</td>\n",
       "      <td>-0.643612</td>\n",
       "      <td>-1.283697</td>\n",
       "      <td>...</td>\n",
       "      <td>0</td>\n",
       "      <td>0</td>\n",
       "      <td>1</td>\n",
       "      <td>0</td>\n",
       "      <td>0</td>\n",
       "      <td>0</td>\n",
       "      <td>0</td>\n",
       "      <td>0</td>\n",
       "      <td>0</td>\n",
       "      <td>1</td>\n",
       "    </tr>\n",
       "    <tr>\n",
       "      <th>3</th>\n",
       "      <td>1.385627</td>\n",
       "      <td>1.262481</td>\n",
       "      <td>1.253299</td>\n",
       "      <td>-0.707917</td>\n",
       "      <td>-0.710475</td>\n",
       "      <td>-0.611534</td>\n",
       "      <td>-0.743856</td>\n",
       "      <td>-1.597201</td>\n",
       "      <td>-1.129219</td>\n",
       "      <td>-3.310634</td>\n",
       "      <td>...</td>\n",
       "      <td>0</td>\n",
       "      <td>0</td>\n",
       "      <td>1</td>\n",
       "      <td>1</td>\n",
       "      <td>0</td>\n",
       "      <td>0</td>\n",
       "      <td>0</td>\n",
       "      <td>0</td>\n",
       "      <td>0</td>\n",
       "      <td>0</td>\n",
       "    </tr>\n",
       "    <tr>\n",
       "      <th>4</th>\n",
       "      <td>-0.212364</td>\n",
       "      <td>-0.249649</td>\n",
       "      <td>-0.249625</td>\n",
       "      <td>-0.735873</td>\n",
       "      <td>-0.696467</td>\n",
       "      <td>-0.697897</td>\n",
       "      <td>-0.925160</td>\n",
       "      <td>-1.597201</td>\n",
       "      <td>0.062245</td>\n",
       "      <td>-0.304188</td>\n",
       "      <td>...</td>\n",
       "      <td>0</td>\n",
       "      <td>0</td>\n",
       "      <td>0</td>\n",
       "      <td>0</td>\n",
       "      <td>0</td>\n",
       "      <td>0</td>\n",
       "      <td>0</td>\n",
       "      <td>0</td>\n",
       "      <td>0</td>\n",
       "      <td>1</td>\n",
       "    </tr>\n",
       "    <tr>\n",
       "      <th>...</th>\n",
       "      <td>...</td>\n",
       "      <td>...</td>\n",
       "      <td>...</td>\n",
       "      <td>...</td>\n",
       "      <td>...</td>\n",
       "      <td>...</td>\n",
       "      <td>...</td>\n",
       "      <td>...</td>\n",
       "      <td>...</td>\n",
       "      <td>...</td>\n",
       "      <td>...</td>\n",
       "      <td>...</td>\n",
       "      <td>...</td>\n",
       "      <td>...</td>\n",
       "      <td>...</td>\n",
       "      <td>...</td>\n",
       "      <td>...</td>\n",
       "      <td>...</td>\n",
       "      <td>...</td>\n",
       "      <td>...</td>\n",
       "      <td>...</td>\n",
       "    </tr>\n",
       "    <tr>\n",
       "      <th>91829</th>\n",
       "      <td>1.813115</td>\n",
       "      <td>1.687106</td>\n",
       "      <td>-2.750688</td>\n",
       "      <td>-0.554159</td>\n",
       "      <td>-0.388292</td>\n",
       "      <td>-0.424414</td>\n",
       "      <td>-0.386380</td>\n",
       "      <td>1.595450</td>\n",
       "      <td>-0.255097</td>\n",
       "      <td>-0.559293</td>\n",
       "      <td>...</td>\n",
       "      <td>0</td>\n",
       "      <td>0</td>\n",
       "      <td>0</td>\n",
       "      <td>0</td>\n",
       "      <td>0</td>\n",
       "      <td>0</td>\n",
       "      <td>0</td>\n",
       "      <td>1</td>\n",
       "      <td>0</td>\n",
       "      <td>0</td>\n",
       "    </tr>\n",
       "    <tr>\n",
       "      <th>91830</th>\n",
       "      <td>-1.433758</td>\n",
       "      <td>-1.300645</td>\n",
       "      <td>-1.236336</td>\n",
       "      <td>-0.554159</td>\n",
       "      <td>-0.374284</td>\n",
       "      <td>-0.323658</td>\n",
       "      <td>-0.386380</td>\n",
       "      <td>1.595450</td>\n",
       "      <td>-0.255097</td>\n",
       "      <td>-0.559293</td>\n",
       "      <td>...</td>\n",
       "      <td>0</td>\n",
       "      <td>0</td>\n",
       "      <td>0</td>\n",
       "      <td>0</td>\n",
       "      <td>0</td>\n",
       "      <td>0</td>\n",
       "      <td>0</td>\n",
       "      <td>1</td>\n",
       "      <td>0</td>\n",
       "      <td>0</td>\n",
       "    </tr>\n",
       "    <tr>\n",
       "      <th>91831</th>\n",
       "      <td>-0.782348</td>\n",
       "      <td>0.082751</td>\n",
       "      <td>0.118010</td>\n",
       "      <td>1.123209</td>\n",
       "      <td>1.362704</td>\n",
       "      <td>1.360419</td>\n",
       "      <td>1.501914</td>\n",
       "      <td>1.595450</td>\n",
       "      <td>-0.615163</td>\n",
       "      <td>-0.042941</td>\n",
       "      <td>...</td>\n",
       "      <td>0</td>\n",
       "      <td>0</td>\n",
       "      <td>0</td>\n",
       "      <td>0</td>\n",
       "      <td>0</td>\n",
       "      <td>0</td>\n",
       "      <td>1</td>\n",
       "      <td>0</td>\n",
       "      <td>0</td>\n",
       "      <td>0</td>\n",
       "    </tr>\n",
       "    <tr>\n",
       "      <th>91832</th>\n",
       "      <td>-1.637324</td>\n",
       "      <td>-0.839513</td>\n",
       "      <td>-0.849652</td>\n",
       "      <td>0.843648</td>\n",
       "      <td>0.564250</td>\n",
       "      <td>0.712697</td>\n",
       "      <td>1.151280</td>\n",
       "      <td>1.595450</td>\n",
       "      <td>-0.709905</td>\n",
       "      <td>1.042688</td>\n",
       "      <td>...</td>\n",
       "      <td>1</td>\n",
       "      <td>0</td>\n",
       "      <td>0</td>\n",
       "      <td>0</td>\n",
       "      <td>0</td>\n",
       "      <td>0</td>\n",
       "      <td>0</td>\n",
       "      <td>0</td>\n",
       "      <td>0</td>\n",
       "      <td>1</td>\n",
       "    </tr>\n",
       "    <tr>\n",
       "      <th>91833</th>\n",
       "      <td>-1.057161</td>\n",
       "      <td>-1.079686</td>\n",
       "      <td>-1.019183</td>\n",
       "      <td>-0.973501</td>\n",
       "      <td>-0.976626</td>\n",
       "      <td>-0.928198</td>\n",
       "      <td>-0.863585</td>\n",
       "      <td>1.595450</td>\n",
       "      <td>-0.535415</td>\n",
       "      <td>0.436979</td>\n",
       "      <td>...</td>\n",
       "      <td>1</td>\n",
       "      <td>0</td>\n",
       "      <td>0</td>\n",
       "      <td>0</td>\n",
       "      <td>0</td>\n",
       "      <td>0</td>\n",
       "      <td>0</td>\n",
       "      <td>0</td>\n",
       "      <td>0</td>\n",
       "      <td>1</td>\n",
       "    </tr>\n",
       "  </tbody>\n",
       "</table>\n",
       "<p>91834 rows × 263 columns</p>\n",
       "</div>"
      ],
      "text/plain": [
       "       crs_dep_time  crs_arr_time  arr_time  crs_elapsed_time  \\\n",
       "0          1.705225      1.602566  1.607600         -0.987479   \n",
       "1         -0.342646     -0.291919 -0.253435         -0.707917   \n",
       "2         -0.631709     -0.674274 -0.617260         -0.945544   \n",
       "3          1.385627      1.262481  1.253299         -0.707917   \n",
       "4         -0.212364     -0.249649 -0.249625         -0.735873   \n",
       "...             ...           ...       ...               ...   \n",
       "91829      1.813115      1.687106 -2.750688         -0.554159   \n",
       "91830     -1.433758     -1.300645 -1.236336         -0.554159   \n",
       "91831     -0.782348      0.082751  0.118010          1.123209   \n",
       "91832     -1.637324     -0.839513 -0.849652          0.843648   \n",
       "91833     -1.057161     -1.079686 -1.019183         -0.973501   \n",
       "\n",
       "       actual_elapsed_time  air_time  distance     month  average_passengers  \\\n",
       "0                -0.948610 -1.072136 -1.152645 -1.597201            0.065070   \n",
       "1                -0.822538 -0.654715 -0.885821 -1.597201           -0.583839   \n",
       "2                -0.710475 -0.899410 -0.885821 -1.597201           -0.643612   \n",
       "3                -0.710475 -0.611534 -0.743856 -1.597201           -1.129219   \n",
       "4                -0.696467 -0.697897 -0.925160 -1.597201            0.062245   \n",
       "...                    ...       ...       ...       ...                 ...   \n",
       "91829            -0.388292 -0.424414 -0.386380  1.595450           -0.255097   \n",
       "91830            -0.374284 -0.323658 -0.386380  1.595450           -0.255097   \n",
       "91831             1.362704  1.360419  1.501914  1.595450           -0.615163   \n",
       "91832             0.564250  0.712697  1.151280  1.595450           -0.709905   \n",
       "91833            -0.976626 -0.928198 -0.863585  1.595450           -0.535415   \n",
       "\n",
       "       avg_passenger_capacity_usage  ...  \\\n",
       "0                         -0.610478  ...   \n",
       "1                         -0.700673  ...   \n",
       "2                         -1.283697  ...   \n",
       "3                         -3.310634  ...   \n",
       "4                         -0.304188  ...   \n",
       "...                             ...  ...   \n",
       "91829                     -0.559293  ...   \n",
       "91830                     -0.559293  ...   \n",
       "91831                     -0.042941  ...   \n",
       "91832                      1.042688  ...   \n",
       "91833                      0.436979  ...   \n",
       "\n",
       "       weather_origin_simple_Light&Mod_rain  \\\n",
       "0                                         0   \n",
       "1                                         0   \n",
       "2                                         0   \n",
       "3                                         0   \n",
       "4                                         0   \n",
       "...                                     ...   \n",
       "91829                                     0   \n",
       "91830                                     0   \n",
       "91831                                     0   \n",
       "91832                                     1   \n",
       "91833                                     1   \n",
       "\n",
       "       weather_origin_simple_Light&Mod_snow  weather_origin_simple_Sunny  \\\n",
       "0                                         0                            0   \n",
       "1                                         0                            1   \n",
       "2                                         0                            1   \n",
       "3                                         0                            1   \n",
       "4                                         0                            0   \n",
       "...                                     ...                          ...   \n",
       "91829                                     0                            0   \n",
       "91830                                     0                            0   \n",
       "91831                                     0                            0   \n",
       "91832                                     0                            0   \n",
       "91833                                     0                            0   \n",
       "\n",
       "       weather_dest_simple_Cloudy  weather_dest_simple_Fog  \\\n",
       "0                               0                        0   \n",
       "1                               0                        0   \n",
       "2                               0                        0   \n",
       "3                               1                        0   \n",
       "4                               0                        0   \n",
       "...                           ...                      ...   \n",
       "91829                           0                        0   \n",
       "91830                           0                        0   \n",
       "91831                           0                        0   \n",
       "91832                           0                        0   \n",
       "91833                           0                        0   \n",
       "\n",
       "       weather_dest_simple_Heavy_rain  weather_dest_simple_Heavy_snow  \\\n",
       "0                                   0                               0   \n",
       "1                                   0                               0   \n",
       "2                                   0                               0   \n",
       "3                                   0                               0   \n",
       "4                                   0                               0   \n",
       "...                               ...                             ...   \n",
       "91829                               0                               0   \n",
       "91830                               0                               0   \n",
       "91831                               0                               1   \n",
       "91832                               0                               0   \n",
       "91833                               0                               0   \n",
       "\n",
       "       weather_dest_simple_Light&Mod_rain  weather_dest_simple_Light&Mod_snow  \\\n",
       "0                                       0                                   0   \n",
       "1                                       0                                   0   \n",
       "2                                       0                                   0   \n",
       "3                                       0                                   0   \n",
       "4                                       0                                   0   \n",
       "...                                   ...                                 ...   \n",
       "91829                                   1                                   0   \n",
       "91830                                   1                                   0   \n",
       "91831                                   0                                   0   \n",
       "91832                                   0                                   0   \n",
       "91833                                   0                                   0   \n",
       "\n",
       "       weather_dest_simple_Sunny  \n",
       "0                              1  \n",
       "1                              1  \n",
       "2                              1  \n",
       "3                              0  \n",
       "4                              1  \n",
       "...                          ...  \n",
       "91829                          0  \n",
       "91830                          0  \n",
       "91831                          0  \n",
       "91832                          1  \n",
       "91833                          1  \n",
       "\n",
       "[91834 rows x 263 columns]"
      ]
     },
     "execution_count": 22,
=======
      "text/plain": [
       "PCA(n_components=10)"
      ]
     },
     "execution_count": 25,
>>>>>>> 38e9d5b11c6a9ec3e7e1a0b6195bbcaa3ae44985
     "metadata": {},
     "output_type": "execute_result"
    }
   ],
   "source": [
<<<<<<< HEAD
    "X_scaled"
=======
    "#PCA\n",
    "pca = PCA(n_components=10)\n",
    "pca.fit(X_scaled)\n"
>>>>>>> 38e9d5b11c6a9ec3e7e1a0b6195bbcaa3ae44985
   ]
  },
  {
   "cell_type": "code",
<<<<<<< HEAD
   "execution_count": 23,
   "metadata": {},
   "outputs": [],
   "source": [
    "from sklearn.feature_selection import VarianceThreshold\n",
    "\n",
    "vt = VarianceThreshold(0.01)\n",
    "X_transform = vt.fit_transform(X_scaled)"
   ]
  },
  {
   "cell_type": "code",
   "execution_count": 24,
=======
   "execution_count": 26,
>>>>>>> 38e9d5b11c6a9ec3e7e1a0b6195bbcaa3ae44985
   "metadata": {},
   "outputs": [
    {
     "data": {
      "text/plain": [
<<<<<<< HEAD
       "(91834, 102)"
      ]
     },
     "execution_count": 24,
=======
       "(102735, 10)"
      ]
     },
     "execution_count": 26,
     "metadata": {},
     "output_type": "execute_result"
    }
   ],
   "source": [
    "X_pca = pca.transform(X_scaled)\n",
    "X_pca.shape"
   ]
  },
  {
   "cell_type": "code",
   "execution_count": 27,
   "metadata": {},
   "outputs": [
    {
     "data": {
      "text/plain": [
       "<matplotlib.collections.PathCollection at 0x11a4160a1f0>"
      ]
     },
     "execution_count": 27,
     "metadata": {},
     "output_type": "execute_result"
    },
    {
     "data": {
      "image/png": "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\n",
      "text/plain": [
       "<Figure size 432x288 with 1 Axes>"
      ]
     },
     "metadata": {
      "needs_background": "light"
     },
     "output_type": "display_data"
    }
   ],
   "source": [
    "plt.scatter(X_pca[:,0],X_pca[:,1], c=y) #Not so useful\n"
   ]
  },
  {
   "cell_type": "code",
   "execution_count": 33,
   "metadata": {},
   "outputs": [
    {
     "name": "stderr",
     "output_type": "stream",
     "text": [
      "C:\\Users\\Irene\\AppData\\Local\\Temp/ipykernel_4528/1657180260.py:1: DeprecationWarning: elementwise comparison failed; this will raise an error in the future.\n",
      "  comp = X_scaled == X_transform\n"
     ]
    }
   ],
   "source": [
    "comp = X_scaled == X_transform"
   ]
  },
  {
   "cell_type": "code",
   "execution_count": 37,
   "metadata": {},
   "outputs": [],
   "source": [
    "from sklearn.feature_selection import VarianceThreshold\n",
    "\n",
    "vt = VarianceThreshold(0.9)\n",
    "X_transform = vt.fit_transform(X_scaled)"
   ]
  },
  {
   "cell_type": "code",
   "execution_count": 38,
   "metadata": {},
   "outputs": [
    {
     "data": {
      "text/plain": [
       "(102735, 197)"
      ]
     },
     "execution_count": 38,
>>>>>>> 38e9d5b11c6a9ec3e7e1a0b6195bbcaa3ae44985
     "metadata": {},
     "output_type": "execute_result"
    }
   ],
   "source": [
    "X_transform.shape"
   ]
  },
  {
   "cell_type": "code",
<<<<<<< HEAD
   "execution_count": 25,
=======
   "execution_count": null,
>>>>>>> 38e9d5b11c6a9ec3e7e1a0b6195bbcaa3ae44985
   "metadata": {},
   "outputs": [],
   "source": [
    "# columns we have selected\n",
    "# get_support() is method of VarianceThreshold and stores boolean of each variable in the numpy array.\n",
<<<<<<< HEAD
    "selected_columns = X_scaled.columns[vt.get_support()]\n",
=======
    "selected_columns = X.columns[vt.get_support()]\n",
>>>>>>> 38e9d5b11c6a9ec3e7e1a0b6195bbcaa3ae44985
    "# transforming an array back to a data-frame preserves column labels\n",
    "X_transform = pd.DataFrame(X_transform, columns = selected_columns)"
   ]
  },
  {
   "cell_type": "code",
<<<<<<< HEAD
   "execution_count": 26,
   "metadata": {},
   "outputs": [
    {
     "data": {
      "text/html": [
       "<div>\n",
       "<style scoped>\n",
       "    .dataframe tbody tr th:only-of-type {\n",
       "        vertical-align: middle;\n",
       "    }\n",
       "\n",
       "    .dataframe tbody tr th {\n",
       "        vertical-align: top;\n",
       "    }\n",
       "\n",
       "    .dataframe thead th {\n",
       "        text-align: right;\n",
       "    }\n",
       "</style>\n",
       "<table border=\"1\" class=\"dataframe\">\n",
       "  <thead>\n",
       "    <tr style=\"text-align: right;\">\n",
       "      <th></th>\n",
       "      <th>crs_dep_time</th>\n",
       "      <th>crs_arr_time</th>\n",
       "      <th>arr_time</th>\n",
       "      <th>crs_elapsed_time</th>\n",
       "      <th>actual_elapsed_time</th>\n",
       "      <th>air_time</th>\n",
       "      <th>distance</th>\n",
       "      <th>month</th>\n",
       "      <th>average_passengers</th>\n",
       "      <th>avg_passenger_capacity_usage</th>\n",
       "      <th>...</th>\n",
       "      <th>weather_origin_simple_Cloudy</th>\n",
       "      <th>weather_origin_simple_Heavy_snow</th>\n",
       "      <th>weather_origin_simple_Light&amp;Mod_rain</th>\n",
       "      <th>weather_origin_simple_Light&amp;Mod_snow</th>\n",
       "      <th>weather_origin_simple_Sunny</th>\n",
       "      <th>weather_dest_simple_Cloudy</th>\n",
       "      <th>weather_dest_simple_Heavy_snow</th>\n",
       "      <th>weather_dest_simple_Light&amp;Mod_rain</th>\n",
       "      <th>weather_dest_simple_Light&amp;Mod_snow</th>\n",
       "      <th>weather_dest_simple_Sunny</th>\n",
       "    </tr>\n",
       "  </thead>\n",
       "  <tbody>\n",
       "    <tr>\n",
       "      <th>0</th>\n",
       "      <td>1.705225</td>\n",
       "      <td>1.602566</td>\n",
       "      <td>1.607600</td>\n",
       "      <td>-0.987479</td>\n",
       "      <td>-0.948610</td>\n",
       "      <td>-1.072136</td>\n",
       "      <td>-1.152645</td>\n",
       "      <td>-1.597201</td>\n",
       "      <td>0.065070</td>\n",
       "      <td>-0.610478</td>\n",
       "      <td>...</td>\n",
       "      <td>1.0</td>\n",
       "      <td>0.0</td>\n",
       "      <td>0.0</td>\n",
       "      <td>0.0</td>\n",
       "      <td>0.0</td>\n",
       "      <td>0.0</td>\n",
       "      <td>0.0</td>\n",
       "      <td>0.0</td>\n",
       "      <td>0.0</td>\n",
       "      <td>1.0</td>\n",
       "    </tr>\n",
       "    <tr>\n",
       "      <th>1</th>\n",
       "      <td>-0.342646</td>\n",
       "      <td>-0.291919</td>\n",
       "      <td>-0.253435</td>\n",
       "      <td>-0.707917</td>\n",
       "      <td>-0.822538</td>\n",
       "      <td>-0.654715</td>\n",
       "      <td>-0.885821</td>\n",
       "      <td>-1.597201</td>\n",
       "      <td>-0.583839</td>\n",
       "      <td>-0.700673</td>\n",
       "      <td>...</td>\n",
       "      <td>0.0</td>\n",
       "      <td>0.0</td>\n",
       "      <td>0.0</td>\n",
       "      <td>0.0</td>\n",
       "      <td>1.0</td>\n",
       "      <td>0.0</td>\n",
       "      <td>0.0</td>\n",
       "      <td>0.0</td>\n",
       "      <td>0.0</td>\n",
       "      <td>1.0</td>\n",
       "    </tr>\n",
       "    <tr>\n",
       "      <th>2</th>\n",
       "      <td>-0.631709</td>\n",
       "      <td>-0.674274</td>\n",
       "      <td>-0.617260</td>\n",
       "      <td>-0.945544</td>\n",
       "      <td>-0.710475</td>\n",
       "      <td>-0.899410</td>\n",
       "      <td>-0.885821</td>\n",
       "      <td>-1.597201</td>\n",
       "      <td>-0.643612</td>\n",
       "      <td>-1.283697</td>\n",
       "      <td>...</td>\n",
       "      <td>0.0</td>\n",
       "      <td>0.0</td>\n",
       "      <td>0.0</td>\n",
       "      <td>0.0</td>\n",
       "      <td>1.0</td>\n",
       "      <td>0.0</td>\n",
       "      <td>0.0</td>\n",
       "      <td>0.0</td>\n",
       "      <td>0.0</td>\n",
       "      <td>1.0</td>\n",
       "    </tr>\n",
       "    <tr>\n",
       "      <th>3</th>\n",
       "      <td>1.385627</td>\n",
       "      <td>1.262481</td>\n",
       "      <td>1.253299</td>\n",
       "      <td>-0.707917</td>\n",
       "      <td>-0.710475</td>\n",
       "      <td>-0.611534</td>\n",
       "      <td>-0.743856</td>\n",
       "      <td>-1.597201</td>\n",
       "      <td>-1.129219</td>\n",
       "      <td>-3.310634</td>\n",
       "      <td>...</td>\n",
       "      <td>0.0</td>\n",
       "      <td>0.0</td>\n",
       "      <td>0.0</td>\n",
       "      <td>0.0</td>\n",
       "      <td>1.0</td>\n",
       "      <td>1.0</td>\n",
       "      <td>0.0</td>\n",
       "      <td>0.0</td>\n",
       "      <td>0.0</td>\n",
       "      <td>0.0</td>\n",
       "    </tr>\n",
       "    <tr>\n",
       "      <th>4</th>\n",
       "      <td>-0.212364</td>\n",
       "      <td>-0.249649</td>\n",
       "      <td>-0.249625</td>\n",
       "      <td>-0.735873</td>\n",
       "      <td>-0.696467</td>\n",
       "      <td>-0.697897</td>\n",
       "      <td>-0.925160</td>\n",
       "      <td>-1.597201</td>\n",
       "      <td>0.062245</td>\n",
       "      <td>-0.304188</td>\n",
       "      <td>...</td>\n",
       "      <td>1.0</td>\n",
       "      <td>0.0</td>\n",
       "      <td>0.0</td>\n",
       "      <td>0.0</td>\n",
       "      <td>0.0</td>\n",
       "      <td>0.0</td>\n",
       "      <td>0.0</td>\n",
       "      <td>0.0</td>\n",
       "      <td>0.0</td>\n",
       "      <td>1.0</td>\n",
       "    </tr>\n",
       "    <tr>\n",
       "      <th>...</th>\n",
       "      <td>...</td>\n",
       "      <td>...</td>\n",
       "      <td>...</td>\n",
       "      <td>...</td>\n",
       "      <td>...</td>\n",
       "      <td>...</td>\n",
       "      <td>...</td>\n",
       "      <td>...</td>\n",
       "      <td>...</td>\n",
       "      <td>...</td>\n",
       "      <td>...</td>\n",
       "      <td>...</td>\n",
       "      <td>...</td>\n",
       "      <td>...</td>\n",
       "      <td>...</td>\n",
       "      <td>...</td>\n",
       "      <td>...</td>\n",
       "      <td>...</td>\n",
       "      <td>...</td>\n",
       "      <td>...</td>\n",
       "      <td>...</td>\n",
       "    </tr>\n",
       "    <tr>\n",
       "      <th>91829</th>\n",
       "      <td>1.813115</td>\n",
       "      <td>1.687106</td>\n",
       "      <td>-2.750688</td>\n",
       "      <td>-0.554159</td>\n",
       "      <td>-0.388292</td>\n",
       "      <td>-0.424414</td>\n",
       "      <td>-0.386380</td>\n",
       "      <td>1.595450</td>\n",
       "      <td>-0.255097</td>\n",
       "      <td>-0.559293</td>\n",
       "      <td>...</td>\n",
       "      <td>1.0</td>\n",
       "      <td>0.0</td>\n",
       "      <td>0.0</td>\n",
       "      <td>0.0</td>\n",
       "      <td>0.0</td>\n",
       "      <td>0.0</td>\n",
       "      <td>0.0</td>\n",
       "      <td>1.0</td>\n",
       "      <td>0.0</td>\n",
       "      <td>0.0</td>\n",
       "    </tr>\n",
       "    <tr>\n",
       "      <th>91830</th>\n",
       "      <td>-1.433758</td>\n",
       "      <td>-1.300645</td>\n",
       "      <td>-1.236336</td>\n",
       "      <td>-0.554159</td>\n",
       "      <td>-0.374284</td>\n",
       "      <td>-0.323658</td>\n",
       "      <td>-0.386380</td>\n",
       "      <td>1.595450</td>\n",
       "      <td>-0.255097</td>\n",
       "      <td>-0.559293</td>\n",
       "      <td>...</td>\n",
       "      <td>1.0</td>\n",
       "      <td>0.0</td>\n",
       "      <td>0.0</td>\n",
       "      <td>0.0</td>\n",
       "      <td>0.0</td>\n",
       "      <td>0.0</td>\n",
       "      <td>0.0</td>\n",
       "      <td>1.0</td>\n",
       "      <td>0.0</td>\n",
       "      <td>0.0</td>\n",
       "    </tr>\n",
       "    <tr>\n",
       "      <th>91831</th>\n",
       "      <td>-0.782348</td>\n",
       "      <td>0.082751</td>\n",
       "      <td>0.118010</td>\n",
       "      <td>1.123209</td>\n",
       "      <td>1.362704</td>\n",
       "      <td>1.360419</td>\n",
       "      <td>1.501914</td>\n",
       "      <td>1.595450</td>\n",
       "      <td>-0.615163</td>\n",
       "      <td>-0.042941</td>\n",
       "      <td>...</td>\n",
       "      <td>1.0</td>\n",
       "      <td>0.0</td>\n",
       "      <td>0.0</td>\n",
       "      <td>0.0</td>\n",
       "      <td>0.0</td>\n",
       "      <td>0.0</td>\n",
       "      <td>1.0</td>\n",
       "      <td>0.0</td>\n",
       "      <td>0.0</td>\n",
       "      <td>0.0</td>\n",
       "    </tr>\n",
       "    <tr>\n",
       "      <th>91832</th>\n",
       "      <td>-1.637324</td>\n",
       "      <td>-0.839513</td>\n",
       "      <td>-0.849652</td>\n",
       "      <td>0.843648</td>\n",
       "      <td>0.564250</td>\n",
       "      <td>0.712697</td>\n",
       "      <td>1.151280</td>\n",
       "      <td>1.595450</td>\n",
       "      <td>-0.709905</td>\n",
       "      <td>1.042688</td>\n",
       "      <td>...</td>\n",
       "      <td>0.0</td>\n",
       "      <td>0.0</td>\n",
       "      <td>1.0</td>\n",
       "      <td>0.0</td>\n",
       "      <td>0.0</td>\n",
       "      <td>0.0</td>\n",
       "      <td>0.0</td>\n",
       "      <td>0.0</td>\n",
       "      <td>0.0</td>\n",
       "      <td>1.0</td>\n",
       "    </tr>\n",
       "    <tr>\n",
       "      <th>91833</th>\n",
       "      <td>-1.057161</td>\n",
       "      <td>-1.079686</td>\n",
       "      <td>-1.019183</td>\n",
       "      <td>-0.973501</td>\n",
       "      <td>-0.976626</td>\n",
       "      <td>-0.928198</td>\n",
       "      <td>-0.863585</td>\n",
       "      <td>1.595450</td>\n",
       "      <td>-0.535415</td>\n",
       "      <td>0.436979</td>\n",
       "      <td>...</td>\n",
       "      <td>0.0</td>\n",
       "      <td>0.0</td>\n",
       "      <td>1.0</td>\n",
       "      <td>0.0</td>\n",
       "      <td>0.0</td>\n",
       "      <td>0.0</td>\n",
       "      <td>0.0</td>\n",
       "      <td>0.0</td>\n",
       "      <td>0.0</td>\n",
       "      <td>1.0</td>\n",
       "    </tr>\n",
       "  </tbody>\n",
       "</table>\n",
       "<p>91834 rows × 102 columns</p>\n",
       "</div>"
      ],
      "text/plain": [
       "       crs_dep_time  crs_arr_time  arr_time  crs_elapsed_time  \\\n",
       "0          1.705225      1.602566  1.607600         -0.987479   \n",
       "1         -0.342646     -0.291919 -0.253435         -0.707917   \n",
       "2         -0.631709     -0.674274 -0.617260         -0.945544   \n",
       "3          1.385627      1.262481  1.253299         -0.707917   \n",
       "4         -0.212364     -0.249649 -0.249625         -0.735873   \n",
       "...             ...           ...       ...               ...   \n",
       "91829      1.813115      1.687106 -2.750688         -0.554159   \n",
       "91830     -1.433758     -1.300645 -1.236336         -0.554159   \n",
       "91831     -0.782348      0.082751  0.118010          1.123209   \n",
       "91832     -1.637324     -0.839513 -0.849652          0.843648   \n",
       "91833     -1.057161     -1.079686 -1.019183         -0.973501   \n",
       "\n",
       "       actual_elapsed_time  air_time  distance     month  average_passengers  \\\n",
       "0                -0.948610 -1.072136 -1.152645 -1.597201            0.065070   \n",
       "1                -0.822538 -0.654715 -0.885821 -1.597201           -0.583839   \n",
       "2                -0.710475 -0.899410 -0.885821 -1.597201           -0.643612   \n",
       "3                -0.710475 -0.611534 -0.743856 -1.597201           -1.129219   \n",
       "4                -0.696467 -0.697897 -0.925160 -1.597201            0.062245   \n",
       "...                    ...       ...       ...       ...                 ...   \n",
       "91829            -0.388292 -0.424414 -0.386380  1.595450           -0.255097   \n",
       "91830            -0.374284 -0.323658 -0.386380  1.595450           -0.255097   \n",
       "91831             1.362704  1.360419  1.501914  1.595450           -0.615163   \n",
       "91832             0.564250  0.712697  1.151280  1.595450           -0.709905   \n",
       "91833            -0.976626 -0.928198 -0.863585  1.595450           -0.535415   \n",
       "\n",
       "       avg_passenger_capacity_usage  ...  weather_origin_simple_Cloudy  \\\n",
       "0                         -0.610478  ...                           1.0   \n",
       "1                         -0.700673  ...                           0.0   \n",
       "2                         -1.283697  ...                           0.0   \n",
       "3                         -3.310634  ...                           0.0   \n",
       "4                         -0.304188  ...                           1.0   \n",
       "...                             ...  ...                           ...   \n",
       "91829                     -0.559293  ...                           1.0   \n",
       "91830                     -0.559293  ...                           1.0   \n",
       "91831                     -0.042941  ...                           1.0   \n",
       "91832                      1.042688  ...                           0.0   \n",
       "91833                      0.436979  ...                           0.0   \n",
       "\n",
       "       weather_origin_simple_Heavy_snow  weather_origin_simple_Light&Mod_rain  \\\n",
       "0                                   0.0                                   0.0   \n",
       "1                                   0.0                                   0.0   \n",
       "2                                   0.0                                   0.0   \n",
       "3                                   0.0                                   0.0   \n",
       "4                                   0.0                                   0.0   \n",
       "...                                 ...                                   ...   \n",
       "91829                               0.0                                   0.0   \n",
       "91830                               0.0                                   0.0   \n",
       "91831                               0.0                                   0.0   \n",
       "91832                               0.0                                   1.0   \n",
       "91833                               0.0                                   1.0   \n",
       "\n",
       "       weather_origin_simple_Light&Mod_snow  weather_origin_simple_Sunny  \\\n",
       "0                                       0.0                          0.0   \n",
       "1                                       0.0                          1.0   \n",
       "2                                       0.0                          1.0   \n",
       "3                                       0.0                          1.0   \n",
       "4                                       0.0                          0.0   \n",
       "...                                     ...                          ...   \n",
       "91829                                   0.0                          0.0   \n",
       "91830                                   0.0                          0.0   \n",
       "91831                                   0.0                          0.0   \n",
       "91832                                   0.0                          0.0   \n",
       "91833                                   0.0                          0.0   \n",
       "\n",
       "       weather_dest_simple_Cloudy  weather_dest_simple_Heavy_snow  \\\n",
       "0                             0.0                             0.0   \n",
       "1                             0.0                             0.0   \n",
       "2                             0.0                             0.0   \n",
       "3                             1.0                             0.0   \n",
       "4                             0.0                             0.0   \n",
       "...                           ...                             ...   \n",
       "91829                         0.0                             0.0   \n",
       "91830                         0.0                             0.0   \n",
       "91831                         0.0                             1.0   \n",
       "91832                         0.0                             0.0   \n",
       "91833                         0.0                             0.0   \n",
       "\n",
       "       weather_dest_simple_Light&Mod_rain  weather_dest_simple_Light&Mod_snow  \\\n",
       "0                                     0.0                                 0.0   \n",
       "1                                     0.0                                 0.0   \n",
       "2                                     0.0                                 0.0   \n",
       "3                                     0.0                                 0.0   \n",
       "4                                     0.0                                 0.0   \n",
       "...                                   ...                                 ...   \n",
       "91829                                 1.0                                 0.0   \n",
       "91830                                 1.0                                 0.0   \n",
       "91831                                 0.0                                 0.0   \n",
       "91832                                 0.0                                 0.0   \n",
       "91833                                 0.0                                 0.0   \n",
       "\n",
       "       weather_dest_simple_Sunny  \n",
       "0                            1.0  \n",
       "1                            1.0  \n",
       "2                            1.0  \n",
       "3                            0.0  \n",
       "4                            1.0  \n",
       "...                          ...  \n",
       "91829                        0.0  \n",
       "91830                        0.0  \n",
       "91831                        0.0  \n",
       "91832                        1.0  \n",
       "91833                        1.0  \n",
       "\n",
       "[91834 rows x 102 columns]"
      ]
     },
     "execution_count": 26,
     "metadata": {},
     "output_type": "execute_result"
    }
   ],
=======
   "execution_count": null,
   "metadata": {},
   "outputs": [],
>>>>>>> 38e9d5b11c6a9ec3e7e1a0b6195bbcaa3ae44985
   "source": [
    "X_transform"
   ]
  },
  {
   "cell_type": "code",
<<<<<<< HEAD
   "execution_count": 27,
=======
   "execution_count": null,
>>>>>>> 38e9d5b11c6a9ec3e7e1a0b6195bbcaa3ae44985
   "metadata": {},
   "outputs": [],
   "source": [
    "import numpy as np \n",
    "\n",
    "# step 1\n",
    "X_corr = X_transform.corr().abs()\n",
    "\n",
    "# step 2\n",
<<<<<<< HEAD
    "indices = np.where(X_corr > 0.85) \n",
=======
    "indices = np.where(X_corr > 0.8) \n",
>>>>>>> 38e9d5b11c6a9ec3e7e1a0b6195bbcaa3ae44985
    "indices = [(X_corr.index[x], X.columns[y]) \n",
    "for x, y in zip(*indices)\n",
    "    if x != y and x < y]\n",
    "\n",
    "# step 3\n",
    "for idx in indices: #each pair\n",
    "    try:\n",
    "        X_transform.drop(idx[1], axis = 1, inplace=True)\n",
    "    except KeyError:\n",
    "        pass"
   ]
  },
  {
   "cell_type": "code",
<<<<<<< HEAD
   "execution_count": 28,
   "metadata": {},
   "outputs": [
    {
     "name": "stdout",
     "output_type": "stream",
     "text": [
      "[('crs_arr_time', 'arr_time'), ('crs_elapsed_time', 'actual_elapsed_time'), ('crs_elapsed_time', 'air_time'), ('crs_elapsed_time', 'distance'), ('actual_elapsed_time', 'air_time'), ('actual_elapsed_time', 'distance'), ('air_time', 'distance')]\n"
     ]
    }
   ],
=======
   "execution_count": null,
   "metadata": {},
   "outputs": [],
>>>>>>> 38e9d5b11c6a9ec3e7e1a0b6195bbcaa3ae44985
   "source": [
    "print(indices)"
   ]
  },
  {
   "cell_type": "code",
<<<<<<< HEAD
   "execution_count": 29,
   "metadata": {},
   "outputs": [
    {
     "name": "stdout",
     "output_type": "stream",
     "text": [
      "<class 'pandas.core.frame.DataFrame'>\n",
      "RangeIndex: 91834 entries, 0 to 91833\n",
      "Data columns (total 98 columns):\n",
      " #   Column                                Non-Null Count  Dtype  \n",
      "---  ------                                --------------  -----  \n",
      " 0   crs_dep_time                          91834 non-null  float64\n",
      " 1   crs_arr_time                          91834 non-null  float64\n",
      " 2   crs_elapsed_time                      91834 non-null  float64\n",
      " 3   month                                 91834 non-null  float64\n",
      " 4   average_passengers                    91834 non-null  float64\n",
      " 5   avg_passenger_capacity_usage          91834 non-null  float64\n",
      " 6   origin_ATL                            91834 non-null  float64\n",
      " 7   origin_AUS                            91834 non-null  float64\n",
      " 8   origin_BNA                            91834 non-null  float64\n",
      " 9   origin_BOS                            91834 non-null  float64\n",
      " 10  origin_BWI                            91834 non-null  float64\n",
      " 11  origin_CLT                            91834 non-null  float64\n",
      " 12  origin_DAL                            91834 non-null  float64\n",
      " 13  origin_DCA                            91834 non-null  float64\n",
      " 14  origin_DEN                            91834 non-null  float64\n",
      " 15  origin_DFW                            91834 non-null  float64\n",
      " 16  origin_DTW                            91834 non-null  float64\n",
      " 17  origin_EWR                            91834 non-null  float64\n",
      " 18  origin_FLL                            91834 non-null  float64\n",
      " 19  origin_HOU                            91834 non-null  float64\n",
      " 20  origin_IAD                            91834 non-null  float64\n",
      " 21  origin_IAH                            91834 non-null  float64\n",
      " 22  origin_JFK                            91834 non-null  float64\n",
      " 23  origin_LAS                            91834 non-null  float64\n",
      " 24  origin_LAX                            91834 non-null  float64\n",
      " 25  origin_LGA                            91834 non-null  float64\n",
      " 26  origin_MCO                            91834 non-null  float64\n",
      " 27  origin_MDW                            91834 non-null  float64\n",
      " 28  origin_MIA                            91834 non-null  float64\n",
      " 29  origin_MSP                            91834 non-null  float64\n",
      " 30  origin_OAK                            91834 non-null  float64\n",
      " 31  origin_ORD                            91834 non-null  float64\n",
      " 32  origin_PDX                            91834 non-null  float64\n",
      " 33  origin_PHL                            91834 non-null  float64\n",
      " 34  origin_PHX                            91834 non-null  float64\n",
      " 35  origin_SAN                            91834 non-null  float64\n",
      " 36  origin_SEA                            91834 non-null  float64\n",
      " 37  origin_SFO                            91834 non-null  float64\n",
      " 38  origin_SJC                            91834 non-null  float64\n",
      " 39  origin_SLC                            91834 non-null  float64\n",
      " 40  origin_STL                            91834 non-null  float64\n",
      " 41  origin_TPA                            91834 non-null  float64\n",
      " 42  dest_ATL                              91834 non-null  float64\n",
      " 43  dest_AUS                              91834 non-null  float64\n",
      " 44  dest_BNA                              91834 non-null  float64\n",
      " 45  dest_BOS                              91834 non-null  float64\n",
      " 46  dest_BWI                              91834 non-null  float64\n",
      " 47  dest_CLT                              91834 non-null  float64\n",
      " 48  dest_DAL                              91834 non-null  float64\n",
      " 49  dest_DCA                              91834 non-null  float64\n",
      " 50  dest_DEN                              91834 non-null  float64\n",
      " 51  dest_DFW                              91834 non-null  float64\n",
      " 52  dest_DTW                              91834 non-null  float64\n",
      " 53  dest_EWR                              91834 non-null  float64\n",
      " 54  dest_FLL                              91834 non-null  float64\n",
      " 55  dest_HOU                              91834 non-null  float64\n",
      " 56  dest_IAD                              91834 non-null  float64\n",
      " 57  dest_IAH                              91834 non-null  float64\n",
      " 58  dest_JFK                              91834 non-null  float64\n",
      " 59  dest_LAS                              91834 non-null  float64\n",
      " 60  dest_LAX                              91834 non-null  float64\n",
      " 61  dest_LGA                              91834 non-null  float64\n",
      " 62  dest_MCI                              91834 non-null  float64\n",
      " 63  dest_MCO                              91834 non-null  float64\n",
      " 64  dest_MDW                              91834 non-null  float64\n",
      " 65  dest_MIA                              91834 non-null  float64\n",
      " 66  dest_MSP                              91834 non-null  float64\n",
      " 67  dest_OAK                              91834 non-null  float64\n",
      " 68  dest_ORD                              91834 non-null  float64\n",
      " 69  dest_PDX                              91834 non-null  float64\n",
      " 70  dest_PHL                              91834 non-null  float64\n",
      " 71  dest_PHX                              91834 non-null  float64\n",
      " 72  dest_SAN                              91834 non-null  float64\n",
      " 73  dest_SEA                              91834 non-null  float64\n",
      " 74  dest_SFO                              91834 non-null  float64\n",
      " 75  dest_SJC                              91834 non-null  float64\n",
      " 76  dest_SLC                              91834 non-null  float64\n",
      " 77  dest_SMF                              91834 non-null  float64\n",
      " 78  dest_STL                              91834 non-null  float64\n",
      " 79  dest_TPA                              91834 non-null  float64\n",
      " 80  AA                                    91834 non-null  float64\n",
      " 81  AS                                    91834 non-null  float64\n",
      " 82  B6                                    91834 non-null  float64\n",
      " 83  DL                                    91834 non-null  float64\n",
      " 84  F9                                    91834 non-null  float64\n",
      " 85  NK                                    91834 non-null  float64\n",
      " 86  UA                                    91834 non-null  float64\n",
      " 87  WN                                    91834 non-null  float64\n",
      " 88  weather_origin_simple_Cloudy          91834 non-null  float64\n",
      " 89  weather_origin_simple_Heavy_snow      91834 non-null  float64\n",
      " 90  weather_origin_simple_Light&Mod_rain  91834 non-null  float64\n",
      " 91  weather_origin_simple_Light&Mod_snow  91834 non-null  float64\n",
      " 92  weather_origin_simple_Sunny           91834 non-null  float64\n",
      " 93  weather_dest_simple_Cloudy            91834 non-null  float64\n",
      " 94  weather_dest_simple_Heavy_snow        91834 non-null  float64\n",
      " 95  weather_dest_simple_Light&Mod_rain    91834 non-null  float64\n",
      " 96  weather_dest_simple_Light&Mod_snow    91834 non-null  float64\n",
      " 97  weather_dest_simple_Sunny             91834 non-null  float64\n",
      "dtypes: float64(98)\n",
      "memory usage: 68.7 MB\n"
     ]
    }
   ],
=======
   "execution_count": null,
   "metadata": {},
   "outputs": [],
>>>>>>> 38e9d5b11c6a9ec3e7e1a0b6195bbcaa3ae44985
   "source": [
    "X_transform.info()"
   ]
  },
  {
   "cell_type": "code",
<<<<<<< HEAD
   "execution_count": 30,
   "metadata": {},
   "outputs": [],
   "source": [
    "# Forward Regression - did not use \n",
    "\n",
    "from sklearn.feature_selection import f_regression, SelectKBest\n",
    "skb = SelectKBest(f_regression, k=50)\n",
=======
   "execution_count": null,
   "metadata": {},
   "outputs": [],
   "source": [
    "# Forward Regression\n",
    "\n",
    "from sklearn.feature_selection import f_regression, SelectKBest\n",
    "skb = SelectKBest(f_regression, k=10)\n",
>>>>>>> 38e9d5b11c6a9ec3e7e1a0b6195bbcaa3ae44985
    "X = skb.fit_transform(X_transform, y)"
   ]
  },
  {
   "cell_type": "code",
<<<<<<< HEAD
   "execution_count": 31,
   "metadata": {},
   "outputs": [],
   "source": [
    "\n",
=======
   "execution_count": null,
   "metadata": {},
   "outputs": [],
   "source": [
    "# this will give us the position of top 10 columns\n",
>>>>>>> 38e9d5b11c6a9ec3e7e1a0b6195bbcaa3ae44985
    "skb.get_support()\n",
    "# column names\n",
    "X_transform.columns[skb.get_support()]\n",
    "X = pd.DataFrame(X,columns=X_transform.columns[skb.get_support()])"
   ]
  },
  {
<<<<<<< HEAD
=======
   "cell_type": "code",
   "execution_count": null,
   "metadata": {},
   "outputs": [],
   "source": [
    "X.info()"
   ]
  },
  {
>>>>>>> 38e9d5b11c6a9ec3e7e1a0b6195bbcaa3ae44985
   "cell_type": "markdown",
   "metadata": {},
   "source": [
    "### Modeling"
   ]
  },
  {
   "cell_type": "markdown",
   "metadata": {},
   "source": [
    "Use different ML techniques to predict each problem.\n",
    "\n",
    "- linear / logistic / multinomial logistic regression\n",
    "- Naive Bayes\n",
    "- Random Forest\n",
    "- SVM\n",
    "- XGBoost\n",
    "- The ensemble of your own choice"
   ]
  },
  {
   "cell_type": "code",
   "execution_count": null,
   "metadata": {},
   "outputs": [],
<<<<<<< HEAD
=======
   "source": [
    "from pandas_profiling import ProfileReport"
   ]
  },
  {
   "cell_type": "code",
   "execution_count": null,
   "metadata": {},
   "outputs": [],
   "source": [
    "!pip install pandas-profiling[notebook]"
   ]
  },
  {
   "cell_type": "code",
   "execution_count": null,
   "metadata": {},
   "outputs": [],
>>>>>>> 38e9d5b11c6a9ec3e7e1a0b6195bbcaa3ae44985
   "source": []
  },
  {
   "cell_type": "markdown",
   "metadata": {},
   "source": [
    "#####  #1. Linear Regression"
   ]
  },
  {
   "cell_type": "code",
<<<<<<< HEAD
   "execution_count": 32,
   "metadata": {},
   "outputs": [
    {
     "name": "stderr",
     "output_type": "stream",
     "text": [
      "C:\\Users\\Irene\\anaconda3\\lib\\site-packages\\statsmodels\\tsa\\tsatools.py:142: FutureWarning: In a future version of pandas all arguments of concat except for the argument 'objs' will be keyword-only\n",
      "  x = pd.concat(x[::order], 1)\n"
     ]
    }
   ],
   "source": [
    "import statsmodels.api as sm\n",
    "X_con = sm.add_constant(X_transform) # adding a constant"
=======
   "execution_count": null,
   "metadata": {},
   "outputs": [],
   "source": [
    "import statsmodels.api as sm\n",
    "X = sm.add_constant(X) # adding a constant"
>>>>>>> 38e9d5b11c6a9ec3e7e1a0b6195bbcaa3ae44985
   ]
  },
  {
   "cell_type": "code",
<<<<<<< HEAD
   "execution_count": 33,
   "metadata": {
    "scrolled": true
   },
   "outputs": [
    {
     "name": "stdout",
     "output_type": "stream",
     "text": [
      "                            OLS Regression Results                            \n",
      "==============================================================================\n",
      "Dep. Variable:                      y   R-squared:                       0.053\n",
      "Model:                            OLS   Adj. R-squared:                  0.052\n",
      "Method:                 Least Squares   F-statistic:                     52.48\n",
      "Date:                Thu, 04 Aug 2022   Prob (F-statistic):               0.00\n",
      "Time:                        22:15:06   Log-Likelihood:            -3.8185e+05\n",
      "No. Observations:               91834   AIC:                         7.639e+05\n",
      "Df Residuals:                   91735   BIC:                         7.648e+05\n",
      "Df Model:                          98                                         \n",
      "Covariance Type:            nonrobust                                         \n",
      "========================================================================================================\n",
      "                                           coef    std err          t      P>|t|      [0.025      0.975]\n",
      "--------------------------------------------------------------------------------------------------------\n",
      "const                                   -0.0910      0.556     -0.164      0.870      -1.181       0.999\n",
      "crs_dep_time                             1.2899      0.070     18.552      0.000       1.154       1.426\n",
      "crs_arr_time                             0.2988      0.069      4.327      0.000       0.163       0.434\n",
      "crs_elapsed_time                        -0.6529      0.063    -10.364      0.000      -0.776      -0.529\n",
      "month                                   -0.4525      0.055     -8.174      0.000      -0.561      -0.344\n",
      "average_passengers                      -0.0117      0.061     -0.192      0.848      -0.132       0.108\n",
      "avg_passenger_capacity_usage             0.5927      0.064      9.244      0.000       0.467       0.718\n",
      "origin_ATL                               1.2377      0.287      4.310      0.000       0.675       1.801\n",
      "origin_AUS                               0.4831      0.463      1.042      0.297      -0.425       1.391\n",
      "origin_BNA                               2.3498      0.409      5.738      0.000       1.547       3.152\n",
      "origin_BOS                              -0.7075      0.406     -1.742      0.081      -1.503       0.088\n",
      "origin_BWI                               1.6065      0.371      4.329      0.000       0.879       2.334\n",
      "origin_CLT                               1.1466      0.369      3.107      0.002       0.423       1.870\n",
      "origin_DAL                               2.8482      0.412      6.915      0.000       2.041       3.655\n",
      "origin_DCA                              -0.8497      0.416     -2.041      0.041      -1.666      -0.034\n",
      "origin_DEN                               2.6707      0.297      8.995      0.000       2.089       3.253\n",
      "origin_DFW                               3.9152      0.343     11.411      0.000       3.243       4.588\n",
      "origin_DTW                               0.8018      0.398      2.015      0.044       0.022       1.582\n",
      "origin_EWR                               2.2296      0.428      5.214      0.000       1.391       3.068\n",
      "origin_FLL                               2.3667      0.457      5.178      0.000       1.471       3.262\n",
      "origin_HOU                               0.7524      0.465      1.617      0.106      -0.159       1.664\n",
      "origin_IAD                               0.2203      0.494      0.445      0.656      -0.749       1.189\n",
      "origin_IAH                               1.2212      0.391      3.125      0.002       0.455       1.987\n",
      "origin_JFK                              -3.4466      0.485     -7.109      0.000      -4.397      -2.496\n",
      "origin_LAS                               1.1790      0.329      3.587      0.000       0.535       1.823\n",
      "origin_LAX                              -0.7579      0.299     -2.539      0.011      -1.343      -0.173\n",
      "origin_LGA                              -2.9086      0.394     -7.378      0.000      -3.681      -2.136\n",
      "origin_MCO                               2.7984      0.374      7.492      0.000       2.066       3.531\n",
      "origin_MDW                               2.6738      0.398      6.721      0.000       1.894       3.454\n",
      "origin_MIA                               1.4630      0.521      2.807      0.005       0.441       2.485\n",
      "origin_MSP                               1.6577      0.432      3.838      0.000       0.811       2.504\n",
      "origin_OAK                               3.0824      0.480      6.415      0.000       2.141       4.024\n",
      "origin_ORD                               3.1441      0.304     10.327      0.000       2.547       3.741\n",
      "origin_PDX                               1.8772      0.489      3.839      0.000       0.919       2.835\n",
      "origin_PHL                               1.4149      0.426      3.323      0.001       0.580       2.249\n",
      "origin_PHX                               2.1610      0.331      6.537      0.000       1.513       2.809\n",
      "origin_SAN                              -1.1916      0.436     -2.732      0.006      -2.046      -0.337\n",
      "origin_SEA                               2.4769      0.383      6.459      0.000       1.725       3.229\n",
      "origin_SFO                               0.7246      0.378      1.919      0.055      -0.015       1.465\n",
      "origin_SJC                               0.7363      0.500      1.472      0.141      -0.244       1.717\n",
      "origin_SLC                               0.1414      0.462      0.306      0.760      -0.765       1.048\n",
      "origin_STL                              -1.3841      0.498     -2.781      0.005      -2.360      -0.409\n",
      "origin_TPA                               1.1869      0.516      2.302      0.021       0.176       2.198\n",
      "dest_ATL                                -0.1251      0.294     -0.426      0.670      -0.701       0.451\n",
      "dest_AUS                                 0.0674      0.484      0.139      0.889      -0.882       1.017\n",
      "dest_BNA                                -0.0449      0.428     -0.105      0.917      -0.885       0.795\n",
      "dest_BOS                                -1.1957      0.411     -2.909      0.004      -2.002      -0.390\n",
      "dest_BWI                                -0.2313      0.380     -0.609      0.543      -0.976       0.514\n",
      "dest_CLT                                -1.4623      0.366     -3.995      0.000      -2.180      -0.745\n",
      "dest_DAL                                 1.2107      0.437      2.771      0.006       0.354       2.067\n",
      "dest_DCA                                -1.5712      0.414     -3.800      0.000      -2.382      -0.761\n",
      "dest_DEN                                 1.5934      0.308      5.178      0.000       0.990       2.197\n",
      "dest_DFW                                 0.6829      0.348      1.964      0.050       0.001       1.364\n",
      "dest_DTW                                -0.2076      0.394     -0.527      0.598      -0.980       0.565\n",
      "dest_EWR                                 2.0421      0.427      4.780      0.000       1.205       2.879\n",
      "dest_FLL                                 1.2523      0.465      2.691      0.007       0.340       2.164\n",
      "dest_HOU                                -0.4104      0.471     -0.872      0.383      -1.333       0.512\n",
      "dest_IAD                                -0.4640      0.488     -0.951      0.342      -1.421       0.492\n",
      "dest_IAH                                -1.0522      0.389     -2.708      0.007      -1.814      -0.291\n",
      "dest_JFK                                -1.9714      0.476     -4.143      0.000      -2.904      -1.039\n",
      "dest_LAS                                 0.0906      0.329      0.276      0.783      -0.553       0.735\n",
      "dest_LAX                                -0.7545      0.305     -2.474      0.013      -1.352      -0.157\n",
      "dest_LGA                                -0.9828      0.394     -2.497      0.013      -1.754      -0.211\n",
      "dest_MCI                                 0.3917      0.516      0.759      0.448      -0.620       1.404\n",
      "dest_MCO                                 0.9847      0.375      2.629      0.009       0.251       1.719\n",
      "dest_MDW                                 0.2875      0.405      0.710      0.478      -0.506       1.081\n",
      "dest_MIA                                -0.8024      0.516     -1.555      0.120      -1.814       0.209\n",
      "dest_MSP                                -0.5883      0.431     -1.366      0.172      -1.433       0.256\n",
      "dest_OAK                                 1.7088      0.501      3.408      0.001       0.726       2.691\n",
      "dest_ORD                                -1.3036      0.307     -4.247      0.000      -1.905      -0.702\n",
      "dest_PDX                                -0.1662      0.502     -0.331      0.741      -1.150       0.818\n",
      "dest_PHL                                -1.5876      0.424     -3.746      0.000      -2.418      -0.757\n",
      "dest_PHX                                 1.6713      0.335      4.985      0.000       1.014       2.328\n",
      "dest_SAN                                 1.5361      0.418      3.679      0.000       0.718       2.355\n",
      "dest_SEA                                 0.8868      0.384      2.310      0.021       0.134       1.639\n",
      "dest_SFO                                -0.3642      0.379     -0.961      0.336      -1.107       0.378\n",
      "dest_SJC                                 1.2968      0.474      2.733      0.006       0.367       2.227\n",
      "dest_SLC                                 0.0469      0.459      0.102      0.919      -0.852       0.946\n",
      "dest_SMF                                 0.3176      0.517      0.614      0.539      -0.696       1.331\n",
      "dest_STL                                -0.6134      0.448     -1.370      0.171      -1.491       0.264\n",
      "dest_TPA                                 0.9135      0.472      1.935      0.053      -0.012       1.839\n",
      "AA                                      -3.2732      0.474     -6.905      0.000      -4.202      -2.344\n",
      "AS                                      -6.6926      0.527    -12.706      0.000      -7.725      -5.660\n",
      "B6                                      -1.6650      0.582     -2.863      0.004      -2.805      -0.525\n",
      "DL                                      -6.4153      0.473    -13.556      0.000      -7.343      -5.488\n",
      "F9                                      -5.6369      0.613     -9.194      0.000      -6.839      -4.435\n",
      "NK                                      -5.7874      0.556    -10.412      0.000      -6.877      -4.698\n",
      "UA                                      -5.4777      0.483    -11.346      0.000      -6.424      -4.531\n",
      "WN                                      -2.7303      0.456     -5.992      0.000      -3.623      -1.837\n",
      "weather_origin_simple_Cloudy            -0.1161      0.279     -0.416      0.677      -0.662       0.430\n",
      "weather_origin_simple_Heavy_snow        11.3382      0.559     20.271      0.000      10.242      12.434\n",
      "weather_origin_simple_Light&Mod_rain    -0.1133      0.302     -0.375      0.707      -0.705       0.478\n",
      "weather_origin_simple_Light&Mod_snow     8.8379      0.509     17.364      0.000       7.840       9.835\n",
      "weather_origin_simple_Sunny             -0.2565      0.276     -0.928      0.353      -0.798       0.285\n",
      "weather_dest_simple_Cloudy              -1.7153      0.282     -6.093      0.000      -2.267      -1.164\n",
      "weather_dest_simple_Heavy_snow           4.4855      0.515      8.717      0.000       3.477       5.494\n",
      "weather_dest_simple_Light&Mod_rain      -1.8949      0.304     -6.234      0.000      -2.491      -1.299\n",
      "weather_dest_simple_Light&Mod_snow       3.3780      0.506      6.675      0.000       2.386       4.370\n",
      "weather_dest_simple_Sunny               -1.9420      0.280     -6.944      0.000      -2.490      -1.394\n",
      "==============================================================================\n",
      "Omnibus:                     7788.576   Durbin-Watson:                   1.776\n",
      "Prob(Omnibus):                  0.000   Jarque-Bera (JB):            10080.195\n",
      "Skew:                           0.752   Prob(JB):                         0.00\n",
      "Kurtosis:                       3.612   Cond. No.                         38.8\n",
      "==============================================================================\n",
      "\n",
      "Notes:\n",
      "[1] Standard Errors assume that the covariance matrix of the errors is correctly specified.\n"
     ]
    }
   ],
   "source": [
    "y = list(y)\n",
    "\n",
    "lin_reg = sm.OLS(y,X_con)\n",
    "# performing the regression\n",
    "# and fitting the model\n",
    "result = sm.OLS(y, X_con).fit()\n",
=======
   "execution_count": null,
   "metadata": {
    "scrolled": true
   },
   "outputs": [],
   "source": [
    "y = list(y)\n",
    "\n",
    "lin_reg = sm.OLS(y,X)\n",
    "# performing the regression\n",
    "# and fitting the model\n",
    "result = sm.OLS(y, X).fit()\n",
>>>>>>> 38e9d5b11c6a9ec3e7e1a0b6195bbcaa3ae44985
    " \n",
    "# printing the summary table\n",
    "print(result.summary())"
   ]
  },
  {
   "cell_type": "code",
<<<<<<< HEAD
   "execution_count": 34,
   "metadata": {},
   "outputs": [
    {
     "data": {
      "text/plain": [
       "0.053083363212731216"
      ]
     },
     "execution_count": 34,
     "metadata": {},
     "output_type": "execute_result"
    }
   ],
   "source": [
    "from sklearn.linear_model import LinearRegression\n",
    "\n",
    "regressor = LinearRegression()\n",
    "regressor.fit(X_transform, y)\n",
    "\n",
    "regressor.score(X_transform,y) # R-squared"
=======
   "execution_count": null,
   "metadata": {},
   "outputs": [],
   "source": [
    "from sklearn.linear_model import LinearRegression\n",
    "regressor = LinearRegression()\n",
    "regressor.fit(X, y)\n",
    "\n",
    "print(regressor.coef_)\n",
    "regressor.score(X,y) # R-squared"
>>>>>>> 38e9d5b11c6a9ec3e7e1a0b6195bbcaa3ae44985
   ]
  },
  {
   "cell_type": "markdown",
   "metadata": {},
   "source": [
<<<<<<< HEAD
    "#####  #2. Multinomial Logistic Regression- takes forever to run the code. (did not finish it in the end!) "
=======
    "#####  #2. Multinomial Logistic Regression"
>>>>>>> 38e9d5b11c6a9ec3e7e1a0b6195bbcaa3ae44985
   ]
  },
  {
   "cell_type": "code",
<<<<<<< HEAD
   "execution_count": 37,
   "metadata": {},
   "outputs": [
    {
     "data": {
      "text/plain": [
       "'\\n# Step 1: Import Packages, Functions, and Classes\\nfrom sklearn.linear_model import LogisticRegression\\nfrom sklearn.metrics import classification_report, confusion_matrix\\n\\n# Step 2: Get Data - We already have X, y\\n'"
      ]
     },
     "execution_count": 37,
     "metadata": {},
     "output_type": "execute_result"
    }
   ],
   "source": [
    "'''\n",
=======
   "execution_count": null,
   "metadata": {},
   "outputs": [],
   "source": [
>>>>>>> 38e9d5b11c6a9ec3e7e1a0b6195bbcaa3ae44985
    "# Step 1: Import Packages, Functions, and Classes\n",
    "from sklearn.linear_model import LogisticRegression\n",
    "from sklearn.metrics import classification_report, confusion_matrix\n",
    "\n",
<<<<<<< HEAD
    "# Step 2: Get Data - We already have X, y\n",
    "'''"
   ]
  },
  {
   "cell_type": "markdown",
   "metadata": {},
   "source": [
    "#### 2. Polynomial regression?"
=======
    "# Step 2: Get Data - We already have X, y"
>>>>>>> 38e9d5b11c6a9ec3e7e1a0b6195bbcaa3ae44985
   ]
  },
  {
   "cell_type": "code",
<<<<<<< HEAD
   "execution_count": 38,
   "metadata": {},
   "outputs": [
    {
     "data": {
      "text/plain": [
       "'from sklearn.model_selection import train_test_split\\nX_train, X_test, y_train, y_test= train_test_split(X_transform, y, test_size=0.3, random_state=42)'"
      ]
     },
     "execution_count": 38,
     "metadata": {},
     "output_type": "execute_result"
    }
   ],
   "source": [
    "'''from sklearn.model_selection import train_test_split\n",
    "X_train, X_test, y_train, y_test= train_test_split(X_transform, y, test_size=0.3, random_state=42)'''"
=======
   "execution_count": null,
   "metadata": {},
   "outputs": [],
   "source": [
    "X = X\n",
    "y = new_flights['arr_delay']\n"
>>>>>>> 38e9d5b11c6a9ec3e7e1a0b6195bbcaa3ae44985
   ]
  },
  {
   "cell_type": "code",
<<<<<<< HEAD
   "execution_count": 39,
   "metadata": {},
   "outputs": [
    {
     "data": {
      "text/plain": [
       "\"\\nfrom sklearn.model_selection import cross_val_score\\nfrom sklearn.model_selection import RepeatedStratifiedKFold\\n\\n# Step 3: Create a Model and Train It\\nmodel = LogisticRegression(multi_class='multinomial', solver='lbfgs')\\n\\n# define the model evaluation procedure\\ncv = RepeatedStratifiedKFold(n_splits=10, n_repeats=3, random_state=1)\\n# evaluate the model and collect the scores\\nn_scores = cross_val_score(model, X, y, scoring='accuracy', cv=cv, n_jobs=-1)\\n# report the model performance\\nprint('Mean Accuracy: %.3f (%.3f)' % (mean(n_scores), std(n_scores)))\\n\""
      ]
     },
     "execution_count": 39,
     "metadata": {},
     "output_type": "execute_result"
    }
   ],
=======
   "execution_count": null,
   "metadata": {},
   "outputs": [],
   "source": [
    "X"
   ]
  },
  {
   "cell_type": "code",
   "execution_count": null,
   "metadata": {},
   "outputs": [],
   "source": [
    "from sklearn.preprocessing import MinMaxScaler\n",
    "scaler = MinMaxScaler()\n",
    "scaler.fit(X)\n",
    "X_scaled = scaler.transform(X)"
   ]
  },
  {
   "cell_type": "code",
   "execution_count": null,
   "metadata": {},
   "outputs": [],
   "source": [
    "from sklearn.model_selection import train_test_split\n",
    "X_train, X_test, y_train, y_test= train_test_split(X_scaled, y, test_size=0.3, random_state=42)"
   ]
  },
  {
   "cell_type": "code",
   "execution_count": null,
   "metadata": {},
   "outputs": [],
>>>>>>> 38e9d5b11c6a9ec3e7e1a0b6195bbcaa3ae44985
   "source": [
    "'''\n",
    "from sklearn.model_selection import cross_val_score\n",
    "from sklearn.model_selection import RepeatedStratifiedKFold\n",
    "\n",
    "# Step 3: Create a Model and Train It\n",
    "model = LogisticRegression(multi_class='multinomial', solver='lbfgs')\n",
    "\n",
    "# define the model evaluation procedure\n",
    "cv = RepeatedStratifiedKFold(n_splits=10, n_repeats=3, random_state=1)\n",
    "# evaluate the model and collect the scores\n",
    "n_scores = cross_val_score(model, X, y, scoring='accuracy', cv=cv, n_jobs=-1)\n",
    "# report the model performance\n",
    "print('Mean Accuracy: %.3f (%.3f)' % (mean(n_scores), std(n_scores)))\n",
    "'''"
   ]
  },
  {
   "cell_type": "code",
   "execution_count": null,
   "metadata": {},
   "outputs": [],
<<<<<<< HEAD
   "source": []
=======
   "source": [
    "from sklearn.linear_model import LogisticRegression\n",
    "clf = LogisticRegression(penalty=\"l1\", multi_class = 'multinomial', solver='saga')\n",
    "# training the model\n",
    "clf.fit(X_train, y_train)"
   ]
>>>>>>> 38e9d5b11c6a9ec3e7e1a0b6195bbcaa3ae44985
  },
  {
   "cell_type": "markdown",
   "metadata": {},
   "source": [
<<<<<<< HEAD
    "note for multinomial logistic regression: The “saga” solver 7 is a variant of “sag” that also supports the non-smooth penalty=\"l1\". This is therefore the solver of choice for sparse multinomial logistic regression. It is also the only solver that supports penalty=\"elasticnet\"."
   ]
  },
  {
   "cell_type": "code",
   "execution_count": 40,
   "metadata": {},
   "outputs": [
    {
     "data": {
      "text/plain": [
       "'\\n### takes forever to run. max_iter = 100 does not converge data\\nfrom sklearn.linear_model import LogisticRegression\\nclf = LogisticRegression(penalty=\"l1\", max_iter=200, multi_class = \\'multinomial\\', solver=\\'saga\\')\\n# training the model\\nclf.fit(X_train, y_train)\\n'"
      ]
     },
     "execution_count": 40,
     "metadata": {},
     "output_type": "execute_result"
    }
   ],
   "source": [
    "'''\n",
    "### takes forever to run. max_iter = 100 does not converge data\n",
    "from sklearn.linear_model import LogisticRegression\n",
    "clf = LogisticRegression(penalty=\"l1\", max_iter=200, multi_class = 'multinomial', solver='saga')\n",
    "# training the model\n",
    "clf.fit(X_train, y_train)\n",
    "'''"
=======
    "The “saga” solver 7 is a variant of “sag” that also supports the non-smooth penalty=\"l1\". This is therefore the solver of choice for sparse multinomial logistic regression. It is also the only solver that supports penalty=\"elasticnet\"."
>>>>>>> 38e9d5b11c6a9ec3e7e1a0b6195bbcaa3ae44985
   ]
  },
  {
   "cell_type": "code",
   "execution_count": null,
   "metadata": {},
   "outputs": [],
<<<<<<< HEAD
   "source": []
  },
  {
   "cell_type": "code",
   "execution_count": 41,
   "metadata": {},
   "outputs": [
    {
     "data": {
      "text/plain": [
       "'y_pred = clf.predict(X_test)'"
      ]
     },
     "execution_count": 41,
     "metadata": {},
     "output_type": "execute_result"
    }
   ],
   "source": [
    "'''y_pred = clf.predict(X_test)'''"
=======
   "source": [
    "y_pred = clf.predict(X_test)"
>>>>>>> 38e9d5b11c6a9ec3e7e1a0b6195bbcaa3ae44985
   ]
  },
  {
   "cell_type": "code",
<<<<<<< HEAD
   "execution_count": 42,
   "metadata": {},
   "outputs": [
    {
     "data": {
      "text/plain": [
       "'from sklearn.metrics import accuracy_score\\naccuracy = accuracy_score(y_test, y_pred)\\nprint(\"Accuracy: {:.2f}%\".format(accuracy * 100))'"
      ]
     },
     "execution_count": 42,
     "metadata": {},
     "output_type": "execute_result"
    }
   ],
   "source": [
    "'''from sklearn.metrics import accuracy_score\n",
    "accuracy = accuracy_score(y_test, y_pred)\n",
    "print(\"Accuracy: {:.2f}%\".format(accuracy * 100))'''"
=======
   "execution_count": null,
   "metadata": {},
   "outputs": [],
   "source": [
    "from sklearn.metrics import accuracy_score\n",
    "accuracy = accuracy_score(y_test, y_pred)\n",
    "print(\"Accuracy: {:.2f}%\".format(accuracy * 100))"
>>>>>>> 38e9d5b11c6a9ec3e7e1a0b6195bbcaa3ae44985
   ]
  },
  {
   "cell_type": "code",
   "execution_count": null,
   "metadata": {},
   "outputs": [],
   "source": []
  },
  {
   "cell_type": "markdown",
   "metadata": {},
   "source": [
    "#####  #3. Random Forest"
   ]
  },
  {
   "cell_type": "code",
<<<<<<< HEAD
   "execution_count": 35,
=======
   "execution_count": null,
>>>>>>> 38e9d5b11c6a9ec3e7e1a0b6195bbcaa3ae44985
   "metadata": {},
   "outputs": [],
   "source": [
    "from sklearn.model_selection import train_test_split\n",
<<<<<<< HEAD
    "X_train, X_test, y_train, y_test= train_test_split(X_transform, y, test_size=0.3, random_state=42)\n"
   ]
  },
  {
   "cell_type": "code",
   "execution_count": 36,
   "metadata": {},
   "outputs": [
    {
     "name": "stdout",
     "output_type": "stream",
     "text": [
      "Fitting 3 folds for each of 12 candidates, totalling 36 fits\n"
     ]
    },
    {
     "name": "stderr",
     "output_type": "stream",
     "text": [
      "C:\\Users\\Irene\\anaconda3\\lib\\site-packages\\sklearn\\model_selection\\_search.py:922: UserWarning: One or more of the test scores are non-finite: [0.15636295 0.15924233 0.15968371 0.15937637 0.15476308 0.15954529\n",
      " 0.15987811 0.16098466        nan 0.15596069 0.15732905 0.1583119 ]\n",
      "  warnings.warn(\n"
     ]
    },
    {
     "data": {
      "text/plain": [
       "\"    'max_features': [2, 3],\\n    'min_samples_leaf': [3, 4, 5],\\n    'min_samples_split': [2, 5, 10],\""
      ]
     },
     "execution_count": 36,
     "metadata": {},
     "output_type": "execute_result"
    }
   ],
   "source": [
    "from sklearn.ensemble import RandomForestRegressor # Import Random Forest Regressor\n",
    "from sklearn.model_selection import GridSearchCV\n",
    "# Create the parameter grid based on the results of random search \n",
    "param_grid = {\n",
    "    'bootstrap': [True],\n",
    "    'max_depth': 30,\n",
    "    'max_features': [2, 3],\n",
    "    'min_samples_leaf': [3, 4, 5],\n",
    "    'min_samples_split': [2, 5, 10],\n",
    "    'n_estimators': 1000,\n",
    "    \n",
    "}\n",
    "# Create a based model\n",
    "rf = RandomForestRegressor()\n",
    "# Instantiate the grid search model\n",
    "grid_search = GridSearchCV(estimator = rf, param_grid = param_grid, \n",
    "                          cv = 3, n_jobs = -1, verbose = 2)\n",
    "\n",
    "# Fit the grid search to the data\n",
    "grid_search.fit(X_train, y_train)\n",
    "grid_search.best_params_\n"
   ]
  },
  {
   "cell_type": "code",
   "execution_count": 66,
   "metadata": {},
   "outputs": [
    {
     "data": {
      "text/plain": [
       "RandomForestRegressor(max_depth=30, n_estimators=1000)"
      ]
     },
     "execution_count": 66,
     "metadata": {},
     "output_type": "execute_result"
    }
   ],
   "source": [
    "grid_search.best_estimator_\n"
=======
    "X_train, X_test, y_train, y_test= train_test_split(X, y, test_size=0.3, random_state=42)\n"
>>>>>>> 38e9d5b11c6a9ec3e7e1a0b6195bbcaa3ae44985
   ]
  },
  {
   "cell_type": "code",
   "execution_count": null,
   "metadata": {},
   "outputs": [],
<<<<<<< HEAD
   "source": []
  },
  {
   "cell_type": "code",
   "execution_count": 39,
   "metadata": {},
   "outputs": [
    {
     "data": {
      "text/plain": [
       "RandomForestRegressor(max_depth=30, n_estimators=1000)"
      ]
     },
     "execution_count": 39,
     "metadata": {},
     "output_type": "execute_result"
    }
   ],
   "source": [
    "from sklearn.ensemble import RandomForestRegressor # Import Random Forest Regressory\n",
    "regr = RandomForestRegressor(max_depth=30, n_estimators = 1000)\n",
    "regr.fit(X_train, y_train)"
=======
   "source": [
    "from sklearn.ensemble import RandomForestRegressor # Import Random Forest Classifier\n",
    "regr = RandomForestRegressor(max_depth=10)\n",
    "regr.fit(X_train, y_train)\n"
>>>>>>> 38e9d5b11c6a9ec3e7e1a0b6195bbcaa3ae44985
   ]
  },
  {
   "cell_type": "code",
<<<<<<< HEAD
   "execution_count": 40,
=======
   "execution_count": null,
>>>>>>> 38e9d5b11c6a9ec3e7e1a0b6195bbcaa3ae44985
   "metadata": {},
   "outputs": [],
   "source": [
    "y_pred = regr.predict(X_test)"
   ]
  },
  {
   "cell_type": "code",
<<<<<<< HEAD
   "execution_count": 41,
   "metadata": {},
   "outputs": [
    {
     "name": "stdout",
     "output_type": "stream",
     "text": [
      "Mean Absolute Error: 10.99\n",
      "Mean Squared Error: 14.37\n",
      "R-squared scores: 0.18\n"
     ]
    }
   ],
   "source": [
    "from sklearn.metrics import mean_squared_error, r2_score, mean_absolute_error\n",
    "# Mean absolute error (MAE)\n",
    "mae = mean_absolute_error(y_test, y_pred)\n",
    "\n",
    "# Mean squared error (MSE)\n",
    "mse = mean_squared_error(y_test, y_pred, squared=False)\n",
    "\n",
    "# R-squared scores\n",
    "r2 = r2_score(y_test, y_pred)\n",
    "\n",
    "print('Mean Absolute Error:', round(mae, 2))\n",
    "print('Mean Squared Error:', round(mse, 2))\n",
    "print('R-squared scores:', round(r2, 2))"
   ]
  },
  {
   "cell_type": "code",
   "execution_count": 42,
   "metadata": {},
   "outputs": [],
   "source": [
    "result = y_pred.tolist()"
   ]
  },
  {
   "cell_type": "markdown",
   "metadata": {},
   "source": [
    "##### Lasso Regression - garbage out"
   ]
  },
  {
   "cell_type": "code",
   "execution_count": 44,
   "metadata": {},
   "outputs": [],
   "source": [
    "from sklearn import linear_model\n",
    "reg = linear_model.Lasso(alpha=0.5)\n",
    "reg.fit(X_train, y_train)\n",
    "y_pred = reg.predict(X_test)"
   ]
  },
  {
   "cell_type": "code",
   "execution_count": 45,
   "metadata": {},
   "outputs": [
    {
     "name": "stdout",
     "output_type": "stream",
     "text": [
      "Mean Absolute Error: 12.13\n",
      "Mean Squared Error: 15.75\n",
      "R-squared scores: 0.01\n"
     ]
    }
   ],
   "source": [
    "# Mean absolute error (MAE)\n",
    "mae = mean_absolute_error(y_test, y_pred)\n",
    "\n",
    "# Mean squared error (MSE)\n",
    "mse = mean_squared_error(y_test, y_pred, squared=False)\n",
    "\n",
    "# R-squared scores\n",
    "r2 = r2_score(y_test, y_pred)\n",
    "\n",
    "print('Mean Absolute Error:', round(mae, 2))\n",
    "print('Mean Squared Error:', round(mse, 2))\n",
    "print('R-squared scores:', round(r2, 2))"
   ]
  },
  {
   "cell_type": "markdown",
   "metadata": {},
   "source": [
    "##### Ridge Regression - not so useful"
   ]
  },
  {
   "cell_type": "code",
   "execution_count": 47,
   "metadata": {},
   "outputs": [],
   "source": [
    "from sklearn import linear_model\n",
    "reg = linear_model.Ridge(alpha=.5)\n",
    "reg.fit(X_train, y_train)\n",
    "y_pred = reg.predict(X_test)"
   ]
  },
  {
   "cell_type": "code",
   "execution_count": 48,
   "metadata": {},
   "outputs": [
    {
     "name": "stdout",
     "output_type": "stream",
     "text": [
      "Mean Absolute Error: 11.95\n",
      "Mean Squared Error: 15.48\n",
      "R-squared scores: 0.05\n"
     ]
    }
   ],
   "source": [
    "# Mean absolute error (MAE)\n",
    "mae = mean_absolute_error(y_test, y_pred)\n",
    "\n",
    "# Mean squared error (MSE)\n",
    "mse = mean_squared_error(y_test, y_pred, squared=False)\n",
    "\n",
    "# R-squared scores\n",
    "r2 = r2_score(y_test, y_pred)\n",
    "\n",
    "print('Mean Absolute Error:', round(mae, 2))\n",
    "print('Mean Squared Error:', round(mse, 2))\n",
    "print('R-squared scores:', round(r2, 2))"
   ]
  },
  {
   "cell_type": "code",
   "execution_count": null,
   "metadata": {},
   "outputs": [],
   "source": []
  },
  {
   "cell_type": "markdown",
   "metadata": {},
   "source": [
    "##### PCA - regression"
   ]
  },
  {
   "cell_type": "code",
   "execution_count": 49,
   "metadata": {},
   "outputs": [],
   "source": [
    "# Step 1 — Initial Setup\n",
    "import numpy as np\n",
    "import pandas as pd\n",
    "import matplotlib.pyplot as plt\n",
    "\n",
    "from sklearn.preprocessing import scale \n",
    "from sklearn.linear_model import LinearRegression, RidgeCV, LassoCV\n",
    "from sklearn.model_selection import KFold, cross_val_score, train_test_split\n",
    "from sklearn.metrics import mean_squared_error\n",
    "from sklearn.decomposition import PCA\n",
    "\n",
    "X_train, X_test, y_train, y_test= train_test_split(X_transform, y, test_size=0.3, random_state=42)\n",
    "\n",
    "# Step 2 — Standardize Features - already done"
   ]
  },
  {
   "cell_type": "code",
   "execution_count": 50,
   "metadata": {},
   "outputs": [],
   "source": [
    "## Step 3 — Run Baseline Regression Models\n",
    "# Define cross-validation folds\n",
    "cv = KFold(n_splits=10, shuffle=True, random_state=42)\n",
    "\n",
    "# Linear Regression\n",
    "lin_reg = LinearRegression().fit(X_train, y_train)\n",
    "lr_score_train = -1 * cross_val_score(lin_reg, X_train, y_train, cv=cv, scoring='neg_root_mean_squared_error').mean()\n",
    "lr_score_test = mean_squared_error(y_test, lin_reg.predict(X_test), squared=False)\n",
    "\n",
    "# Lasso Regression\n",
    "lasso_reg = LassoCV().fit(X_train, y_train)\n",
    "lasso_score_train = -1 * cross_val_score(lasso_reg, X_train, y_train, cv=cv, scoring='neg_root_mean_squared_error').mean()\n",
    "lasso_score_test = mean_squared_error(y_test, lasso_reg.predict(X_test), squared=False)\n",
    "\n",
    "# Ridge Regression\n",
    "ridge_reg = RidgeCV().fit(X_train, y_train)\n",
    "ridge_score_train = -1 * cross_val_score(ridge_reg, X_train, y_train, cv=cv, scoring='neg_root_mean_squared_error').mean()\n",
    "ridge_score_test = mean_squared_error(y_test, ridge_reg.predict(X_test), squared=False)"
   ]
  },
  {
   "cell_type": "code",
   "execution_count": 51,
   "metadata": {},
   "outputs": [
    {
     "data": {
      "text/html": [
       "<div>\n",
       "<style scoped>\n",
       "    .dataframe tbody tr th:only-of-type {\n",
       "        vertical-align: middle;\n",
       "    }\n",
       "\n",
       "    .dataframe tbody tr th {\n",
       "        vertical-align: top;\n",
       "    }\n",
       "\n",
       "    .dataframe thead th {\n",
       "        text-align: right;\n",
       "    }\n",
       "</style>\n",
       "<table border=\"1\" class=\"dataframe\">\n",
       "  <thead>\n",
       "    <tr style=\"text-align: right;\">\n",
       "      <th></th>\n",
       "      <th>0</th>\n",
       "      <th>1</th>\n",
       "      <th>2</th>\n",
       "      <th>3</th>\n",
       "      <th>4</th>\n",
       "      <th>5</th>\n",
       "      <th>6</th>\n",
       "      <th>7</th>\n",
       "      <th>8</th>\n",
       "      <th>9</th>\n",
       "      <th>...</th>\n",
       "      <th>88</th>\n",
       "      <th>89</th>\n",
       "      <th>90</th>\n",
       "      <th>91</th>\n",
       "      <th>92</th>\n",
       "      <th>93</th>\n",
       "      <th>94</th>\n",
       "      <th>95</th>\n",
       "      <th>96</th>\n",
       "      <th>97</th>\n",
       "    </tr>\n",
       "  </thead>\n",
       "  <tbody>\n",
       "    <tr>\n",
       "      <th>0</th>\n",
       "      <td>-0.702931</td>\n",
       "      <td>0.072621</td>\n",
       "      <td>-0.030778</td>\n",
       "      <td>0.010799</td>\n",
       "      <td>-0.016352</td>\n",
       "      <td>0.063916</td>\n",
       "      <td>0.670568</td>\n",
       "      <td>0.207979</td>\n",
       "      <td>0.028004</td>\n",
       "      <td>0.010023</td>\n",
       "      <td>...</td>\n",
       "      <td>-0.002681</td>\n",
       "      <td>0.006098</td>\n",
       "      <td>0.000161</td>\n",
       "      <td>0.000224</td>\n",
       "      <td>0.000031</td>\n",
       "      <td>0.000767</td>\n",
       "      <td>0.004868</td>\n",
       "      <td>-0.003102</td>\n",
       "      <td>-0.000585</td>\n",
       "      <td>0.000989</td>\n",
       "    </tr>\n",
       "    <tr>\n",
       "      <th>1</th>\n",
       "      <td>-0.697887</td>\n",
       "      <td>0.117654</td>\n",
       "      <td>0.009436</td>\n",
       "      <td>-0.027542</td>\n",
       "      <td>0.009211</td>\n",
       "      <td>-0.053236</td>\n",
       "      <td>-0.669766</td>\n",
       "      <td>-0.211543</td>\n",
       "      <td>-0.033088</td>\n",
       "      <td>-0.011439</td>\n",
       "      <td>...</td>\n",
       "      <td>0.001101</td>\n",
       "      <td>-0.002630</td>\n",
       "      <td>-0.000312</td>\n",
       "      <td>-0.001436</td>\n",
       "      <td>0.001897</td>\n",
       "      <td>-0.000600</td>\n",
       "      <td>0.001907</td>\n",
       "      <td>-0.000224</td>\n",
       "      <td>0.000375</td>\n",
       "      <td>-0.000784</td>\n",
       "    </tr>\n",
       "    <tr>\n",
       "      <th>2</th>\n",
       "      <td>0.081330</td>\n",
       "      <td>0.629158</td>\n",
       "      <td>0.311300</td>\n",
       "      <td>-0.258089</td>\n",
       "      <td>0.641444</td>\n",
       "      <td>0.075072</td>\n",
       "      <td>0.045324</td>\n",
       "      <td>0.001233</td>\n",
       "      <td>-0.063850</td>\n",
       "      <td>0.023401</td>\n",
       "      <td>...</td>\n",
       "      <td>0.002897</td>\n",
       "      <td>0.008819</td>\n",
       "      <td>0.008611</td>\n",
       "      <td>0.005282</td>\n",
       "      <td>-0.000788</td>\n",
       "      <td>0.002665</td>\n",
       "      <td>0.001380</td>\n",
       "      <td>-0.001885</td>\n",
       "      <td>0.013448</td>\n",
       "      <td>-0.002199</td>\n",
       "    </tr>\n",
       "    <tr>\n",
       "      <th>3</th>\n",
       "      <td>0.045518</td>\n",
       "      <td>0.207167</td>\n",
       "      <td>-0.907001</td>\n",
       "      <td>-0.151357</td>\n",
       "      <td>0.133636</td>\n",
       "      <td>0.271398</td>\n",
       "      <td>-0.031693</td>\n",
       "      <td>0.001244</td>\n",
       "      <td>-0.097306</td>\n",
       "      <td>-0.059410</td>\n",
       "      <td>...</td>\n",
       "      <td>0.001895</td>\n",
       "      <td>0.000670</td>\n",
       "      <td>0.002331</td>\n",
       "      <td>0.000245</td>\n",
       "      <td>0.001841</td>\n",
       "      <td>0.003498</td>\n",
       "      <td>-0.000423</td>\n",
       "      <td>0.000223</td>\n",
       "      <td>-0.000111</td>\n",
       "      <td>0.001127</td>\n",
       "    </tr>\n",
       "    <tr>\n",
       "      <th>4</th>\n",
       "      <td>0.020705</td>\n",
       "      <td>0.233735</td>\n",
       "      <td>-0.070977</td>\n",
       "      <td>0.933655</td>\n",
       "      <td>0.189580</td>\n",
       "      <td>0.060578</td>\n",
       "      <td>-0.026583</td>\n",
       "      <td>-0.004079</td>\n",
       "      <td>0.103286</td>\n",
       "      <td>0.015284</td>\n",
       "      <td>...</td>\n",
       "      <td>0.006895</td>\n",
       "      <td>0.000846</td>\n",
       "      <td>-0.010724</td>\n",
       "      <td>0.001772</td>\n",
       "      <td>0.016891</td>\n",
       "      <td>0.000160</td>\n",
       "      <td>0.000272</td>\n",
       "      <td>-0.000394</td>\n",
       "      <td>0.009408</td>\n",
       "      <td>-0.010036</td>\n",
       "    </tr>\n",
       "  </tbody>\n",
       "</table>\n",
       "<p>5 rows × 98 columns</p>\n",
       "</div>"
      ],
      "text/plain": [
       "         0         1         2         3         4         5         6   \\\n",
       "0 -0.702931  0.072621 -0.030778  0.010799 -0.016352  0.063916  0.670568   \n",
       "1 -0.697887  0.117654  0.009436 -0.027542  0.009211 -0.053236 -0.669766   \n",
       "2  0.081330  0.629158  0.311300 -0.258089  0.641444  0.075072  0.045324   \n",
       "3  0.045518  0.207167 -0.907001 -0.151357  0.133636  0.271398 -0.031693   \n",
       "4  0.020705  0.233735 -0.070977  0.933655  0.189580  0.060578 -0.026583   \n",
       "\n",
       "         7         8         9   ...        88        89        90        91  \\\n",
       "0  0.207979  0.028004  0.010023  ... -0.002681  0.006098  0.000161  0.000224   \n",
       "1 -0.211543 -0.033088 -0.011439  ...  0.001101 -0.002630 -0.000312 -0.001436   \n",
       "2  0.001233 -0.063850  0.023401  ...  0.002897  0.008819  0.008611  0.005282   \n",
       "3  0.001244 -0.097306 -0.059410  ...  0.001895  0.000670  0.002331  0.000245   \n",
       "4 -0.004079  0.103286  0.015284  ...  0.006895  0.000846 -0.010724  0.001772   \n",
       "\n",
       "         92        93        94        95        96        97  \n",
       "0  0.000031  0.000767  0.004868 -0.003102 -0.000585  0.000989  \n",
       "1  0.001897 -0.000600  0.001907 -0.000224  0.000375 -0.000784  \n",
       "2 -0.000788  0.002665  0.001380 -0.001885  0.013448 -0.002199  \n",
       "3  0.001841  0.003498 -0.000423  0.000223 -0.000111  0.001127  \n",
       "4  0.016891  0.000160  0.000272 -0.000394  0.009408 -0.010036  \n",
       "\n",
       "[5 rows x 98 columns]"
      ]
     },
     "execution_count": 51,
     "metadata": {},
     "output_type": "execute_result"
    }
   ],
   "source": [
    "# Step 4 — Generate Principal Components\n",
    "\n",
    "# Generate all the principal components\n",
    "pca = PCA() # Default n_components = min(n_samples, n_features)\n",
    "X_train_pc = pca.fit_transform(X_train)\n",
    "\n",
    "# View first 5 rows of all principal components\n",
    "pd.DataFrame(pca.components_.T).loc[:4,:]"
=======
   "execution_count": null,
   "metadata": {},
   "outputs": [],
   "source": [
    "from sklearn.metrics import mean_squared_error\n",
    "mean_squared_error(y_test, y_pred, squared=False)"
>>>>>>> 38e9d5b11c6a9ec3e7e1a0b6195bbcaa3ae44985
   ]
  },
  {
   "cell_type": "code",
   "execution_count": null,
   "metadata": {},
   "outputs": [],
   "source": [
<<<<<<< HEAD
    "'''with the first principal component (containing the most information) located in the leftmost column.\n",
    "We can also view the explained variance of each principal component'''"
   ]
  },
  {
   "cell_type": "code",
   "execution_count": 52,
   "metadata": {},
   "outputs": [
    {
     "data": {
      "text/plain": [
       "array([1.77511404e-01, 1.57153616e-01, 1.12284216e-01, 1.08267641e-01,\n",
       "       5.95903216e-02, 4.44724898e-02, 3.58688530e-02, 3.30599986e-02,\n",
       "       2.84673427e-02, 2.18568326e-02, 1.79275419e-02, 1.63895920e-02,\n",
       "       1.60368812e-02, 6.80481814e-03, 5.06256150e-03, 4.17379667e-03,\n",
       "       4.11449215e-03, 3.95216255e-03, 3.91404466e-03, 3.69916785e-03,\n",
       "       3.68196285e-03, 3.54867611e-03, 3.38567607e-03, 3.34520042e-03,\n",
       "       3.19094524e-03, 3.17306150e-03, 3.11073839e-03, 3.03433227e-03,\n",
       "       2.89601045e-03, 2.86041994e-03, 2.72513630e-03, 2.70848444e-03,\n",
       "       2.58184562e-03, 2.56432701e-03, 2.46142074e-03, 2.41152754e-03,\n",
       "       2.31609583e-03, 2.29419606e-03, 2.28102042e-03, 2.25419052e-03,\n",
       "       2.20433591e-03, 2.14970369e-03, 2.09771360e-03, 2.07308892e-03,\n",
       "       2.03573752e-03, 2.02397667e-03, 1.99367755e-03, 1.94808505e-03,\n",
       "       1.92824165e-03, 1.88696000e-03, 1.85826667e-03, 1.84709833e-03,\n",
       "       1.83534882e-03, 1.80527421e-03, 1.78270285e-03, 1.75909879e-03,\n",
       "       1.73081368e-03, 1.72831938e-03, 1.68398316e-03, 1.63493453e-03,\n",
       "       1.62923459e-03, 1.60884901e-03, 1.56995809e-03, 1.55740330e-03,\n",
       "       1.52779016e-03, 1.51626579e-03, 1.48363156e-03, 1.47638158e-03,\n",
       "       1.43022174e-03, 1.41054334e-03, 1.39741832e-03, 1.39410746e-03,\n",
       "       1.36349118e-03, 1.33947281e-03, 1.33447767e-03, 1.30945592e-03,\n",
       "       1.30153309e-03, 1.28896029e-03, 1.26554890e-03, 1.25894435e-03,\n",
       "       1.22895853e-03, 1.20779039e-03, 1.18647531e-03, 1.16297995e-03,\n",
       "       1.15108511e-03, 1.11780341e-03, 1.09794433e-03, 1.06926363e-03,\n",
       "       1.02354778e-03, 1.00330561e-03, 9.09066336e-04, 8.76256801e-04,\n",
       "       8.02080624e-04, 6.07208873e-04, 5.82558763e-04, 5.39603851e-04,\n",
       "       3.72844902e-04, 1.57134418e-04])"
      ]
     },
     "execution_count": 52,
     "metadata": {},
     "output_type": "execute_result"
    }
   ],
   "source": [
    "pca.explained_variance_ratio_"
   ]
  },
  {
   "cell_type": "code",
   "execution_count": 58,
   "metadata": {},
   "outputs": [
    {
     "data": {
      "image/png": "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\n",
      "text/plain": [
       "<Figure size 1440x432 with 1 Axes>"
      ]
     },
     "metadata": {
      "needs_background": "light"
     },
     "output_type": "display_data"
    }
   ],
   "source": [
    "# Step 5 — Determine the Number of Principal Components\n",
    "\n",
    "# Initialize linear regression instance\n",
    "lin_reg = LinearRegression()\n",
    "\n",
    "# Create empty list to store RMSE for each iteration\n",
    "rmse_list = []\n",
    "\n",
    "# Loop through different count of principal components for linear regression\n",
    "for i in range(1, X_train_pc.shape[1]+1):\n",
    "    rmse_score = -1 * cross_val_score(lin_reg, \n",
    "                                      X_train_pc[:,:i], # Use first k principal components\n",
    "                                      y_train, \n",
    "                                      cv=cv, \n",
    "                                      scoring='neg_root_mean_squared_error').mean()\n",
    "    rmse_list.append(rmse_score)\n",
    "    \n",
    "# Visual analysis - plot RMSE vs count of principal components used\n",
    "fig = plt.figure() \n",
    "# Figure size\n",
    "fig.set_size_inches(20, 6)\n",
    "\n",
    "plt.plot(rmse_list, '-o')\n",
    "plt.xlabel('Number of principal components in regression')\n",
    "plt.ylabel('RMSE')\n",
    "plt.title('Quality')\n",
    "plt.xlim(xmin=-1);\n",
    "plt.xticks(np.arange(X_train_pc.shape[1]), np.arange(1, X_train_pc.shape[1]+1))\n",
    "plt.xticks(rotation=90)\n",
    "plt.axhline(y=lr_score_train, color='g', linestyle='-');"
   ]
  },
  {
   "cell_type": "code",
   "execution_count": 64,
   "metadata": {},
   "outputs": [],
   "source": [
    "# Step 6 — Run PCR with Best Number of Principal Components\n",
    "\n",
    "# Visually determine optimal number of principal components\n",
    "best_pc_num = 34\n",
    "\n",
    "# Train model with first 9 principal components\n",
    "lin_reg_pc = LinearRegression().fit(X_train_pc[:,:best_pc_num], y_train)\n",
    "\n",
    "# Get cross-validation RMSE (train set)\n",
    "pcr_score_train = -1 * cross_val_score(lin_reg_pc, \n",
    "                                       X_train_pc[:,:best_pc_num], \n",
    "                                       y_train, \n",
    "                                       cv=cv, \n",
    "                                       scoring='neg_root_mean_squared_error').mean()\n",
    "\n",
    "# Train model on training set\n",
    "lin_reg_pc = LinearRegression().fit(X_train_pc[:,:best_pc_num], y_train)\n",
    "\n",
    "# Get first 9 principal components of test set\n",
    "X_test_pc = pca.transform(X_test)[:,:best_pc_num]\n",
    "\n",
    "# Predict on test data\n",
    "y_pred = lin_reg_pc.predict(X_test_pc)\n",
    "pcr_score_test = mean_squared_error(y_test, y_pred, squared=False)"
   ]
  },
  {
   "cell_type": "code",
   "execution_count": 65,
   "metadata": {},
   "outputs": [
    {
     "name": "stdout",
     "output_type": "stream",
     "text": [
      "Mean Absolute Error: 12.05\n",
      "Mean Squared Error: 15.57\n",
      "R-squared scores: 0.04\n"
     ]
    }
   ],
   "source": [
    "# Mean absolute error (MAE)\n",
    "mae = mean_absolute_error(y_test, y_pred)\n",
    "\n",
    "# Mean squared error (MSE)\n",
    "mse = mean_squared_error(y_test, y_pred, squared=False)\n",
    "\n",
    "# R-squared scores\n",
    "r2 = r2_score(y_test, y_pred)\n",
    "\n",
    "print('Mean Absolute Error:', round(mae, 2))\n",
    "print('Mean Squared Error:', round(mse, 2))\n",
    "print('R-squared scores:', round(r2, 2))"
=======
    "regr.predict(X_test.iloc[[0]])"
>>>>>>> 38e9d5b11c6a9ec3e7e1a0b6195bbcaa3ae44985
   ]
  },
  {
   "cell_type": "code",
   "execution_count": null,
   "metadata": {},
   "outputs": [],
<<<<<<< HEAD
   "source": []
=======
   "source": [
    "y_test.iloc[[0]]"
   ]
>>>>>>> 38e9d5b11c6a9ec3e7e1a0b6195bbcaa3ae44985
  },
  {
   "cell_type": "code",
   "execution_count": null,
   "metadata": {},
   "outputs": [],
   "source": []
  },
  {
   "cell_type": "code",
   "execution_count": null,
   "metadata": {},
   "outputs": [],
   "source": []
  },
  {
   "cell_type": "markdown",
   "metadata": {},
   "source": [
<<<<<<< HEAD
    "#####  #4. Naive Bayes - code copied from previous exercise, not tried yet"
=======
    "#####  #4. Naive Bayes"
>>>>>>> 38e9d5b11c6a9ec3e7e1a0b6195bbcaa3ae44985
   ]
  },
  {
   "cell_type": "code",
   "execution_count": null,
   "metadata": {},
   "outputs": [],
   "source": [
<<<<<<< HEAD
    "'''X_train, X_test, y_train, y_test = train_test_split(X_scaled, y, test_size=0.30, random_state=42)\n",
    "\n",
    "from sklearn.naive_bayes import GaussianNB\n",
    "clf = GaussianNB()\n",
    "clf.fit(X_train, y_train)'''"
=======
    "X_train, X_test, y_train, y_test = train_test_split(X, y, test_size=0.30, random_state=42)\n",
    "\n",
    "from sklearn.naive_bayes import GaussianNB\n",
    "clf = GaussianNB()\n",
    "clf.fit(X_train, y_train)"
>>>>>>> 38e9d5b11c6a9ec3e7e1a0b6195bbcaa3ae44985
   ]
  },
  {
   "cell_type": "code",
   "execution_count": null,
   "metadata": {},
   "outputs": [],
   "source": [
<<<<<<< HEAD
    "'y_pred = clf.predict(X_test)'"
=======
    "y_pred = clf.predict(X_test)"
>>>>>>> 38e9d5b11c6a9ec3e7e1a0b6195bbcaa3ae44985
   ]
  },
  {
   "cell_type": "code",
   "execution_count": null,
   "metadata": {},
   "outputs": [],
   "source": [
<<<<<<< HEAD
    "'''from sklearn.metrics import accuracy_score\n",
    "accuracy = accuracy_score(y_test, y_pred)\n",
    "print(\"Accuracy: {:.2f}%\".format(accuracy * 100))\n",
    "\n",
    "mse = mean_squared_error(y_test, y_pred, squared=False)\n",
    "print(\"MSE: {:.2f}\".format(mse))'''"
=======
    "from sklearn.metrics import accuracy_score\n",
    "accuracy_score(y_test, y_pred)"
>>>>>>> 38e9d5b11c6a9ec3e7e1a0b6195bbcaa3ae44985
   ]
  },
  {
   "cell_type": "code",
   "execution_count": null,
   "metadata": {},
   "outputs": [],
   "source": []
  },
  {
   "cell_type": "markdown",
   "metadata": {},
   "source": [
<<<<<<< HEAD
    "#####  #5. SVM  - code copied from previous exercise, not tried yet"
=======
    "#####  #5. SVM"
>>>>>>> 38e9d5b11c6a9ec3e7e1a0b6195bbcaa3ae44985
   ]
  },
  {
   "cell_type": "code",
   "execution_count": null,
   "metadata": {},
   "outputs": [],
   "source": [
<<<<<<< HEAD
    "'''from sklearn import preprocessing\n",
    "X_train, X_test, y_train, y_test = train_test_split(X_scaled, y, test_size=0.30, random_state=42)\n",
    "\n",
    "X_train_scaled = transform(X_train)\n",
    "X_test_scaled = transform(X_test)'''"
=======
    "from sklearn import preprocessing\n",
    "scaler = preprocessing.StandardScaler()\n",
    "\n",
    "scaled = scaler.fit(X_train) \n",
    "X_train_scaled = scaled.transform(X_train)\n",
    "X_test_scaled = scaled.transform(X_test)"
>>>>>>> 38e9d5b11c6a9ec3e7e1a0b6195bbcaa3ae44985
   ]
  },
  {
   "cell_type": "code",
   "execution_count": null,
   "metadata": {},
   "outputs": [],
   "source": [
<<<<<<< HEAD
    "'''from sklearn.svm import SVC\n",
    "clf = SVC(kernel= 'poly', random_state=0)  #use the Polynomial kernel (polynomial linear regression)\n",
    "clf.fit(X_train, y_train)'''"
=======
    "from sklearn.svm import SVC\n",
    "clf = SVC(kernel= 'poly', random_state=0)  #use the Polynomial kernel (polynomial linear regression)\n",
    "clf.fit(X_train_scaled, y_train)"
>>>>>>> 38e9d5b11c6a9ec3e7e1a0b6195bbcaa3ae44985
   ]
  },
  {
   "cell_type": "code",
   "execution_count": null,
   "metadata": {},
   "outputs": [],
   "source": [
    "# Predict the Test set results\n",
<<<<<<< HEAD
    "'y_pred = clf.predict(X_test)'"
=======
    "y_pred = clf.predict(X_test_scaled)"
>>>>>>> 38e9d5b11c6a9ec3e7e1a0b6195bbcaa3ae44985
   ]
  },
  {
   "cell_type": "code",
   "execution_count": null,
   "metadata": {},
   "outputs": [],
   "source": [
<<<<<<< HEAD
    "'accuracy_score(y_test, y_pred)'"
=======
    "accuracy_score(y_test, y_pred)"
>>>>>>> 38e9d5b11c6a9ec3e7e1a0b6195bbcaa3ae44985
   ]
  },
  {
   "cell_type": "code",
   "execution_count": null,
   "metadata": {},
   "outputs": [],
   "source": [
<<<<<<< HEAD
    "'confusion_matrix(y_test, y_pred)'"
=======
    "confusion_matrix(y_test, y_pred)"
>>>>>>> 38e9d5b11c6a9ec3e7e1a0b6195bbcaa3ae44985
   ]
  },
  {
   "cell_type": "code",
   "execution_count": null,
   "metadata": {},
   "outputs": [],
   "source": [
<<<<<<< HEAD
    "# use rbf kernel\n"
=======
    "# use rbf kernel\n",
    "clf_rbf = SVC(kernel= 'rbf', random_state=0)"
>>>>>>> 38e9d5b11c6a9ec3e7e1a0b6195bbcaa3ae44985
   ]
  },
  {
   "cell_type": "code",
   "execution_count": null,
   "metadata": {},
   "outputs": [],
   "source": []
  },
  {
   "cell_type": "markdown",
   "metadata": {},
   "source": [
    "#####  #6. XGBoost"
   ]
  },
  {
   "cell_type": "code",
   "execution_count": null,
   "metadata": {},
   "outputs": [],
   "source": [
<<<<<<< HEAD
    "'''import xgboost as xgb\n",
    "from sklearn.metrics import mean_squared_error'''"
=======
    "import xgboost as xgb\n",
    "from sklearn.metrics import mean_squared_error"
>>>>>>> 38e9d5b11c6a9ec3e7e1a0b6195bbcaa3ae44985
   ]
  },
  {
   "cell_type": "code",
   "execution_count": null,
   "metadata": {},
   "outputs": [],
   "source": [
<<<<<<< HEAD
    "'data_dmatrix = xgb.DMatrix(data=X,label=y)'"
=======
    "data_dmatrix = xgb.DMatrix(data=X,label=y)"
>>>>>>> 38e9d5b11c6a9ec3e7e1a0b6195bbcaa3ae44985
   ]
  },
  {
   "cell_type": "code",
   "execution_count": null,
   "metadata": {},
   "outputs": [],
   "source": [
<<<<<<< HEAD
    "'''xg_reg = xgb.XGBRegressor(objective ='reg:linear', colsample_bytree = 0.3, learning_rate = 0.1,\n",
    "                max_depth = 5, alpha = 10, n_estimators = 10)'''"
=======
    "xg_reg = xgb.XGBRegressor(objective ='reg:linear', colsample_bytree = 0.3, learning_rate = 0.1,\n",
    "                max_depth = 5, alpha = 10, n_estimators = 10)"
>>>>>>> 38e9d5b11c6a9ec3e7e1a0b6195bbcaa3ae44985
   ]
  },
  {
   "cell_type": "markdown",
   "metadata": {},
   "source": [
    "### Evaluation"
   ]
  },
  {
   "cell_type": "markdown",
   "metadata": {},
   "source": [
    "You have data from 2018 and 2019 to develop models. Use different evaluation metrics for each problem and compare the performance of different models.\n",
    "\n",
    "You are required to predict delays on **out of sample** data from **first 7 days (1st-7th) of January 2020** and to share the file with LighthouseLabs. Sample submission can be found in the file **_sample_submission.csv_**"
   ]
  },
  {
   "cell_type": "code",
   "execution_count": null,
   "metadata": {},
   "outputs": [],
<<<<<<< HEAD
   "source": [
    "testset = pd.read_csv('flights_test.txt', delimiter = ',')\n",
    "testset.head()"
   ]
=======
   "source": []
>>>>>>> 38e9d5b11c6a9ec3e7e1a0b6195bbcaa3ae44985
  },
  {
   "cell_type": "code",
   "execution_count": null,
   "metadata": {},
   "outputs": [],
   "source": []
  },
  {
   "cell_type": "code",
   "execution_count": null,
   "metadata": {},
   "outputs": [],
   "source": []
  },
  {
   "cell_type": "code",
   "execution_count": null,
   "metadata": {},
   "outputs": [],
   "source": []
  },
  {
   "cell_type": "markdown",
   "metadata": {},
   "source": [
    "======================================================================\n",
    "## Stretch Tasks"
   ]
  },
  {
   "cell_type": "markdown",
   "metadata": {},
   "source": [
    "### Multiclass Classification"
   ]
  },
  {
   "cell_type": "markdown",
   "metadata": {},
   "source": [
    "The target variables are **CARRIER_DELAY, WEATHER_DELAY, NAS_DELAY, SECURITY_DELAY, LATE_AIRCRAFT_DELAY**. We need to do additional transformations because these variables are not binary but continuos. For each flight that was delayed, we need to have one of these variables as 1 and others 0.\n",
    "\n",
    "It can happen that we have two types of delays with more than 0 minutes. In this case, take the bigger one as 1 and others as 0."
   ]
  },
  {
   "cell_type": "code",
   "execution_count": null,
   "metadata": {},
   "outputs": [],
   "source": []
  },
  {
   "cell_type": "code",
   "execution_count": null,
   "metadata": {},
   "outputs": [],
   "source": []
  },
  {
   "cell_type": "code",
   "execution_count": null,
   "metadata": {},
   "outputs": [],
   "source": []
  },
  {
   "cell_type": "markdown",
   "metadata": {},
   "source": [
    "### Binary Classification"
   ]
  },
  {
   "cell_type": "markdown",
   "metadata": {},
   "source": [
    "The target variable is **CANCELLED**. The main problem here is going to be huge class imbalance. We have only very little cancelled flights with comparison to all flights. It is important to do the right sampling before training and to choose correct evaluation metrics."
   ]
  },
  {
   "cell_type": "code",
   "execution_count": null,
   "metadata": {},
   "outputs": [],
   "source": []
  },
  {
   "cell_type": "code",
   "execution_count": null,
   "metadata": {},
   "outputs": [],
   "source": []
  },
  {
   "cell_type": "code",
   "execution_count": null,
   "metadata": {},
   "outputs": [],
   "source": []
  }
 ],
 "metadata": {
  "kernelspec": {
   "display_name": "Python 3 (ipykernel)",
   "language": "python",
   "name": "python3"
  },
  "language_info": {
   "codemirror_mode": {
    "name": "ipython",
    "version": 3
   },
   "file_extension": ".py",
   "mimetype": "text/x-python",
   "name": "python",
   "nbconvert_exporter": "python",
   "pygments_lexer": "ipython3",
   "version": "3.9.7"
  }
 },
 "nbformat": 4,
 "nbformat_minor": 4
}
