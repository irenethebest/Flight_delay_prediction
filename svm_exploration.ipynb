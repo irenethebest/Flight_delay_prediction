{
 "cells": [
  {
   "cell_type": "code",
   "execution_count": 1,
   "id": "a7fa9775-927d-4b39-a95a-acbc1ece2c7b",
   "metadata": {},
   "outputs": [],
   "source": [
    "import pandas as pd\n",
    "import numpy as np"
   ]
  },
  {
   "cell_type": "code",
   "execution_count": 2,
   "id": "08996968-cc4d-4636-83ae-f0c6a3ae5fb6",
   "metadata": {},
   "outputs": [],
   "source": [
    "import pickle"
   ]
  },
  {
   "cell_type": "code",
   "execution_count": 3,
   "id": "0e9f008e-f81a-46ec-a21b-6442aba8d535",
   "metadata": {},
   "outputs": [],
   "source": [
    "from sklearn.metrics import r2_score, mean_squared_error, mean_absolute_error"
   ]
  },
  {
   "cell_type": "code",
   "execution_count": 4,
   "id": "4264a4d6-784c-411a-91c3-df97191d8ac3",
   "metadata": {},
   "outputs": [],
   "source": [
    "from sklearn.decomposition import PCA"
   ]
  },
  {
   "cell_type": "code",
   "execution_count": 5,
   "id": "8736f4b0-1fab-4b48-805e-247ab8237c12",
   "metadata": {},
   "outputs": [],
   "source": [
    "from sklearn.model_selection import GridSearchCV"
   ]
  },
  {
   "cell_type": "code",
   "execution_count": 3,
   "id": "22640ab6-6329-496c-a6a7-1e849d956ee2",
   "metadata": {},
   "outputs": [],
   "source": [
    "from sklearn.svm import SVR\n",
    "from sklearn.preprocessing import StandardScaler\n",
    "from sklearn.model_selection import train_test_split"
   ]
  },
  {
   "cell_type": "code",
   "execution_count": 4,
   "id": "8eb89051-115e-447a-ac96-ac436fc8397c",
   "metadata": {},
   "outputs": [
    {
     "data": {
      "text/plain": [
       "\"\\n    elif row in ['Patchy rain possible','Light rain shower','Light drizzle','Light rain',\\n                                  'Patchy light rain with thunder', 'Patchy light drizzle', 'Patchy light rain']:\\n        return 'Light_rain\\n    elif row in ['Light snow', 'Light sleet', 'Patchy light snow', 'Light sleet showers',\\n                                  'Patchy sleet possible', 'Light snow showers', \\n                                  'Patchy light snow with thunder', 'Patchy snow possible']:\\n        return 'Light_snow\\n\""
      ]
     },
     "execution_count": 4,
     "metadata": {},
     "output_type": "execute_result"
    }
   ],
   "source": [
    "def simple_weather(row):\n",
    "    if row in ['Sunny', 'Clear']:\n",
    "        return 'Sunny'\n",
    "    \n",
    "    elif row in ['Partly cloudy','Overcast','Cloudy']:\n",
    "        return 'Cloudy'\n",
    "    \n",
    "    elif row in ['Torrential rain shower', 'Heavy rain', 'Heavy rain at times']:\n",
    "        return 'Heavy_rain'\n",
    "\n",
    "    elif row in ['Moderate rain', 'Moderate rain at times', 'Patchy rain possible',\n",
    "                 'Light rain shower','Light drizzle','Light rain',\n",
    "                 'Patchy light rain with thunder', 'Patchy light drizzle', 'Patchy light rain',\n",
    "                 'Moderate or heavy rain with thunder']:\n",
    "        return 'Light&Mod_rain'\n",
    "\n",
    "    elif row in ['Moderate or heavy freezing rain']:\n",
    "        return 'Freezing_rain'\n",
    "    \n",
    "    elif row in ['Mist','Fog', 'Freezing fog']:\n",
    "        return 'Fog'\n",
    "    \n",
    "    elif row in ['Heavy snow', 'Moderate or heavy snow showers', 'Patchy heavy snow', \n",
    "                                  'Blizzard', 'Blowing snow', 'Ice pellets']:\n",
    "        return 'Heavy_snow'\n",
    "    \n",
    "    elif row in ['Moderate snow', 'Moderate or heavy snow showers','Patchy moderate snow',\n",
    "                                  'Moderate or heavy sleet', 'Moderate or heavy snow with thunder', 'Light snow', 'Light sleet', 'Patchy light snow', 'Light sleet showers',\n",
    "                                  'Patchy sleet possible', 'Light snow showers', \n",
    "                                  'Patchy light snow with thunder', 'Patchy snow possible']:\n",
    "        return 'Light&Mod_snow'\n",
    "    \n",
    "\n",
    "    elif row in ['Thundery outbreaks possible']:\n",
    "        return 'Thunder'\n",
    "    \n",
    "'''\n",
    "    elif row in ['Patchy rain possible','Light rain shower','Light drizzle','Light rain',\n",
    "                                  'Patchy light rain with thunder', 'Patchy light drizzle', 'Patchy light rain']:\n",
    "        return 'Light_rain\n",
    "    elif row in ['Light snow', 'Light sleet', 'Patchy light snow', 'Light sleet showers',\n",
    "                                  'Patchy sleet possible', 'Light snow showers', \n",
    "                                  'Patchy light snow with thunder', 'Patchy snow possible']:\n",
    "        return 'Light_snow\n",
    "'''\n",
    "    "
   ]
  },
  {
   "cell_type": "code",
   "execution_count": 5,
   "id": "9b5eca28-f6b6-4c30-88e8-8f75f2944175",
   "metadata": {},
   "outputs": [],
   "source": [
    "flights = pd.read_csv('flights_2019_passengers.csv')"
   ]
  },
  {
   "cell_type": "code",
   "execution_count": 36,
   "id": "0124585d-370e-4e87-b356-18e9c957d45b",
   "metadata": {},
   "outputs": [
    {
     "data": {
      "text/plain": [
       "array(['op_unique_carrier', 'origin', 'dest', 'crs_dep_time', 'dep_time',\n",
       "       'taxi_out', 'wheels_off', 'wheels_on', 'taxi_in', 'crs_arr_time',\n",
       "       'arr_time', 'arr_delay', 'crs_elapsed_time', 'actual_elapsed_time',\n",
       "       'air_time', 'distance', 'dep_condition', 'arr_condition', 'month',\n",
       "       'average_seats', 'average_passengers',\n",
       "       'avg_passenger_capacity_usage'], dtype=object)"
      ]
     },
     "execution_count": 36,
     "metadata": {},
     "output_type": "execute_result"
    }
   ],
   "source": [
    "flights.columns.values"
   ]
  },
  {
   "cell_type": "code",
   "execution_count": null,
   "id": "87cc7a04-5153-4dc4-9475-f23159758998",
   "metadata": {},
   "outputs": [],
   "source": [
    "'''location = ['origin', 'dest']\n",
    "carrier =  ['mkt_unique_carrier', 'branded_code_share', 'mkt_carrier', 'mkt_carrier_fl_num', 'op_unique_carrier','tail_num', 'op_carrier_fl_num']\n",
    "time24hr = ['crs_dep_time', 'dep_time', 'wheels_off', 'wheels_on', 'crs_arr_time', 'arr_time']\n",
    "flighttime = ['crs_elapsed_time', 'actual_elapsed_time', 'air_time', 'taxi_out', 'taxi_in']\n",
    "drop = ['no_name','dup','dest_city_name','dest_airport_id', 'origin_airport_id', 'origin_city_name', 'flights']\n",
    "stopover = ['first_dep_time', 'total_add_gtime', 'longest_add_gtime']\n",
    "cancel = ['cancelled', 'cancellation_code','diverted']\n",
    "crs = ['crs_dep_time', 'crs_arr_time', 'crs_elapsed_time']\n",
    "delays= [arr_delay, 'dep_delay', 'carrier_delay, 'weather_delay', 'nas_delay', 'security_delay', 'late_aircraft_delay'] '''"
   ]
  },
  {
   "cell_type": "code",
   "execution_count": 37,
   "id": "7c2ba3a1-25b7-4d4b-b66b-53c07c60ef17",
   "metadata": {},
   "outputs": [
    {
     "data": {
      "text/plain": [
       "crs_dep_time                                   0\n",
       "dep_time                                     136\n",
       "taxi_out                                     140\n",
       "wheels_off                                   140\n",
       "wheels_on                                    145\n",
       "                                            ... \n",
       "arr_condition_Patchy rain possible             0\n",
       "arr_condition_Patchy sleet possible            0\n",
       "arr_condition_Sunny                            0\n",
       "arr_condition_Thundery outbreaks possible      0\n",
       "arr_condition_Torrential rain shower           0\n",
       "Length: 750, dtype: int64"
      ]
     },
     "execution_count": 37,
     "metadata": {},
     "output_type": "execute_result"
    }
   ],
   "source": [
    "flights_num.isna().sum()"
   ]
  },
  {
   "cell_type": "code",
   "execution_count": 6,
   "id": "18b21667-c315-4ebe-8dd4-ce116ef23936",
   "metadata": {},
   "outputs": [],
   "source": [
    "flights = flights.drop(columns=['no_name','dup','dest_city_name','dest_airport_id', 'origin_airport_id', 'origin_city_name', 'flights'])"
   ]
  },
  {
   "cell_type": "code",
   "execution_count": 7,
   "id": "a53a8b0e-3df1-44a1-be2a-a5d6ae9e4bba",
   "metadata": {},
   "outputs": [],
   "source": [
    "flights = flights.drop(columns=['mkt_unique_carrier', 'branded_code_share', 'mkt_carrier', 'mkt_carrier_fl_num', 'tail_num', 'op_carrier_fl_num'])"
   ]
  },
  {
   "cell_type": "code",
   "execution_count": 8,
   "id": "4491d4ad-6cb8-446e-ab90-67b5796a8e75",
   "metadata": {},
   "outputs": [],
   "source": [
    "flights = flights.drop(columns=['arr_date','fl_date'])"
   ]
  },
  {
   "cell_type": "code",
   "execution_count": 9,
   "id": "a458c214-b12b-4a84-a9ca-ca31bf16340c",
   "metadata": {},
   "outputs": [],
   "source": [
    "flights = flights.drop(columns=['first_dep_time', 'total_add_gtime', 'longest_add_gtime', 'cancelled', 'cancellation_code','diverted'])"
   ]
  },
  {
   "cell_type": "code",
   "execution_count": 10,
   "id": "0478f95e-ed29-411e-8a55-4ab97617b870",
   "metadata": {},
   "outputs": [],
   "source": [
    "flights = flights.drop(columns = ['year'])"
   ]
  },
  {
   "cell_type": "code",
   "execution_count": 11,
   "id": "97719305-0a5a-4eb3-bfd6-7cc758999e0c",
   "metadata": {},
   "outputs": [],
   "source": [
    "flights = flights.drop(columns = ['wheels_off', 'wheels_on', 'average_seats'])"
   ]
  },
  {
   "cell_type": "code",
   "execution_count": 12,
   "id": "7d26fecc-e894-4d0a-859f-6b2289bf71af",
   "metadata": {},
   "outputs": [],
   "source": [
    "flights = flights.drop(columns = ['dep_delay', 'carrier_delay', 'weather_delay', 'nas_delay', 'security_delay', 'late_aircraft_delay'])"
   ]
  },
  {
   "cell_type": "code",
   "execution_count": 13,
   "id": "3ea58774-d315-48ba-90ac-b2dce4e54d6e",
   "metadata": {},
   "outputs": [],
   "source": [
    "flights['weather_origin_simple'] = flights.apply(lambda row: simple_weather(row['dep_condition']), axis=1)\n",
    "flights['weather_dest_simple'] = flights.apply(lambda row: simple_weather(row['arr_condition']), axis=1)"
   ]
  },
  {
   "cell_type": "code",
   "execution_count": 14,
   "id": "2304d925-33a0-421e-8745-d529bff6fe09",
   "metadata": {},
   "outputs": [],
   "source": [
    "flights = flights.drop(columns = ['dep_condition', 'arr_condition'])"
   ]
  },
  {
   "cell_type": "code",
   "execution_count": 14,
   "id": "eb1fb7ae-cb06-4007-86af-1fa6f07a9b51",
   "metadata": {},
   "outputs": [],
   "source": [
    "#flights_samp = flights.sample(n=12000)"
   ]
  },
  {
   "cell_type": "code",
   "execution_count": 11,
   "id": "54b5e3dd-ee6c-4b02-9031-7ed06a20bb9e",
   "metadata": {},
   "outputs": [
    {
     "data": {
      "text/html": [
       "<div>\n",
       "<style scoped>\n",
       "    .dataframe tbody tr th:only-of-type {\n",
       "        vertical-align: middle;\n",
       "    }\n",
       "\n",
       "    .dataframe tbody tr th {\n",
       "        vertical-align: top;\n",
       "    }\n",
       "\n",
       "    .dataframe thead th {\n",
       "        text-align: right;\n",
       "    }\n",
       "</style>\n",
       "<table border=\"1\" class=\"dataframe\">\n",
       "  <thead>\n",
       "    <tr style=\"text-align: right;\">\n",
       "      <th></th>\n",
       "      <th>op_unique_carrier</th>\n",
       "      <th>origin</th>\n",
       "      <th>dest</th>\n",
       "      <th>crs_dep_time</th>\n",
       "      <th>dep_time</th>\n",
       "      <th>taxi_out</th>\n",
       "      <th>wheels_off</th>\n",
       "      <th>wheels_on</th>\n",
       "      <th>taxi_in</th>\n",
       "      <th>crs_arr_time</th>\n",
       "      <th>...</th>\n",
       "      <th>crs_elapsed_time</th>\n",
       "      <th>actual_elapsed_time</th>\n",
       "      <th>air_time</th>\n",
       "      <th>distance</th>\n",
       "      <th>dep_condition</th>\n",
       "      <th>arr_condition</th>\n",
       "      <th>month</th>\n",
       "      <th>average_seats</th>\n",
       "      <th>average_passengers</th>\n",
       "      <th>avg_passenger_capacity_usage</th>\n",
       "    </tr>\n",
       "  </thead>\n",
       "  <tbody>\n",
       "    <tr>\n",
       "      <th>0</th>\n",
       "      <td>OO</td>\n",
       "      <td>ORD</td>\n",
       "      <td>COS</td>\n",
       "      <td>955</td>\n",
       "      <td>1056.0</td>\n",
       "      <td>25.0</td>\n",
       "      <td>1121.0</td>\n",
       "      <td>1253.0</td>\n",
       "      <td>6.0</td>\n",
       "      <td>1152</td>\n",
       "      <td>...</td>\n",
       "      <td>177</td>\n",
       "      <td>183.0</td>\n",
       "      <td>152.0</td>\n",
       "      <td>911</td>\n",
       "      <td>Overcast</td>\n",
       "      <td>Partly cloudy</td>\n",
       "      <td>1</td>\n",
       "      <td>1002.000000</td>\n",
       "      <td>777.666667</td>\n",
       "      <td>0.776114</td>\n",
       "    </tr>\n",
       "    <tr>\n",
       "      <th>1</th>\n",
       "      <td>OH</td>\n",
       "      <td>MYR</td>\n",
       "      <td>CLT</td>\n",
       "      <td>2157</td>\n",
       "      <td>2158.0</td>\n",
       "      <td>10.0</td>\n",
       "      <td>2208.0</td>\n",
       "      <td>2248.0</td>\n",
       "      <td>20.0</td>\n",
       "      <td>2311</td>\n",
       "      <td>...</td>\n",
       "      <td>74</td>\n",
       "      <td>70.0</td>\n",
       "      <td>40.0</td>\n",
       "      <td>157</td>\n",
       "      <td>Cloudy</td>\n",
       "      <td>Sunny</td>\n",
       "      <td>1</td>\n",
       "      <td>6327.333333</td>\n",
       "      <td>4898.333333</td>\n",
       "      <td>0.774154</td>\n",
       "    </tr>\n",
       "    <tr>\n",
       "      <th>2</th>\n",
       "      <td>OH</td>\n",
       "      <td>BDL</td>\n",
       "      <td>DCA</td>\n",
       "      <td>1151</td>\n",
       "      <td>1212.0</td>\n",
       "      <td>7.0</td>\n",
       "      <td>1219.0</td>\n",
       "      <td>1328.0</td>\n",
       "      <td>3.0</td>\n",
       "      <td>1325</td>\n",
       "      <td>...</td>\n",
       "      <td>94</td>\n",
       "      <td>79.0</td>\n",
       "      <td>69.0</td>\n",
       "      <td>313</td>\n",
       "      <td>Sunny</td>\n",
       "      <td>Sunny</td>\n",
       "      <td>1</td>\n",
       "      <td>3516.500000</td>\n",
       "      <td>2697.250000</td>\n",
       "      <td>0.767027</td>\n",
       "    </tr>\n",
       "    <tr>\n",
       "      <th>3</th>\n",
       "      <td>OH</td>\n",
       "      <td>DCA</td>\n",
       "      <td>BDL</td>\n",
       "      <td>1009</td>\n",
       "      <td>1013.0</td>\n",
       "      <td>32.0</td>\n",
       "      <td>1045.0</td>\n",
       "      <td>1137.0</td>\n",
       "      <td>3.0</td>\n",
       "      <td>1126</td>\n",
       "      <td>...</td>\n",
       "      <td>77</td>\n",
       "      <td>87.0</td>\n",
       "      <td>52.0</td>\n",
       "      <td>313</td>\n",
       "      <td>Sunny</td>\n",
       "      <td>Sunny</td>\n",
       "      <td>1</td>\n",
       "      <td>3460.000000</td>\n",
       "      <td>2494.500000</td>\n",
       "      <td>0.720954</td>\n",
       "    </tr>\n",
       "    <tr>\n",
       "      <th>4</th>\n",
       "      <td>OH</td>\n",
       "      <td>DCA</td>\n",
       "      <td>GSP</td>\n",
       "      <td>2000</td>\n",
       "      <td>1955.0</td>\n",
       "      <td>13.0</td>\n",
       "      <td>2008.0</td>\n",
       "      <td>2120.0</td>\n",
       "      <td>2.0</td>\n",
       "      <td>2134</td>\n",
       "      <td>...</td>\n",
       "      <td>94</td>\n",
       "      <td>87.0</td>\n",
       "      <td>72.0</td>\n",
       "      <td>396</td>\n",
       "      <td>Sunny</td>\n",
       "      <td>Partly cloudy</td>\n",
       "      <td>1</td>\n",
       "      <td>1511.000000</td>\n",
       "      <td>847.333333</td>\n",
       "      <td>0.560777</td>\n",
       "    </tr>\n",
       "  </tbody>\n",
       "</table>\n",
       "<p>5 rows × 22 columns</p>\n",
       "</div>"
      ],
      "text/plain": [
       "  op_unique_carrier origin dest  crs_dep_time  dep_time  taxi_out  wheels_off  \\\n",
       "0                OO    ORD  COS           955    1056.0      25.0      1121.0   \n",
       "1                OH    MYR  CLT          2157    2158.0      10.0      2208.0   \n",
       "2                OH    BDL  DCA          1151    1212.0       7.0      1219.0   \n",
       "3                OH    DCA  BDL          1009    1013.0      32.0      1045.0   \n",
       "4                OH    DCA  GSP          2000    1955.0      13.0      2008.0   \n",
       "\n",
       "   wheels_on  taxi_in  crs_arr_time  ...  crs_elapsed_time  \\\n",
       "0     1253.0      6.0          1152  ...               177   \n",
       "1     2248.0     20.0          2311  ...                74   \n",
       "2     1328.0      3.0          1325  ...                94   \n",
       "3     1137.0      3.0          1126  ...                77   \n",
       "4     2120.0      2.0          2134  ...                94   \n",
       "\n",
       "   actual_elapsed_time  air_time  distance  dep_condition  arr_condition  \\\n",
       "0                183.0     152.0       911       Overcast  Partly cloudy   \n",
       "1                 70.0      40.0       157         Cloudy          Sunny   \n",
       "2                 79.0      69.0       313          Sunny          Sunny   \n",
       "3                 87.0      52.0       313          Sunny          Sunny   \n",
       "4                 87.0      72.0       396          Sunny  Partly cloudy   \n",
       "\n",
       "  month average_seats  average_passengers  avg_passenger_capacity_usage  \n",
       "0     1   1002.000000          777.666667                      0.776114  \n",
       "1     1   6327.333333         4898.333333                      0.774154  \n",
       "2     1   3516.500000         2697.250000                      0.767027  \n",
       "3     1   3460.000000         2494.500000                      0.720954  \n",
       "4     1   1511.000000          847.333333                      0.560777  \n",
       "\n",
       "[5 rows x 22 columns]"
      ]
     },
     "execution_count": 11,
     "metadata": {},
     "output_type": "execute_result"
    }
   ],
   "source": [
    "flights.head()"
   ]
  },
  {
   "cell_type": "code",
   "execution_count": 15,
   "id": "ffceb33f-9e47-48e0-90ff-cf3054a2c614",
   "metadata": {},
   "outputs": [],
   "source": [
    "flights= flights.dropna()\n"
   ]
  },
  {
   "cell_type": "code",
   "execution_count": 16,
   "id": "40a35635-c153-46d5-8121-d2ed8524d314",
   "metadata": {},
   "outputs": [],
   "source": [
    "flights= flights.reset_index(drop=True)\n"
   ]
  },
  {
   "cell_type": "code",
   "execution_count": 17,
   "id": "e1d7aabb-726a-4c82-8256-c34ce0817c74",
   "metadata": {},
   "outputs": [],
   "source": [
    "delays = flights['arr_delay']"
   ]
  },
  {
   "cell_type": "code",
   "execution_count": 18,
   "id": "3b8ee4fb-3191-416b-a041-d383156e5db8",
   "metadata": {},
   "outputs": [],
   "source": [
    "flights = flights.drop(columns = 'arr_delay')"
   ]
  },
  {
   "cell_type": "code",
   "execution_count": 22,
   "id": "e2b8db5e-125a-442c-aa7e-98cd2f54faf1",
   "metadata": {},
   "outputs": [
    {
     "data": {
      "text/plain": [
       "14.48021305550799"
      ]
     },
     "execution_count": 22,
     "metadata": {},
     "output_type": "execute_result"
    }
   ],
   "source": [
    "delays.mean()"
   ]
  },
  {
   "cell_type": "code",
   "execution_count": null,
   "id": "ae4dfad3-2b2e-41dc-8401-65c9ef3c51b5",
   "metadata": {},
   "outputs": [],
   "source": []
  },
  {
   "cell_type": "code",
   "execution_count": 21,
   "id": "55fe2262-29bb-449e-9d52-1b056eee92c6",
   "metadata": {},
   "outputs": [],
   "source": [
    "delays = delays.clip(lower=0)"
   ]
  },
  {
   "cell_type": "code",
   "execution_count": 23,
   "id": "a99031ce-cb6f-405e-84f2-fdb3f01e2fe2",
   "metadata": {},
   "outputs": [],
   "source": [
    "y = delays"
   ]
  },
  {
   "cell_type": "code",
   "execution_count": 23,
   "id": "4c73040c-d9c3-488b-9c4a-05fe4c9a0fa9",
   "metadata": {},
   "outputs": [
    {
     "data": {
      "text/plain": [
       "op_unique_carrier                object\n",
       "origin                           object\n",
       "dest                             object\n",
       "crs_dep_time                      int64\n",
       "dep_time                        float64\n",
       "taxi_out                        float64\n",
       "wheels_off                      float64\n",
       "wheels_on                       float64\n",
       "taxi_in                         float64\n",
       "crs_arr_time                      int64\n",
       "arr_time                        float64\n",
       "crs_elapsed_time                  int64\n",
       "actual_elapsed_time             float64\n",
       "air_time                        float64\n",
       "distance                          int64\n",
       "dep_condition                    object\n",
       "arr_condition                    object\n",
       "month                             int64\n",
       "average_seats                   float64\n",
       "average_passengers              float64\n",
       "avg_passenger_capacity_usage    float64\n",
       "dtype: object"
      ]
     },
     "execution_count": 23,
     "metadata": {},
     "output_type": "execute_result"
    }
   ],
   "source": [
    "flights.dtypes"
   ]
  },
  {
   "cell_type": "code",
   "execution_count": 16,
   "id": "71acbd45-b0ed-4a91-85fd-3f5d3519cdc0",
   "metadata": {},
   "outputs": [
    {
     "data": {
      "text/plain": [
       "0         67.0\n",
       "1          0.0\n",
       "2          6.0\n",
       "3         14.0\n",
       "4          0.0\n",
       "          ... \n",
       "119995    25.0\n",
       "119996    15.0\n",
       "119997     6.0\n",
       "119998     0.0\n",
       "119999    14.0\n",
       "Name: arr_delay, Length: 117705, dtype: float64"
      ]
     },
     "execution_count": 16,
     "metadata": {},
     "output_type": "execute_result"
    }
   ],
   "source": []
  },
  {
   "cell_type": "code",
   "execution_count": 24,
   "id": "9db0f38f-f783-4053-a6c0-b0850372e179",
   "metadata": {},
   "outputs": [],
   "source": [
    "flight_obj = flights.select_dtypes('object')"
   ]
  },
  {
   "cell_type": "code",
   "execution_count": 25,
   "id": "207ae4cc-aebd-48e3-a9f3-1e4c02eee13d",
   "metadata": {},
   "outputs": [],
   "source": [
    "flight_dummies = pd.get_dummies(flight_obj)"
   ]
  },
  {
   "cell_type": "code",
   "execution_count": 26,
   "id": "61007340-1815-4c45-b81f-51ceb01fcc17",
   "metadata": {},
   "outputs": [],
   "source": [
    "flights_num = pd.merge(flights, flight_dummies, left_index=True, right_index=True)"
   ]
  },
  {
   "cell_type": "code",
   "execution_count": 27,
   "id": "6aebc858-cc9d-4e98-bf77-53f2c740274c",
   "metadata": {},
   "outputs": [],
   "source": [
    "flights_num = flights_num.select_dtypes(exclude=['object'])"
   ]
  },
  {
   "cell_type": "code",
   "execution_count": 28,
   "id": "6bc37c19-5045-4325-a341-aa4e39f031c1",
   "metadata": {},
   "outputs": [],
   "source": [
    "scaler = StandardScaler()"
   ]
  },
  {
   "cell_type": "code",
   "execution_count": 29,
   "id": "8c9995fc-5968-47b3-937a-99ddc84c3ebf",
   "metadata": {},
   "outputs": [
    {
     "data": {
      "text/plain": [
       "StandardScaler()"
      ]
     },
     "execution_count": 29,
     "metadata": {},
     "output_type": "execute_result"
    }
   ],
   "source": [
    "scaler.fit(flights_num)"
   ]
  },
  {
   "cell_type": "code",
   "execution_count": 30,
   "id": "87f3354b-46e3-4201-ba99-4dcd92e148fe",
   "metadata": {},
   "outputs": [],
   "source": [
    "flights_scaled = scaler.transform(flights_num)"
   ]
  },
  {
   "cell_type": "code",
   "execution_count": 31,
   "id": "2ac24af8-a581-47f4-ab1a-41fc23c3e0ae",
   "metadata": {},
   "outputs": [
    {
     "data": {
      "text/plain": [
       "(110957, 795)"
      ]
     },
     "execution_count": 31,
     "metadata": {},
     "output_type": "execute_result"
    }
   ],
   "source": [
    "flights_scaled.shape"
   ]
  },
  {
   "cell_type": "code",
   "execution_count": 32,
   "id": "30496490-6e7a-4277-a379-faaee94205fb",
   "metadata": {},
   "outputs": [],
   "source": [
    "\n",
    "X_train, X_test, y_train, y_test= train_test_split(flights_scaled, y, test_size=0.2, random_state=7)"
   ]
  },
  {
   "cell_type": "code",
   "execution_count": 44,
   "id": "8b3c7118-9d79-438c-818d-7363afc1e152",
   "metadata": {},
   "outputs": [
    {
     "data": {
      "text/plain": [
       "(11779, 749)"
      ]
     },
     "execution_count": 44,
     "metadata": {},
     "output_type": "execute_result"
    }
   ],
   "source": [
    "flights_num.shape"
   ]
  },
  {
   "cell_type": "code",
   "execution_count": 34,
   "id": "055f76ac-5508-433b-96d0-fcf915ce9898",
   "metadata": {},
   "outputs": [
    {
     "data": {
      "text/plain": [
       "PCA(n_components=15)"
      ]
     },
     "execution_count": 34,
     "metadata": {},
     "output_type": "execute_result"
    }
   ],
   "source": [
    "pca.fit(X_train)"
   ]
  },
  {
   "cell_type": "code",
   "execution_count": 33,
   "id": "f65075fe-11a1-4492-a703-302df60d50c2",
   "metadata": {},
   "outputs": [],
   "source": [
    "pca = PCA(n_components=15)"
   ]
  },
  {
   "cell_type": "code",
   "execution_count": 36,
   "id": "2d66f739-ef2a-4de1-a01e-61972caa4221",
   "metadata": {},
   "outputs": [],
   "source": [
    "X_Train_PCA = pca.transform(X_train)"
   ]
  },
  {
   "cell_type": "code",
   "execution_count": 37,
   "id": "dd83f2af-ba56-410f-b5b2-f7d12f448ecf",
   "metadata": {},
   "outputs": [],
   "source": [
    "X_test_PCA = pca.transform(X_test)"
   ]
  },
  {
   "cell_type": "code",
   "execution_count": 33,
   "id": "ff06a4a3-472f-4be6-8069-afa9a386351a",
   "metadata": {},
   "outputs": [],
   "source": [
    "regr = SVR(C= 10, epsilon= 1, kernel= 'rbf')\n"
   ]
  },
  {
   "cell_type": "code",
   "execution_count": null,
   "id": "eb05ee2d-e58a-4023-976c-f5440637677e",
   "metadata": {},
   "outputs": [],
   "source": [
    "regr.fit(X_train,y_train)"
   ]
  },
  {
   "cell_type": "code",
   "execution_count": null,
   "id": "f5bccded-cca0-4b54-ba49-8ff1a3d02b2d",
   "metadata": {},
   "outputs": [],
   "source": [
    "y_pred = regr.predict()"
   ]
  },
  {
   "cell_type": "code",
   "execution_count": 32,
   "id": "ca27d2e4-cb78-452e-b745-c50cf8e1a076",
   "metadata": {},
   "outputs": [],
   "source": [
    "parameters = {'kernel':('poly', 'rbf'), 'C':[0.001, 0.1,1, 10],'epsilon': [0.01, 0.05,0.1,0.2,0.3,1]}"
   ]
  },
  {
   "cell_type": "code",
   "execution_count": 33,
   "id": "da3f9e60-7ba6-4740-acb0-85916bb60894",
   "metadata": {},
   "outputs": [],
   "source": [
    "reg_cv = GridSearchCV(regr,parameters)"
   ]
  },
  {
   "cell_type": "code",
   "execution_count": 34,
   "id": "05994f45-d5c1-496a-8ee5-1395f26ba99a",
   "metadata": {},
   "outputs": [
    {
     "data": {
      "text/plain": [
       "GridSearchCV(estimator=SVR(),\n",
       "             param_grid={'C': [0.001, 0.1, 1, 10],\n",
       "                         'epsilon': [0.01, 0.05, 0.1, 0.2, 0.3, 1],\n",
       "                         'kernel': ('poly', 'rbf')})"
      ]
     },
     "execution_count": 34,
     "metadata": {},
     "output_type": "execute_result"
    }
   ],
   "source": [
    "reg_cv.fit(X_train,y_train)"
   ]
  },
  {
   "cell_type": "code",
   "execution_count": 35,
   "id": "492893c0-7db8-42ca-b569-9319b9ce6caa",
   "metadata": {},
   "outputs": [],
   "source": [
    "filename = 'reg_cv.sav'\n",
    "pickle.dump(reg_cv, open(filename, 'wb'))"
   ]
  },
  {
   "cell_type": "code",
   "execution_count": 36,
   "id": "2f241ab1-e770-4644-8ab7-af04fe571f15",
   "metadata": {},
   "outputs": [
    {
     "data": {
      "text/plain": [
       "{'C': 10, 'epsilon': 1, 'kernel': 'rbf'}"
      ]
     },
     "execution_count": 36,
     "metadata": {},
     "output_type": "execute_result"
    }
   ],
   "source": [
    "reg_cv.best_params_"
   ]
  },
  {
   "cell_type": "code",
   "execution_count": 46,
   "id": "631b3ecf-580c-4ebc-9c9c-4f2f1afd71e3",
   "metadata": {},
   "outputs": [],
   "source": [
    "y_pred = regr.predict(X_test)"
   ]
  },
  {
   "cell_type": "code",
   "execution_count": 47,
   "id": "d52d0adc-61e9-4c16-8f0f-996159291e04",
   "metadata": {},
   "outputs": [
    {
     "data": {
      "text/plain": [
       "2866.614501275802"
      ]
     },
     "execution_count": 47,
     "metadata": {},
     "output_type": "execute_result"
    }
   ],
   "source": [
    "mean_squared_error(y_test, y_pred)"
   ]
  },
  {
   "cell_type": "code",
   "execution_count": 48,
   "id": "af885ec4-348c-4ec3-a25f-5ef3f6b9cee8",
   "metadata": {},
   "outputs": [
    {
     "data": {
      "text/plain": [
       "14.493516770478461"
      ]
     },
     "execution_count": 48,
     "metadata": {},
     "output_type": "execute_result"
    }
   ],
   "source": [
    "mean_absolute_error(y_test, y_pred)"
   ]
  },
  {
   "cell_type": "code",
   "execution_count": 49,
   "id": "4d811d1a-7e8c-4f9a-a2d2-676311197044",
   "metadata": {},
   "outputs": [
    {
     "data": {
      "text/plain": [
       "-0.057789413365094466"
      ]
     },
     "execution_count": 49,
     "metadata": {},
     "output_type": "execute_result"
    }
   ],
   "source": [
    "r2_score(y_test, y_pred)"
   ]
  },
  {
   "cell_type": "code",
   "execution_count": 38,
   "id": "8e7daae3-a499-4d54-8c0d-ec4f8718788d",
   "metadata": {},
   "outputs": [],
   "source": [
    "filename = 'svr_test.sav'\n",
    "pickle.dump(regr, open(filename, 'wb'))"
   ]
  },
  {
   "cell_type": "code",
   "execution_count": null,
   "id": "6d6a9c51-db5e-4b2b-9a0e-b170f8d37945",
   "metadata": {},
   "outputs": [],
   "source": [
    "svr = pickle.load(file_handle"
   ]
  },
  {
   "cell_type": "code",
   "execution_count": 47,
   "id": "8d6df45e-3d5a-4266-8612-9cb1cadb1fa9",
   "metadata": {},
   "outputs": [],
   "source": [
    "from sklearn.linear_model import LinearRegression"
   ]
  },
  {
   "cell_type": "code",
   "execution_count": 52,
   "id": "b8fc535c-c48d-40b2-96b8-c9e6991ef15f",
   "metadata": {},
   "outputs": [],
   "source": [
    "lin_reg=LinearRegression()"
   ]
  },
  {
   "cell_type": "code",
   "execution_count": 53,
   "id": "29eb9ec2-851a-47f1-a879-3a66ab62ee6d",
   "metadata": {},
   "outputs": [
    {
     "data": {
      "text/plain": [
       "LinearRegression()"
      ]
     },
     "execution_count": 53,
     "metadata": {},
     "output_type": "execute_result"
    }
   ],
   "source": [
    "lin_reg.fit(X_train,y_train)"
   ]
  },
  {
   "cell_type": "code",
   "execution_count": 55,
   "id": "cbcdeea1-ca21-4d89-971b-09cbd00527e8",
   "metadata": {},
   "outputs": [],
   "source": [
    "y_pred = lin_reg.predict(X_test)"
   ]
  },
  {
   "cell_type": "code",
   "execution_count": 56,
   "id": "00045e89-7bc6-420b-b1cc-f48df256322c",
   "metadata": {},
   "outputs": [
    {
     "data": {
      "text/plain": [
       "672349965696.7395"
      ]
     },
     "execution_count": 56,
     "metadata": {},
     "output_type": "execute_result"
    }
   ],
   "source": [
    "mean_absolute_error(y_test, y_pred)"
   ]
  },
  {
   "cell_type": "code",
   "execution_count": 57,
   "id": "1045c221-6969-4788-8ab7-5e3bc062d42a",
   "metadata": {},
   "outputs": [
    {
     "data": {
      "text/plain": [
       "672349965696.7395"
      ]
     },
     "execution_count": 57,
     "metadata": {},
     "output_type": "execute_result"
    }
   ],
   "source": [
    "mean_absolute_error(y_test, y_pred)"
   ]
  },
  {
   "cell_type": "code",
   "execution_count": 58,
   "id": "5b4d7f48-6455-4aaa-a0c2-77bffa1df52e",
   "metadata": {},
   "outputs": [
    {
     "data": {
      "text/plain": [
       "-9.764910553223133e+23"
      ]
     },
     "execution_count": 58,
     "metadata": {},
     "output_type": "execute_result"
    }
   ],
   "source": [
    "r2_score(y_test, y_pred)"
   ]
  }
 ],
 "metadata": {
  "kernelspec": {
   "display_name": "datasci",
   "language": "python",
   "name": "datasci"
  },
  "language_info": {
   "codemirror_mode": {
    "name": "ipython",
    "version": 3
   },
   "file_extension": ".py",
   "mimetype": "text/x-python",
   "name": "python",
   "nbconvert_exporter": "python",
   "pygments_lexer": "ipython3",
   "version": "3.10.4"
  }
 },
 "nbformat": 4,
 "nbformat_minor": 5
}
